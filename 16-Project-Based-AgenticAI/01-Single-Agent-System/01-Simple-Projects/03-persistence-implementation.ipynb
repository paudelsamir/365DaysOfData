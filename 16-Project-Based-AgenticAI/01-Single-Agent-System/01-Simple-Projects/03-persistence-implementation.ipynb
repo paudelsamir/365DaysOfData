{
 "cells": [
  {
   "cell_type": "code",
   "execution_count": 2,
   "id": "010fcc25",
   "metadata": {},
   "outputs": [],
   "source": [
    "from langgraph.graph import StateGraph, START, END \n",
    "from langgraph.graph.message import add_messages\n",
    "from langchain_core.messages import AIMessage, HumanMessage\n",
    "from langchain_core.prompts import ChatPromptTemplate\n",
    "from langchain_ollama import ChatOllama\n",
    "\n",
    "import datetime, json, os\n"
   ]
  },
  {
   "cell_type": "code",
   "execution_count": 4,
   "id": "0bf9a352",
   "metadata": {},
   "outputs": [],
   "source": [
    "model = ChatOllama(model='llama3.2')"
   ]
  },
  {
   "cell_type": "code",
   "execution_count": 6,
   "id": "a660de7a",
   "metadata": {},
   "outputs": [],
   "source": [
    "def calculator_tool(state):\n",
    "    user_message = state[\"user_message\"].content\n",
    "    try:\n",
    "        result = eval(user_message)\n",
    "        reply = f\"the result of {user_message} is {result}.\"\n",
    "    except Exception as e:\n",
    "        reply = f\"error in calculation: {str(e)}\"\n",
    "    return {\"messages\": add_messages(state[\"messages\"], [AIMessage(content=reply)])}"
   ]
  },
  {
   "cell_type": "code",
   "execution_count": null,
   "id": "f2cf96fb",
   "metadata": {},
   "outputs": [],
   "source": [
    "def time_tool(state):\n",
    "    current_time = datetime.datetime.now().strftime(\"%Y-%m-%d %H:%M:%S\")\n",
    "    return {\"messages\": add_messages(state[\"messages\"], [AIMessage(content=f\"the current date and time is: {current_time}\")])}"
   ]
  },
  {
   "cell_type": "code",
   "execution_count": null,
   "id": "fd0c74ed",
   "metadata": {},
   "outputs": [],
   "source": [
    "def smalltalk_node(state):\n",
    "    response = model.invoke(state[\"messages\"])\n",
    "    return {\"messages\": add_messages(state[\"messages\"], [AIMessage(content=response.content)])}"
   ]
  },
  {
   "cell_type": "code",
   "execution_count": 8,
   "id": "1c4da83d",
   "metadata": {},
   "outputs": [],
   "source": [
    "def router(state):\n",
    "    last_user_message = state[\"user_message\"].content.lower()\n",
    "    if any(k in last_user_message for k in [\"calculate\", \"what is\", \"solve\", \"+\", \"-\", \"*\", \"/\"]):\n",
    "        return \"calculator\"\n",
    "    elif any(k in last_user_message for k in [\"time\", \"date\", \"day\", \"now\"]):\n",
    "        return \"time\"\n",
    "    else:\n",
    "        return \"smalltalk\""
   ]
  },
  {
   "cell_type": "code",
   "execution_count": 18,
   "id": "b2c374ff",
   "metadata": {},
   "outputs": [
    {
     "data": {
      "text/plain": [
       "<langgraph.graph.state.StateGraph at 0x7fa1c25d7750>"
      ]
     },
     "execution_count": 18,
     "metadata": {},
     "output_type": "execute_result"
    }
   ],
   "source": [
    "graph = StateGraph(dict)\n",
    "\n",
    "graph.add_node('calculator', calculator_tool)\n",
    "graph.add_node('time', time_tool)\n",
    "graph.add_node('smalltalk', smalltalk_node)\n",
    "\n",
    "\n",
    "graph.add_conditional_edges(START, router, {\n",
    "    \"calculator\": \"calculator\",\n",
    "    \"time\": \"time\",\n",
    "    \"smalltalk\": \"smalltalk\"\n",
    "})\n",
    "\n",
    "graph.add_edge('calculator', END)\n",
    "graph.add_edge('time', END)\n",
    "graph.add_edge('smalltalk', END)\n",
    "\n",
    "\n"
   ]
  },
  {
   "cell_type": "code",
   "execution_count": 19,
   "id": "72c3cf92",
   "metadata": {},
   "outputs": [],
   "source": [
    "from langgraph.checkpoint.memory import MemorySaver\n"
   ]
  },
  {
   "cell_type": "code",
   "execution_count": 20,
   "id": "c387068c",
   "metadata": {},
   "outputs": [],
   "source": [
    "checkpointer = MemorySaver()\n",
    "app = graph.compile(checkpointer=checkpointer)"
   ]
  },
  {
   "cell_type": "code",
   "execution_count": 23,
   "id": "762c7d7a",
   "metadata": {},
   "outputs": [
    {
     "name": "stdout",
     "output_type": "stream",
     "text": [
      "you: hey i am samir\n",
      "ai: Hello Samir! It's nice to meet you. Is there something I can help you with or would you like to chat?\n",
      "you: what's 3 * 3\n",
      "ai: error in calculation: unterminated string literal (detected at line 1) (<string>, line 1)\n",
      "you: what's 3 plus 3\n",
      "ai: The answer is 6!\n",
      "you: what's my name?\n",
      "ai: You told me earlier, Samir!\n",
      "you: and what about dividing the last number by 2\n",
      "ai: You're referring to the result of \"3 plus 3\", which we established is 6.\n",
      "\n",
      "So, if you divide 6 by 2, the answer would be:\n",
      "\n",
      "6 ÷ 2 = 3\n"
     ]
    },
    {
     "ename": "KeyboardInterrupt",
     "evalue": "Interrupted by user",
     "output_type": "error",
     "traceback": [
      "\u001b[31m---------------------------------------------------------------------------\u001b[39m",
      "\u001b[31mKeyboardInterrupt\u001b[39m                         Traceback (most recent call last)",
      "\u001b[36mCell\u001b[39m\u001b[36m \u001b[39m\u001b[32mIn[23]\u001b[39m\u001b[32m, line 5\u001b[39m\n\u001b[32m      2\u001b[39m state = {\u001b[33m\"\u001b[39m\u001b[33mmessages\u001b[39m\u001b[33m\"\u001b[39m: []}\n\u001b[32m      4\u001b[39m \u001b[38;5;28;01mwhile\u001b[39;00m \u001b[38;5;28;01mTrue\u001b[39;00m:\n\u001b[32m----> \u001b[39m\u001b[32m5\u001b[39m     user_input = \u001b[38;5;28;43minput\u001b[39;49m\u001b[43m(\u001b[49m\u001b[33;43m\"\u001b[39;49m\u001b[33;43myou: \u001b[39;49m\u001b[33;43m\"\u001b[39;49m\u001b[43m)\u001b[49m\n\u001b[32m      6\u001b[39m     \u001b[38;5;28;01mif\u001b[39;00m user_input.lower() == \u001b[33m\"\u001b[39m\u001b[33mexit\u001b[39m\u001b[33m\"\u001b[39m:\n\u001b[32m      7\u001b[39m         \u001b[38;5;28mprint\u001b[39m(\u001b[33m\"\u001b[39m\u001b[33mconversation saved. restart to continue.\u001b[39m\u001b[33m\"\u001b[39m)\n",
      "\u001b[36mFile \u001b[39m\u001b[32m~/Github/365DaysOfData/venv/lib/python3.13/site-packages/ipykernel/kernelbase.py:1275\u001b[39m, in \u001b[36mKernel.raw_input\u001b[39m\u001b[34m(self, prompt)\u001b[39m\n\u001b[32m   1273\u001b[39m     msg = \u001b[33m\"\u001b[39m\u001b[33mraw_input was called, but this frontend does not support input requests.\u001b[39m\u001b[33m\"\u001b[39m\n\u001b[32m   1274\u001b[39m     \u001b[38;5;28;01mraise\u001b[39;00m StdinNotImplementedError(msg)\n\u001b[32m-> \u001b[39m\u001b[32m1275\u001b[39m \u001b[38;5;28;01mreturn\u001b[39;00m \u001b[38;5;28;43mself\u001b[39;49m\u001b[43m.\u001b[49m\u001b[43m_input_request\u001b[49m\u001b[43m(\u001b[49m\n\u001b[32m   1276\u001b[39m \u001b[43m    \u001b[49m\u001b[38;5;28;43mstr\u001b[39;49m\u001b[43m(\u001b[49m\u001b[43mprompt\u001b[49m\u001b[43m)\u001b[49m\u001b[43m,\u001b[49m\n\u001b[32m   1277\u001b[39m \u001b[43m    \u001b[49m\u001b[38;5;28;43mself\u001b[39;49m\u001b[43m.\u001b[49m\u001b[43m_parent_ident\u001b[49m\u001b[43m[\u001b[49m\u001b[33;43m\"\u001b[39;49m\u001b[33;43mshell\u001b[39;49m\u001b[33;43m\"\u001b[39;49m\u001b[43m]\u001b[49m\u001b[43m,\u001b[49m\n\u001b[32m   1278\u001b[39m \u001b[43m    \u001b[49m\u001b[38;5;28;43mself\u001b[39;49m\u001b[43m.\u001b[49m\u001b[43mget_parent\u001b[49m\u001b[43m(\u001b[49m\u001b[33;43m\"\u001b[39;49m\u001b[33;43mshell\u001b[39;49m\u001b[33;43m\"\u001b[39;49m\u001b[43m)\u001b[49m\u001b[43m,\u001b[49m\n\u001b[32m   1279\u001b[39m \u001b[43m    \u001b[49m\u001b[43mpassword\u001b[49m\u001b[43m=\u001b[49m\u001b[38;5;28;43;01mFalse\u001b[39;49;00m\u001b[43m,\u001b[49m\n\u001b[32m   1280\u001b[39m \u001b[43m\u001b[49m\u001b[43m)\u001b[49m\n",
      "\u001b[36mFile \u001b[39m\u001b[32m~/Github/365DaysOfData/venv/lib/python3.13/site-packages/ipykernel/kernelbase.py:1320\u001b[39m, in \u001b[36mKernel._input_request\u001b[39m\u001b[34m(self, prompt, ident, parent, password)\u001b[39m\n\u001b[32m   1317\u001b[39m \u001b[38;5;28;01mexcept\u001b[39;00m \u001b[38;5;167;01mKeyboardInterrupt\u001b[39;00m:\n\u001b[32m   1318\u001b[39m     \u001b[38;5;66;03m# re-raise KeyboardInterrupt, to truncate traceback\u001b[39;00m\n\u001b[32m   1319\u001b[39m     msg = \u001b[33m\"\u001b[39m\u001b[33mInterrupted by user\u001b[39m\u001b[33m\"\u001b[39m\n\u001b[32m-> \u001b[39m\u001b[32m1320\u001b[39m     \u001b[38;5;28;01mraise\u001b[39;00m \u001b[38;5;167;01mKeyboardInterrupt\u001b[39;00m(msg) \u001b[38;5;28;01mfrom\u001b[39;00m\u001b[38;5;250m \u001b[39m\u001b[38;5;28;01mNone\u001b[39;00m\n\u001b[32m   1321\u001b[39m \u001b[38;5;28;01mexcept\u001b[39;00m \u001b[38;5;167;01mException\u001b[39;00m:\n\u001b[32m   1322\u001b[39m     \u001b[38;5;28mself\u001b[39m.log.warning(\u001b[33m\"\u001b[39m\u001b[33mInvalid Message:\u001b[39m\u001b[33m\"\u001b[39m, exc_info=\u001b[38;5;28;01mTrue\u001b[39;00m)\n",
      "\u001b[31mKeyboardInterrupt\u001b[39m: Interrupted by user"
     ]
    }
   ],
   "source": [
    "thread_id = \"chat1\"   # unique id for this conversation\n",
    "state = {\"messages\": []}\n",
    "\n",
    "while True:\n",
    "    user_input = input(\"you: \")\n",
    "    if user_input.lower() == \"exit\":\n",
    "        print(\"conversation saved. restart to continue.\")\n",
    "        break\n",
    "    \n",
    "    # add user message\n",
    "    state[\"messages\"] = add_messages(state[\"messages\"], [HumanMessage(content=user_input)])\n",
    "    state[\"user_message\"] = HumanMessage(content=user_input)\n",
    "    \n",
    "    # run with checkpoint (thread_id ensures continuity)\n",
    "    state = app.invoke(state, config={\"configurable\": {\"thread_id\": thread_id}})\n",
    "    \n",
    "    # print the ai's latest response\n",
    "    print(\"you:\", user_input)\n",
    "    print(\"ai:\", state[\"messages\"][-1].content)"
   ]
  },
  {
   "cell_type": "code",
   "execution_count": null,
   "id": "56c33913",
   "metadata": {},
   "outputs": [],
   "source": []
  }
 ],
 "metadata": {
  "kernelspec": {
   "display_name": "venv",
   "language": "python",
   "name": "python3"
  },
  "language_info": {
   "codemirror_mode": {
    "name": "ipython",
    "version": 3
   },
   "file_extension": ".py",
   "mimetype": "text/x-python",
   "name": "python",
   "nbconvert_exporter": "python",
   "pygments_lexer": "ipython3",
   "version": "3.13.5"
  }
 },
 "nbformat": 4,
 "nbformat_minor": 5
}
