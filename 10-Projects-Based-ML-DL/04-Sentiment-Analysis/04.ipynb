{
 "cells": [
  {
   "cell_type": "code",
   "execution_count": 12,
   "id": "ca51f92e",
   "metadata": {},
   "outputs": [
    {
     "name": "stdout",
     "output_type": "stream",
     "text": [
      "positive -> 0.998 | I love this product!\n",
      "negative -> 0.999 | This is the worst experience I've ever had.\n",
      "negative -> 0.847 | It's okay, not great but not bad.\n",
      "positive -> 0.999 | Absolutely fantastic service.\n",
      "negative -> 0.993 | I wouldn't recommend this to anyone.\n",
      "negative -> 0.905 | fuck you\n",
      "positive -> 0.997 | love you\n"
     ]
    }
   ],
   "source": [
    "import torch\n",
    "from transformers import AutoModel, AutoModelForSequenceClassification, AutoTokenizer\n",
    "\n",
    "model_name = \"checkpoints/bert-base-uncased/checkpoint-13389\"\n",
    "\n",
    "model = AutoModel.from_pretrained(model_name)\n",
    "id2label = {0: \"negative\", 1: \"positive\"}\n",
    "label2id = {\"negative\": 0, \"positive\": 1}\n",
    "\n",
    "model = AutoModelForSequenceClassification.from_pretrained(\n",
    "    model_name,\n",
    "    num_labels=2,\n",
    "    id2label=id2label,\n",
    "    label2id=label2id\n",
    ")\n",
    "model.to(device)\n",
    "model.eval()\n",
    "\n",
    "tokenizer = AutoTokenizer.from_pretrained(model_name, use_fast=True)\n",
    "MAX_LENGTH = 128\n",
    "\n",
    "def predict_sentiment(texts):\n",
    "    if isinstance(texts, str):\n",
    "        texts = [texts]\n",
    "    enc = tokenizer(\n",
    "        texts,\n",
    "        truncation=True,\n",
    "        padding=True,\n",
    "        max_length=MAX_LENGTH,\n",
    "        return_tensors=\"pt\"\n",
    "    )\n",
    "    enc = {k: v.to(device) for k, v in enc.items()}\n",
    "    with torch.no_grad():\n",
    "        outputs = model(**enc)\n",
    "        logits = outputs.logits\n",
    "        probs = torch.softmax(logits, dim=-1)\n",
    "    probs_np = probs.cpu().numpy()\n",
    "    preds = probs_np.argmax(axis=-1)\n",
    "    results = []\n",
    "    for i, idx in enumerate(preds):\n",
    "        results.append({\n",
    "            \"text\": texts[i],\n",
    "            \"pred_label_id\": int(idx),\n",
    "            \"pred_label\": id2label[int(idx)],\n",
    "            \"probabilities\": {\n",
    "                id2label[j]: float(probs_np[i, j]) for j in range(probs_np.shape[1])\n",
    "            }\n",
    "        })\n",
    "    return results\n",
    "\n",
    "examples = [\n",
    "    \"I love this product!\",\n",
    "    \"This is the worst experience I've ever had.\",\n",
    "    \"It's okay, not great but not bad.\",\n",
    "    \"Absolutely fantastic service.\",\n",
    "    \"I wouldn't recommend this to anyone.\",\n",
    "    \"fuck you\",\n",
    "    \"love you\"\n",
    "]\n",
    "\n",
    "for res in predict_sentiment(examples):\n",
    "    print(res[\"pred_label\"], \"->\", round(res[\"probabilities\"][res[\"pred_label\"]], 3), \"|\", res[\"text\"])\n"
   ]
  },
  {
   "cell_type": "code",
   "execution_count": null,
   "id": "3b1711eb",
   "metadata": {},
   "outputs": [],
   "source": []
  }
 ],
 "metadata": {
  "kernelspec": {
   "display_name": "venv",
   "language": "python",
   "name": "python3"
  },
  "language_info": {
   "codemirror_mode": {
    "name": "ipython",
    "version": 3
   },
   "file_extension": ".py",
   "mimetype": "text/x-python",
   "name": "python",
   "nbconvert_exporter": "python",
   "pygments_lexer": "ipython3",
   "version": "3.13.5"
  }
 },
 "nbformat": 4,
 "nbformat_minor": 5
}
