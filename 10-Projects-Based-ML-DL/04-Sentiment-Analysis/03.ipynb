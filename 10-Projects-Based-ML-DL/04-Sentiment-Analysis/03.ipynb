{
 "cells": [
  {
   "cell_type": "code",
   "execution_count": 1,
   "id": "6fb89c57",
   "metadata": {},
   "outputs": [
    {
     "name": "stderr",
     "output_type": "stream",
     "text": [
      "/home/sam/Github/365DaysOfData/venv/lib/python3.13/site-packages/tqdm/auto.py:21: TqdmWarning: IProgress not found. Please update jupyter and ipywidgets. See https://ipywidgets.readthedocs.io/en/stable/user_install.html\n",
      "  from .autonotebook import tqdm as notebook_tqdm\n"
     ]
    }
   ],
   "source": [
    "import numpy\n",
    "import pandas\n",
    "import torch\n",
    "import torch.nn as nn\n",
    "from transformers import AutoModel, AutoTokenizer\n",
    "from sklearn.model_selection import train_test_split\n",
    "from sklearn.metrics import accuracy_score, classification_report\n",
    "from torch.utils.data import DataLoader, Dataset\n",
    "import matplotlib.pyplot as plt\n",
    "import seaborn as sns\n",
    "import transformers\n",
    "from transformers import BertTokenizer, BertForSequenceClassification, Trainer, TrainingArguments"
   ]
  },
  {
   "cell_type": "code",
   "execution_count": 2,
   "id": "6c7620c3",
   "metadata": {},
   "outputs": [],
   "source": [
    "df = pandas.read_csv('data/cleaned_imdb.csv')"
   ]
  },
  {
   "cell_type": "code",
   "execution_count": 3,
   "id": "74d50549",
   "metadata": {},
   "outputs": [
    {
     "data": {
      "text/html": [
       "<div>\n",
       "<style scoped>\n",
       "    .dataframe tbody tr th:only-of-type {\n",
       "        vertical-align: middle;\n",
       "    }\n",
       "\n",
       "    .dataframe tbody tr th {\n",
       "        vertical-align: top;\n",
       "    }\n",
       "\n",
       "    .dataframe thead th {\n",
       "        text-align: right;\n",
       "    }\n",
       "</style>\n",
       "<table border=\"1\" class=\"dataframe\">\n",
       "  <thead>\n",
       "    <tr style=\"text-align: right;\">\n",
       "      <th></th>\n",
       "      <th>review</th>\n",
       "      <th>sentiment</th>\n",
       "      <th>cleaned_review</th>\n",
       "    </tr>\n",
       "  </thead>\n",
       "  <tbody>\n",
       "    <tr>\n",
       "      <th>0</th>\n",
       "      <td>One of the other reviewers has mentioned that ...</td>\n",
       "      <td>positive</td>\n",
       "      <td>one reviewer mention watch 1 Oz episode you ll...</td>\n",
       "    </tr>\n",
       "    <tr>\n",
       "      <th>1</th>\n",
       "      <td>A wonderful little production. &lt;br /&gt;&lt;br /&gt;The...</td>\n",
       "      <td>positive</td>\n",
       "      <td>wonderful little production filming technique ...</td>\n",
       "    </tr>\n",
       "    <tr>\n",
       "      <th>2</th>\n",
       "      <td>I thought this was a wonderful way to spend ti...</td>\n",
       "      <td>positive</td>\n",
       "      <td>think wonderful way spend time hot summer week...</td>\n",
       "    </tr>\n",
       "    <tr>\n",
       "      <th>3</th>\n",
       "      <td>Basically there's a family where a little boy ...</td>\n",
       "      <td>negative</td>\n",
       "      <td>basically there s family little boy Jake think...</td>\n",
       "    </tr>\n",
       "    <tr>\n",
       "      <th>4</th>\n",
       "      <td>Petter Mattei's \"Love in the Time of Money\" is...</td>\n",
       "      <td>positive</td>\n",
       "      <td>petter Matteis Love Time Money visually stunni...</td>\n",
       "    </tr>\n",
       "  </tbody>\n",
       "</table>\n",
       "</div>"
      ],
      "text/plain": [
       "                                              review sentiment  \\\n",
       "0  One of the other reviewers has mentioned that ...  positive   \n",
       "1  A wonderful little production. <br /><br />The...  positive   \n",
       "2  I thought this was a wonderful way to spend ti...  positive   \n",
       "3  Basically there's a family where a little boy ...  negative   \n",
       "4  Petter Mattei's \"Love in the Time of Money\" is...  positive   \n",
       "\n",
       "                                      cleaned_review  \n",
       "0  one reviewer mention watch 1 Oz episode you ll...  \n",
       "1  wonderful little production filming technique ...  \n",
       "2  think wonderful way spend time hot summer week...  \n",
       "3  basically there s family little boy Jake think...  \n",
       "4  petter Matteis Love Time Money visually stunni...  "
      ]
     },
     "execution_count": 3,
     "metadata": {},
     "output_type": "execute_result"
    }
   ],
   "source": [
    "df.head()"
   ]
  },
  {
   "cell_type": "markdown",
   "id": "6f02526d",
   "metadata": {},
   "source": [
    "#### okay basically, yesterday i tried glove embedding and tried sentiment analysis with logistic regression, today i am diving into advance architecture, i will use bert embeddings, and then i will create architecture like BERT finetuning,  Roberta implementation, DistilBert Implementation and even Prompt engineering"
   ]
  },
  {
   "cell_type": "code",
   "execution_count": 4,
   "id": "ad941b54",
   "metadata": {},
   "outputs": [
    {
     "name": "stdout",
     "output_type": "stream",
     "text": [
      "Using CUDA: True\n"
     ]
    }
   ],
   "source": [
    "DEVICE = 0 if torch.cuda.is_available() else -1\n",
    "print(f\"Using CUDA: {torch.cuda.is_available()}\")"
   ]
  },
  {
   "cell_type": "code",
   "execution_count": null,
   "id": "1c676812",
   "metadata": {},
   "outputs": [],
   "source": []
  },
  {
   "cell_type": "code",
   "execution_count": 5,
   "id": "a591f8c6",
   "metadata": {},
   "outputs": [],
   "source": [
    "import random\n",
    "import numpy as np"
   ]
  },
  {
   "cell_type": "code",
   "execution_count": 6,
   "id": "50af279d",
   "metadata": {},
   "outputs": [],
   "source": [
    "SEED = 10\n",
    "np.random.seed(SEED)\n",
    "torch.manual_seed(SEED)\n",
    "if torch.cuda.is_available():\n",
    "    torch.cuda.manual_seed_all(SEED)  # it ensures that the random numbers generated on the GPU are also reproducible, which is important for consistent results across runs."
   ]
  },
  {
   "cell_type": "code",
   "execution_count": 7,
   "id": "77a98f60",
   "metadata": {},
   "outputs": [
    {
     "data": {
      "text/plain": [
       "Index(['review', 'sentiment', 'cleaned_review'], dtype='object')"
      ]
     },
     "execution_count": 7,
     "metadata": {},
     "output_type": "execute_result"
    }
   ],
   "source": [
    "df.columns"
   ]
  },
  {
   "cell_type": "code",
   "execution_count": 8,
   "id": "bb43a834",
   "metadata": {},
   "outputs": [],
   "source": [
    "TEXT_COL = 'cleaned_review'\n",
    "LABEL_COL = 'sentiment'\n"
   ]
  },
  {
   "cell_type": "code",
   "execution_count": 9,
   "id": "dbf27649",
   "metadata": {},
   "outputs": [
    {
     "data": {
      "text/plain": [
       "0    one reviewer mention watch 1 Oz episode you ll...\n",
       "1    wonderful little production filming technique ...\n",
       "2    think wonderful way spend time hot summer week...\n",
       "3    basically there s family little boy Jake think...\n",
       "4    petter Matteis Love Time Money visually stunni...\n",
       "Name: cleaned_review, dtype: object"
      ]
     },
     "execution_count": 9,
     "metadata": {},
     "output_type": "execute_result"
    }
   ],
   "source": [
    "df[TEXT_COL].head()"
   ]
  },
  {
   "cell_type": "code",
   "execution_count": 10,
   "id": "fe976c37",
   "metadata": {},
   "outputs": [],
   "source": [
    "label2id = {'positive': 1, 'negative': 0}\n",
    "id2label = {0: 'negative', 1: 'positive'}\n",
    "df[LABEL_COL] = df[LABEL_COL].map(label2id)"
   ]
  },
  {
   "cell_type": "code",
   "execution_count": 11,
   "id": "90cba61a",
   "metadata": {},
   "outputs": [
    {
     "data": {
      "text/plain": [
       "0        positive\n",
       "1        positive\n",
       "2        positive\n",
       "3        negative\n",
       "4        positive\n",
       "           ...   \n",
       "49577    positive\n",
       "49578    negative\n",
       "49579    negative\n",
       "49580    negative\n",
       "49581    negative\n",
       "Name: sentiment, Length: 49582, dtype: object"
      ]
     },
     "execution_count": 11,
     "metadata": {},
     "output_type": "execute_result"
    }
   ],
   "source": [
    "df[LABEL_COL].map(id2label)"
   ]
  },
  {
   "cell_type": "code",
   "execution_count": 12,
   "id": "0ff6a4ee",
   "metadata": {},
   "outputs": [],
   "source": [
    "df['text'] = df[TEXT_COL].astype(str)"
   ]
  },
  {
   "cell_type": "code",
   "execution_count": 13,
   "id": "7d86417d",
   "metadata": {},
   "outputs": [
    {
     "data": {
      "text/html": [
       "<div>\n",
       "<style scoped>\n",
       "    .dataframe tbody tr th:only-of-type {\n",
       "        vertical-align: middle;\n",
       "    }\n",
       "\n",
       "    .dataframe tbody tr th {\n",
       "        vertical-align: top;\n",
       "    }\n",
       "\n",
       "    .dataframe thead th {\n",
       "        text-align: right;\n",
       "    }\n",
       "</style>\n",
       "<table border=\"1\" class=\"dataframe\">\n",
       "  <thead>\n",
       "    <tr style=\"text-align: right;\">\n",
       "      <th></th>\n",
       "      <th>review</th>\n",
       "      <th>sentiment</th>\n",
       "      <th>cleaned_review</th>\n",
       "      <th>text</th>\n",
       "    </tr>\n",
       "  </thead>\n",
       "  <tbody>\n",
       "    <tr>\n",
       "      <th>0</th>\n",
       "      <td>One of the other reviewers has mentioned that ...</td>\n",
       "      <td>1</td>\n",
       "      <td>one reviewer mention watch 1 Oz episode you ll...</td>\n",
       "      <td>one reviewer mention watch 1 Oz episode you ll...</td>\n",
       "    </tr>\n",
       "    <tr>\n",
       "      <th>1</th>\n",
       "      <td>A wonderful little production. &lt;br /&gt;&lt;br /&gt;The...</td>\n",
       "      <td>1</td>\n",
       "      <td>wonderful little production filming technique ...</td>\n",
       "      <td>wonderful little production filming technique ...</td>\n",
       "    </tr>\n",
       "    <tr>\n",
       "      <th>2</th>\n",
       "      <td>I thought this was a wonderful way to spend ti...</td>\n",
       "      <td>1</td>\n",
       "      <td>think wonderful way spend time hot summer week...</td>\n",
       "      <td>think wonderful way spend time hot summer week...</td>\n",
       "    </tr>\n",
       "    <tr>\n",
       "      <th>3</th>\n",
       "      <td>Basically there's a family where a little boy ...</td>\n",
       "      <td>0</td>\n",
       "      <td>basically there s family little boy Jake think...</td>\n",
       "      <td>basically there s family little boy Jake think...</td>\n",
       "    </tr>\n",
       "    <tr>\n",
       "      <th>4</th>\n",
       "      <td>Petter Mattei's \"Love in the Time of Money\" is...</td>\n",
       "      <td>1</td>\n",
       "      <td>petter Matteis Love Time Money visually stunni...</td>\n",
       "      <td>petter Matteis Love Time Money visually stunni...</td>\n",
       "    </tr>\n",
       "  </tbody>\n",
       "</table>\n",
       "</div>"
      ],
      "text/plain": [
       "                                              review  sentiment  \\\n",
       "0  One of the other reviewers has mentioned that ...          1   \n",
       "1  A wonderful little production. <br /><br />The...          1   \n",
       "2  I thought this was a wonderful way to spend ti...          1   \n",
       "3  Basically there's a family where a little boy ...          0   \n",
       "4  Petter Mattei's \"Love in the Time of Money\" is...          1   \n",
       "\n",
       "                                      cleaned_review  \\\n",
       "0  one reviewer mention watch 1 Oz episode you ll...   \n",
       "1  wonderful little production filming technique ...   \n",
       "2  think wonderful way spend time hot summer week...   \n",
       "3  basically there s family little boy Jake think...   \n",
       "4  petter Matteis Love Time Money visually stunni...   \n",
       "\n",
       "                                                text  \n",
       "0  one reviewer mention watch 1 Oz episode you ll...  \n",
       "1  wonderful little production filming technique ...  \n",
       "2  think wonderful way spend time hot summer week...  \n",
       "3  basically there s family little boy Jake think...  \n",
       "4  petter Matteis Love Time Money visually stunni...  "
      ]
     },
     "execution_count": 13,
     "metadata": {},
     "output_type": "execute_result"
    }
   ],
   "source": [
    "df.head()"
   ]
  },
  {
   "cell_type": "code",
   "execution_count": 14,
   "id": "e0f5ea06",
   "metadata": {},
   "outputs": [],
   "source": [
    "train_df, test_df = train_test_split(df[['cleaned_review', 'sentiment']], test_size=0.2, random_state=SEED, stratify=df['sentiment'])\n",
    "train_df, val_df = train_test_split(train_df, test_size=0.1, random_state=SEED, stratify=train_df['sentiment'])\n",
    "train_df = train_df.rename(columns={'cleaned_review': 'text', 'sentiment': 'label'})\n",
    "test_df = test_df.rename(columns={'cleaned_review': 'text', 'sentiment': 'label'})\n",
    "val_df = val_df.rename(columns={'cleaned_review': 'text', 'sentiment': 'label'})"
   ]
  },
  {
   "cell_type": "code",
   "execution_count": 15,
   "id": "6e63d723",
   "metadata": {},
   "outputs": [
    {
     "data": {
      "text/plain": [
       "(71396, 19834, 7934)"
      ]
     },
     "execution_count": 15,
     "metadata": {},
     "output_type": "execute_result"
    }
   ],
   "source": [
    "train_df.size, test_df.size, val_df.size"
   ]
  },
  {
   "cell_type": "markdown",
   "id": "c5b9dd43",
   "metadata": {},
   "source": [
    "now we are going to make a dataloader"
   ]
  },
  {
   "cell_type": "code",
   "execution_count": 16,
   "id": "7b2ed0c4",
   "metadata": {},
   "outputs": [],
   "source": [
    "import torch\n",
    "import pandas as pd\n",
    "import seaborn as sns\n",
    "import matplotlib.pyplot as plt\n",
    "from typing import Dict, Any\n",
    "from transformers import (\n",
    "    AutoTokenizer,\n",
    "    AutoModelForSequenceClassification,\n",
    "    DataCollatorWithPadding,\n",
    "    Trainer,\n",
    "    TrainingArguments\n",
    ")\n",
    "from sklearn.metrics import accuracy_score, f1_score"
   ]
  },
  {
   "cell_type": "code",
   "execution_count": 17,
   "id": "f997f06f",
   "metadata": {},
   "outputs": [],
   "source": [
    "class TorchTextDataset(torch.utils.data.Dataset):\n",
    "    def __init__(self, encodings, labels):\n",
    "        self.encodings = encodings\n",
    "        self.labels = labels\n",
    "    def __getitem__(self, idx):\n",
    "        item = {k: torch.tensor(v[idx]) for k, v in self.encodings.items()}\n",
    "        item['labels'] = torch.tensor(self.labels[idx])\n",
    "        return item\n",
    "    def __len__(self):\n",
    "        return len(self.labels)\n",
    "\n",
    "def prepare_datasets(model_name: str, max_length: int = 128):\n",
    "    tokenizer = AutoTokenizer.from_pretrained(model_name, use_fast=True)\n",
    "    def tokenize_texts(texts):\n",
    "        return tokenizer(\n",
    "            texts,\n",
    "            truncation=True,\n",
    "            padding=False,   # pad dynamically via DataCollator\n",
    "            max_length=max_length\n",
    "        )\n",
    "    train_enc = tokenize_texts(train_df['text'].tolist())\n",
    "    val_enc   = tokenize_texts(val_df['text'].tolist())\n",
    "    test_enc  = tokenize_texts(test_df['text'].tolist())\n",
    "    train_ds = TorchTextDataset(train_enc, train_df['label'].tolist())\n",
    "    val_ds   = TorchTextDataset(val_enc, val_df['label'].tolist())\n",
    "    test_ds  = TorchTextDataset(test_enc, test_df['label'].tolist())\n",
    "    collator = DataCollatorWithPadding(tokenizer=tokenizer)\n",
    "    return tokenizer, train_ds, val_ds, test_ds, collator\n",
    "\n",
    "def compute_metrics(eval_pred):\n",
    "    logits, labels = eval_pred\n",
    "    preds = logits.argmax(axis=-1)\n",
    "    acc = accuracy_score(labels, preds)\n",
    "    f1  = f1_score(labels, preds, average='weighted')\n",
    "    return {\"accuracy\": acc, \"f1\": f1}"
   ]
  },
  {
   "cell_type": "code",
   "execution_count": 23,
   "id": "72c1feb3",
   "metadata": {},
   "outputs": [],
   "source": [
    "def train_and_eval(model_name, num_epochs=3, batch_size=8, lr=2e-5):\n",
    "    tokenizer, train_ds, val_ds, test_ds, collator = prepare_datasets(model_name)\n",
    "    model = AutoModelForSequenceClassification.from_pretrained(\n",
    "        model_name,\n",
    "        num_labels=2,\n",
    "        id2label=id2label,\n",
    "        label2id=label2id\n",
    "    )\n",
    "\n",
    "    args = TrainingArguments(\n",
    "        output_dir=f\"./checkpoints/{model_name.replace('/', '_')}\",\n",
    "        learning_rate=lr,\n",
    "        per_device_train_batch_size=batch_size,\n",
    "        per_device_eval_batch_size=batch_size,\n",
    "        num_train_epochs=num_epochs,\n",
    "        fp16=torch.cuda.is_available(),\n",
    "        seed=SEED\n",
    "    )\n",
    "\n",
    "    trainer = Trainer(\n",
    "        model=model,\n",
    "        args=args,\n",
    "        train_dataset=train_ds,\n",
    "        eval_dataset=val_ds,\n",
    "        tokenizer=tokenizer,\n",
    "        data_collator=collator,\n",
    "        compute_metrics=compute_metrics,\n",
    "    )\n",
    "\n",
    "    trainer.train()\n",
    "    eval_result = trainer.evaluate(eval_dataset=test_ds)\n",
    "    log_history = trainer.state.log_history\n",
    "\n",
    "    del model\n",
    "    if torch.cuda.is_available():\n",
    "        torch.cuda.empty_cache()\n",
    "\n",
    "    return {\n",
    "        \"model_name\": model_name,\n",
    "        \"test\": eval_result,\n",
    "        \"logs\": log_history\n",
    "    }\n",
    "\n",
    "def plot_learning_curves(log_history, title):\n",
    "    hist = pandas.DataFrame(log_history)\n",
    "    hist = hist.dropna(subset=['step'], how='any')\n",
    "    plt.figure(figsize=(7,4))\n",
    "    if 'loss' in hist.columns:\n",
    "        sns.lineplot(data=hist[hist['loss'].notna()], x='step', y='loss', label='train_loss')\n",
    "    if 'eval_loss' in hist.columns:\n",
    "        sns.lineplot(data=hist[hist['eval_loss'].notna()], x='step', y='eval_loss', label='val_loss')\n",
    "    plt.title(title)\n",
    "    plt.xlabel(\"Steps\")\n",
    "    plt.ylabel(\"Loss\")\n",
    "    plt.legend()\n",
    "    plt.tight_layout()\n",
    "    plt.show()\n"
   ]
  },
  {
   "cell_type": "code",
   "execution_count": 24,
   "id": "693efc33",
   "metadata": {},
   "outputs": [
    {
     "name": "stdout",
     "output_type": "stream",
     "text": [
      "\n",
      "=== Training bert-base-uncased ===\n"
     ]
    },
    {
     "name": "stderr",
     "output_type": "stream",
     "text": [
      "Some weights of BertForSequenceClassification were not initialized from the model checkpoint at bert-base-uncased and are newly initialized: ['classifier.bias', 'classifier.weight']\n",
      "You should probably TRAIN this model on a down-stream task to be able to use it for predictions and inference.\n",
      "/tmp/ipykernel_4180/440385310.py:20: FutureWarning: `tokenizer` is deprecated and will be removed in version 5.0.0 for `Trainer.__init__`. Use `processing_class` instead.\n",
      "  trainer = Trainer(\n"
     ]
    },
    {
     "data": {
      "text/html": [
       "\n",
       "    <div>\n",
       "      \n",
       "      <progress value='13389' max='13389' style='width:300px; height:20px; vertical-align: middle;'></progress>\n",
       "      [13389/13389 29:03, Epoch 3/3]\n",
       "    </div>\n",
       "    <table border=\"1\" class=\"dataframe\">\n",
       "  <thead>\n",
       " <tr style=\"text-align: left;\">\n",
       "      <th>Step</th>\n",
       "      <th>Training Loss</th>\n",
       "    </tr>\n",
       "  </thead>\n",
       "  <tbody>\n",
       "    <tr>\n",
       "      <td>500</td>\n",
       "      <td>0.484500</td>\n",
       "    </tr>\n",
       "    <tr>\n",
       "      <td>1000</td>\n",
       "      <td>0.388800</td>\n",
       "    </tr>\n",
       "    <tr>\n",
       "      <td>1500</td>\n",
       "      <td>0.379200</td>\n",
       "    </tr>\n",
       "    <tr>\n",
       "      <td>2000</td>\n",
       "      <td>0.362100</td>\n",
       "    </tr>\n",
       "    <tr>\n",
       "      <td>2500</td>\n",
       "      <td>0.370900</td>\n",
       "    </tr>\n",
       "    <tr>\n",
       "      <td>3000</td>\n",
       "      <td>0.352100</td>\n",
       "    </tr>\n",
       "    <tr>\n",
       "      <td>3500</td>\n",
       "      <td>0.330500</td>\n",
       "    </tr>\n",
       "    <tr>\n",
       "      <td>4000</td>\n",
       "      <td>0.332300</td>\n",
       "    </tr>\n",
       "    <tr>\n",
       "      <td>4500</td>\n",
       "      <td>0.335100</td>\n",
       "    </tr>\n",
       "    <tr>\n",
       "      <td>5000</td>\n",
       "      <td>0.264200</td>\n",
       "    </tr>\n",
       "    <tr>\n",
       "      <td>5500</td>\n",
       "      <td>0.257500</td>\n",
       "    </tr>\n",
       "    <tr>\n",
       "      <td>6000</td>\n",
       "      <td>0.276200</td>\n",
       "    </tr>\n",
       "    <tr>\n",
       "      <td>6500</td>\n",
       "      <td>0.284700</td>\n",
       "    </tr>\n",
       "    <tr>\n",
       "      <td>7000</td>\n",
       "      <td>0.266400</td>\n",
       "    </tr>\n",
       "    <tr>\n",
       "      <td>7500</td>\n",
       "      <td>0.257800</td>\n",
       "    </tr>\n",
       "    <tr>\n",
       "      <td>8000</td>\n",
       "      <td>0.266400</td>\n",
       "    </tr>\n",
       "    <tr>\n",
       "      <td>8500</td>\n",
       "      <td>0.287800</td>\n",
       "    </tr>\n",
       "    <tr>\n",
       "      <td>9000</td>\n",
       "      <td>0.247400</td>\n",
       "    </tr>\n",
       "    <tr>\n",
       "      <td>9500</td>\n",
       "      <td>0.164500</td>\n",
       "    </tr>\n",
       "    <tr>\n",
       "      <td>10000</td>\n",
       "      <td>0.138500</td>\n",
       "    </tr>\n",
       "    <tr>\n",
       "      <td>10500</td>\n",
       "      <td>0.187500</td>\n",
       "    </tr>\n",
       "    <tr>\n",
       "      <td>11000</td>\n",
       "      <td>0.155100</td>\n",
       "    </tr>\n",
       "    <tr>\n",
       "      <td>11500</td>\n",
       "      <td>0.172300</td>\n",
       "    </tr>\n",
       "    <tr>\n",
       "      <td>12000</td>\n",
       "      <td>0.185500</td>\n",
       "    </tr>\n",
       "    <tr>\n",
       "      <td>12500</td>\n",
       "      <td>0.179700</td>\n",
       "    </tr>\n",
       "    <tr>\n",
       "      <td>13000</td>\n",
       "      <td>0.139600</td>\n",
       "    </tr>\n",
       "  </tbody>\n",
       "</table><p>"
      ],
      "text/plain": [
       "<IPython.core.display.HTML object>"
      ]
     },
     "metadata": {},
     "output_type": "display_data"
    },
    {
     "data": {
      "text/html": [
       "\n",
       "    <div>\n",
       "      \n",
       "      <progress value='1240' max='1240' style='width:300px; height:20px; vertical-align: middle;'></progress>\n",
       "      [1240/1240 00:28]\n",
       "    </div>\n",
       "    "
      ],
      "text/plain": [
       "<IPython.core.display.HTML object>"
      ]
     },
     "metadata": {},
     "output_type": "display_data"
    },
    {
     "name": "stdout",
     "output_type": "stream",
     "text": [
      "Test metrics for bert-base-uncased: {'eval_loss': 0.535345733165741, 'eval_accuracy': 0.892507814863366, 'eval_f1': 0.8925069623290655, 'eval_runtime': 28.5347, 'eval_samples_per_second': 347.541, 'eval_steps_per_second': 43.456, 'epoch': 3.0}\n"
     ]
    },
    {
     "data": {
      "image/png": "[encoded data removed]",
      "text/plain": [
       "<Figure size 700x400 with 1 Axes>"
      ]
     },
     "metadata": {},
     "output_type": "display_data"
    },
    {
     "data": {
      "text/html": [
       "<div>\n",
       "<style scoped>\n",
       "    .dataframe tbody tr th:only-of-type {\n",
       "        vertical-align: middle;\n",
       "    }\n",
       "\n",
       "    .dataframe tbody tr th {\n",
       "        vertical-align: top;\n",
       "    }\n",
       "\n",
       "    .dataframe thead th {\n",
       "        text-align: right;\n",
       "    }\n",
       "</style>\n",
       "<table border=\"1\" class=\"dataframe\">\n",
       "  <thead>\n",
       "    <tr style=\"text-align: right;\">\n",
       "      <th></th>\n",
       "      <th>model</th>\n",
       "      <th>test_accuracy</th>\n",
       "      <th>test_f1</th>\n",
       "      <th>test_loss</th>\n",
       "    </tr>\n",
       "  </thead>\n",
       "  <tbody>\n",
       "    <tr>\n",
       "      <th>0</th>\n",
       "      <td>bert-base-uncased</td>\n",
       "      <td>0.892508</td>\n",
       "      <td>0.892507</td>\n",
       "      <td>0.535346</td>\n",
       "    </tr>\n",
       "  </tbody>\n",
       "</table>\n",
       "</div>"
      ],
      "text/plain": [
       "               model  test_accuracy   test_f1  test_loss\n",
       "0  bert-base-uncased       0.892508  0.892507   0.535346"
      ]
     },
     "execution_count": 24,
     "metadata": {},
     "output_type": "execute_result"
    }
   ],
   "source": [
    "model_names = [\n",
    "    \"bert-base-uncased\",\n",
    "    # \"roberta-base\",\n",
    "    # \"distilbert-base-uncased\",\n",
    "]\n",
    "\n",
    "results = []\n",
    "for name in model_names:\n",
    "    print(f\"\\n=== Training {name} ===\")\n",
    "    res = train_and_eval(name, num_epochs=3, batch_size=8, lr=2e-5)\n",
    "    results.append(res)\n",
    "    print(f\"Test metrics for {name}: {res['test']}\")\n",
    "    plot_learning_curves(res['logs'], title=f\"{name} learning curves\")\n",
    "    \n",
    "# Summary table\n",
    "summary = pandas.DataFrame(\n",
    "    [\n",
    "        {\n",
    "            \"model\": r[\"model_name\"],\n",
    "            \"test_accuracy\": r[\"test\"].get(\"eval_accuracy\"),\n",
    "            \"test_f1\": r[\"test\"].get(\"eval_f1\"),\n",
    "            \"test_loss\": r[\"test\"].get(\"eval_loss\"),\n",
    "        }\n",
    "        for r in results\n",
    "    ]\n",
    ")\n",
    "summary.sort_values(\"test_accuracy\", ascending=False)"
   ]
  }
 ],
 "metadata": {
  "kernelspec": {
   "display_name": "venv",
   "language": "python",
   "name": "python3"
  },
  "language_info": {
   "codemirror_mode": {
    "name": "ipython",
    "version": 3
   },
   "file_extension": ".py",
   "mimetype": "text/x-python",
   "name": "python",
   "nbconvert_exporter": "python",
   "pygments_lexer": "ipython3",
   "version": "3.13.5"
  }
 },
 "nbformat": 4,
 "nbformat_minor": 5
}
