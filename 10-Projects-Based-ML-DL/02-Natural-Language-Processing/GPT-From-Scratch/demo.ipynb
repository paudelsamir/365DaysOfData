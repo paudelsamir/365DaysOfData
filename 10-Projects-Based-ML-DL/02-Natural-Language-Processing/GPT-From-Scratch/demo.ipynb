{
 "cells": [
  {
   "cell_type": "code",
   "execution_count": 12,
   "id": "df724e4f",
   "metadata": {},
   "outputs": [
    {
     "name": "stdout",
     "output_type": "stream",
     "text": [
      "John says Woof to everyone\n",
      "<__main__.Student object at 0x000001FA9AA26D40>\n"
     ]
    }
   ],
   "source": [
    "class Student:\n",
    "\n",
    "    def __init__ (self, name, age):\n",
    "        self.name = name\n",
    "        self.age = age\n",
    "        # self.home = home\n",
    "\n",
    "\n",
    "    def bark(self, to):\n",
    "        self.to = to\n",
    "        print(f\"{self.name} says Woof to {self.to}\")\n",
    "\n",
    "    # def __str__(self):\n",
    "    #     return f\"Student(name={self.name}, age={self.age})\"\n",
    "    \n",
    "student = Student(\"John\", 20)\n",
    "student.bark(\"everyone\")\n",
    "print(student)  # Output: Student(name=John, age=20)\n",
    "\n"
   ]
  },
  {
   "cell_type": "code",
   "execution_count": 49,
   "id": "a13f57c0",
   "metadata": {},
   "outputs": [
    {
     "name": "stdout",
     "output_type": "stream",
     "text": [
      "torch.Size([1, 5])\n"
     ]
    }
   ],
   "source": [
    "import torch\n",
    "import torch.nn as nn\n",
    "\n",
    "class SimpleNet(nn.Module):\n",
    "    def __init__(self):\n",
    "        super().__init__() # Initialize nn.Module\n",
    "        self.fc = nn.Linear(10, 5) # Linear layer with learnable weights\n",
    "        \n",
    "    def __call__(self, *input, **kwargs):\n",
    "    # This is inside nn.Module class\n",
    "        result = self.forward(*input, **kwargs)\n",
    "        return result\n",
    "    \n",
    "    def forward(self, x):\n",
    "        return self.fc(x)\n",
    "        \n",
    "    \n",
    "    def __str__(self):\n",
    "        return f\"SimpleNet with {len(list(self.parameters()))} parameters\"\n",
    "    \n",
    "    def named_parameters(self):\n",
    "        return self.fc.named_parameters()\n",
    "    \n",
    "    def parameters(self):\n",
    "        return self.fc.parameters()\n",
    "    \n",
    "    def to(self, device):\n",
    "        self.fc.to(device)\n",
    "\n",
    "    def cpu(self):\n",
    "        self.fc.cpu()\n",
    "\n",
    "    \n",
    "    \n",
    "net = SimpleNet()\n",
    "x = torch.randn(1, 10)\n",
    "out = net(x) # Calls forward\n",
    "\n",
    "print(out.shape) # Output: torch.Size([1, 5])"
   ]
  },
  {
   "cell_type": "code",
   "execution_count": 44,
   "id": "c1a7532f",
   "metadata": {},
   "outputs": [
    {
     "name": "stdout",
     "output_type": "stream",
     "text": [
      "=== Linear Layer Structure ===\n",
      "Weight shape: torch.Size([5, 10])\n",
      "Bias shape: torch.Size([5])\n",
      "Weight requires_grad: True\n",
      "\n",
      "=== Auto-registered parameters ===\n",
      "weight: shape=torch.Size([5, 10]), requires_grad=True\n",
      "bias: shape=torch.Size([5]), requires_grad=True\n"
     ]
    }
   ],
   "source": [
    "# Let's see what nn.Linear(10, 5) creates\n",
    "linear_layer = nn.Linear(10, 5)\n",
    "print(\"=== Linear Layer Structure ===\")\n",
    "print(f\"Weight shape: {linear_layer.weight.shape}\")\n",
    "print(f\"Bias shape: {linear_layer.bias.shape}\")\n",
    "print(f\"Weight requires_grad: {linear_layer.weight.requires_grad}\")\n",
    "\n",
    "# When you do self.fc = nn.Linear(10, 5), nn.Module automatically detects this\n",
    "net = SimpleNet()\n",
    "print(\"\\n=== Auto-registered parameters ===\")\n",
    "for name, param in net.named_parameters():\n",
    "    print(f\"{name}: shape={param.shape}, requires_grad={param.requires_grad}\")"
   ]
  },
  {
   "cell_type": "code",
   "execution_count": 50,
   "id": "4599c216",
   "metadata": {},
   "outputs": [
    {
     "name": "stdout",
     "output_type": "stream",
     "text": [
      "Are outputs equal? True\n"
     ]
    }
   ],
   "source": [
    "# When you do net(x), this is what actually happens:\n",
    "x = torch.randn(1, 10)\n",
    "\n",
    "# These are equivalent:\n",
    "out1 = net(x)           # Calls net.__call__(x)\n",
    "out2 = net.forward(x)   # Direct forward call\n",
    "\n",
    "print(f\"Are outputs equal? {torch.equal(out1, out2)}\")\n"
   ]
  },
  {
   "cell_type": "code",
   "execution_count": 51,
   "id": "a4df828e",
   "metadata": {},
   "outputs": [
    {
     "name": "stdout",
     "output_type": "stream",
     "text": [
      "=== Forward Pass Trace ===\n",
      "Input shape: torch.Size([1, 10])\n",
      "Input values (first 5): tensor([-2.3046, -0.8263, -0.9221, -1.0448,  0.5828])\n",
      "\n",
      "=== Inside nn.Linear ===\n",
      "Manual calculation shape: torch.Size([1, 5])\n",
      "Network output shape: torch.Size([1, 5])\n",
      "Results match: True\n"
     ]
    }
   ],
   "source": [
    "# Let's trace the forward pass step by step\n",
    "net = SimpleNet()\n",
    "x = torch.randn(1, 10)\n",
    "\n",
    "print(\"=== Forward Pass Trace ===\")\n",
    "print(f\"Input shape: {x.shape}\")\n",
    "print(f\"Input values (first 5): {x[0, :5]}\")\n",
    "\n",
    "# Your forward method does: return self.fc(x)\n",
    "# This calls nn.Linear.forward(x)\n",
    "print(\"\\n=== Inside nn.Linear ===\")\n",
    "weight = net.fc.weight  # Shape: [5, 10]\n",
    "bias = net.fc.bias      # Shape: [5]\n",
    "\n",
    "# Linear transformation: y = xW^T + b\n",
    "# x: [1, 10], W^T: [10, 5], result: [1, 5]\n",
    "manual_output = x @ weight.T + bias\n",
    "network_output = net(x)\n",
    "\n",
    "print(f\"Manual calculation shape: {manual_output.shape}\")\n",
    "print(f\"Network output shape: {network_output.shape}\")\n",
    "print(f\"Results match: {torch.allclose(manual_output, network_output)}\")"
   ]
  },
  {
   "cell_type": "code",
   "execution_count": 53,
   "id": "675c1c8a",
   "metadata": {},
   "outputs": [
    {
     "name": "stdout",
     "output_type": "stream",
     "text": [
      "=== Creating network ===\n",
      "2. nn.Module.__init__ completed\n",
      "1. DebugNet.__init__ called\n",
      "3. Linear layer created and registered\n",
      "\n",
      "=== Running forward pass ===\n",
      "4. forward() called with input shape: torch.Size([1, 10])\n",
      "5. Linear layer processed, output shape: torch.Size([1, 5])\n",
      "\n",
      "=== Final result ===\n",
      "Output: tensor([[0.8299, 0.3776, 0.5377, 0.7951, 0.9097]], grad_fn=<AddmmBackward0>)\n"
     ]
    }
   ],
   "source": [
    "# Let's add some debug prints to see the flow\n",
    "class DebugNet(nn.Module):\n",
    "    def __init__(self):\n",
    "        super().__init__()\n",
    "        print(\"2. nn.Module.__init__ completed\")\n",
    "        print(\"1. DebugNet.__init__ called\")\n",
    "        self.fc = nn.Linear(10, 5)\n",
    "        print(\"3. Linear layer created and registered\")\n",
    "    \n",
    "    def forward(self, x):\n",
    "        print(f\"4. forward() called with input shape: {x.shape}\")\n",
    "        result = self.fc(x)\n",
    "        print(f\"5. Linear layer processed, output shape: {result.shape}\")\n",
    "        return result\n",
    "\n",
    "print(\"=== Creating network ===\")\n",
    "debug_net = DebugNet()\n",
    "\n",
    "print(\"\\n=== Running forward pass ===\")\n",
    "x = torch.randn(1, 10)\n",
    "output = debug_net(x)  # This triggers the __call__ -> forward chain\n",
    "\n",
    "print(f\"\\n=== Final result ===\")\n",
    "print(f\"Output: {output}\")"
   ]
  },
  {
   "cell_type": "code",
   "execution_count": 62,
   "id": "399e8133",
   "metadata": {},
   "outputs": [
    {
     "name": "stdout",
     "output_type": "stream",
     "text": [
      "Unique characters: [' ', '!', ',', 'a', 'b', 'c', 'd', 'e', 'g', 'h', 'i', 'l', 'm', 'n', 'o', 's', 'v']\n"
     ]
    }
   ],
   "source": [
    "import torch\n",
    "import torch.nn as nn\n",
    "import torch.optim as optim\n",
    "import torch.nn.functional as F\n",
    "import matplotlib.pyplot as plt\n",
    "\n",
    "text = \"hello, i am sam, i love vibe coding !!\"\n",
    "chars = sorted(list(set(text)))  # Unique characters\n",
    "vocab_size = len(chars)\n",
    "print(f\"Unique characters: {chars}\")"
   ]
  },
  {
   "cell_type": "code",
   "execution_count": 63,
   "id": "28a8f22f",
   "metadata": {},
   "outputs": [
    {
     "name": "stdout",
     "output_type": "stream",
     "text": [
      "Input shape: torch.Size([30, 8]), Target shape: torch.Size([30])\n"
     ]
    },
    {
     "data": {
      "image/png": "[encoded data removed]",
      "text/plain": [
       "<Figure size 640x480 with 1 Axes>"
      ]
     },
     "metadata": {},
     "output_type": "display_data"
    }
   ],
   "source": [
    "# Mappings\n",
    "char_to_idx = {ch: i for i, ch in enumerate(chars)}\n",
    "idx_to_char = {i: ch for i, ch in enumerate(chars)}\n",
    "\n",
    "# Encode data\n",
    "data = torch.tensor([char_to_idx[ch] for ch in text], dtype=torch.long)\n",
    "block_size = 8  # Context length\n",
    "X, y = [], []\n",
    "for t in range(len(data) - block_size):\n",
    "    X.append(data[t:t+block_size])\n",
    "    y.append(data[t+block_size])\n",
    "X = torch.stack(X)  # Shape: (num_examples, block_size)\n",
    "y = torch.stack(y)  # Shape: (num_examples,)\n",
    "print(f\"Input shape: {X.shape}, Target shape: {y.shape}\")\n",
    "\n",
    "# Visualize encoded data\n",
    "plt.plot(data[:20].numpy(), marker='o')\n",
    "plt.title(\"Encoded Text Sequence\")\n",
    "plt.xlabel(\"Position\")\n",
    "plt.ylabel(\"Token ID\")\n",
    "plt.show()"
   ]
  },
  {
   "cell_type": "code",
   "execution_count": 68,
   "id": "cf773c01",
   "metadata": {},
   "outputs": [
    {
     "name": "stdout",
     "output_type": "stream",
     "text": [
      "tensor([[1., 0., 0., 0.],\n",
      "        [1., 1., 0., 0.],\n",
      "        [1., 1., 1., 0.],\n",
      "        [1., 1., 1., 1.]])\n"
     ]
    }
   ],
   "source": [
    "class SimpleNet(nn.Module):\n",
    "    def __init__(self):\n",
    "        super().__init__()\n",
    "        self.fc = nn.Linear(10, 5)\n",
    "        # Register buffer properly in __init__\n",
    "        self.register_buffer('tril', torch.tril(torch.ones(4, 4)))\n",
    "\n",
    "# Create new instance\n",
    "net = SimpleNet()\n",
    "print(net.tril)  # Now this will work"
   ]
  },
  {
   "cell_type": "code",
   "execution_count": 71,
   "id": "95e4cb0f",
   "metadata": {},
   "outputs": [],
   "source": [
    "class MyNet(nn.Module):\n",
    "    def __init__(self):\n",
    "        super().__init__()  # Essential initialization\n",
    "        self.fc1 = nn.Linear(10, 5)\n",
    "        self.fc2 = nn.Linear(5, 1)\n",
    "    \n",
    "    def forward(self, x):  # Must implement forward()\n",
    "        x = self.fc1(x)\n",
    "        return self.fc2(x)"
   ]
  },
  {
   "cell_type": "code",
   "execution_count": 72,
   "id": "82d98c2f",
   "metadata": {},
   "outputs": [
    {
     "name": "stdout",
     "output_type": "stream",
     "text": [
      "Total parameters: 61\n",
      "fc1.weight: torch.Size([5, 10])\n",
      "fc1.bias: torch.Size([5])\n",
      "fc2.weight: torch.Size([1, 5])\n",
      "fc2.bias: torch.Size([1])\n",
      "FC1 parameters: 2\n"
     ]
    }
   ],
   "source": [
    "net = MyNet()\n",
    "\n",
    "# Get all parameters (for optimizers)\n",
    "params = list(net.parameters())\n",
    "print(f\"Total parameters: {sum(p.numel() for p in params)}\")\n",
    "\n",
    "# Get named parameters (for debugging)\n",
    "for name, param in net.named_parameters():\n",
    "    print(f\"{name}: {param.shape}\")\n",
    "\n",
    "# Get specific layer parameters\n",
    "fc1_params = list(net.fc1.parameters())\n",
    "print(f\"FC1 parameters: {len(fc1_params)}\")"
   ]
  },
  {
   "cell_type": "code",
   "execution_count": 74,
   "id": "e3b7f3a3",
   "metadata": {},
   "outputs": [
    {
     "name": "stdout",
     "output_type": "stream",
     "text": [
      "Model device: cuda:0\n"
     ]
    }
   ],
   "source": [
    "net = MyNet()\n",
    "\n",
    "# Move to GPU/CPU\n",
    "device = 'cuda' if torch.cuda.is_available() else 'cpu'\n",
    "net = net.to(device)\n",
    "\n",
    "# Or specific methods\n",
    "net = net.cuda()  # Move to GPU\n",
    "# net = net.cpu()   # Move to CPU\n",
    "\n",
    "# Check current device\n",
    "print(f\"Model device: {next(net.parameters()).device}\")"
   ]
  },
  {
   "cell_type": "code",
   "execution_count": 78,
   "id": "137bc0f8",
   "metadata": {},
   "outputs": [
    {
     "name": "stdout",
     "output_type": "stream",
     "text": [
      "FC1 output shape: tensor([[-0.0377,  0.4168,  0.4025,  0.1049, -0.0522]])\n",
      "FC2 output shape: torch.Size([1, 1])\n"
     ]
    }
   ],
   "source": [
    "net = MyNet()\n",
    "activations = {}\n",
    "\n",
    "def get_activation(name):\n",
    "    def hook(model, input, output):\n",
    "        activations[name] = output.detach()\n",
    "    return hook\n",
    "\n",
    "# Register forward hooks\n",
    "net.fc1.register_forward_hook(get_activation('fc1'))\n",
    "net.fc2.register_forward_hook(get_activation('fc2'))\n",
    "\n",
    "# Run forward pass\n",
    "x = torch.randn(1, 10)\n",
    "output = net(x)\n",
    "\n",
    "print(f\"FC1 output shape: {activations['fc1']}\")\n",
    "print(f\"FC2 output shape: {activations['fc2'].shape}\")"
   ]
  },
  {
   "cell_type": "code",
   "execution_count": 79,
   "id": "512aedff",
   "metadata": {},
   "outputs": [
    {
     "name": "stdout",
     "output_type": "stream",
     "text": [
      ": MyNet(\n",
      "  (fc1): Linear(in_features=10, out_features=5, bias=True)\n",
      "  (fc2): Linear(in_features=5, out_features=1, bias=True)\n",
      ")\n",
      "fc1: Linear(in_features=10, out_features=5, bias=True)\n",
      "fc2: Linear(in_features=5, out_features=1, bias=True)\n",
      "Linear layer: fc1, input_features: 10\n",
      "Linear layer: fc2, input_features: 5\n"
     ]
    }
   ],
   "source": [
    "net = MyNet()\n",
    "\n",
    "# Get all named modules\n",
    "for name, module in net.named_modules():\n",
    "    print(f\"{name}: {module}\")\n",
    "\n",
    "# Get specific modules\n",
    "for name, module in net.named_modules():\n",
    "    if isinstance(module, nn.Linear):\n",
    "        print(f\"Linear layer: {name}, input_features: {module.in_features}\")"
   ]
  },
  {
   "cell_type": "code",
   "execution_count": 94,
   "id": "27794e85",
   "metadata": {},
   "outputs": [
    {
     "name": "stdout",
     "output_type": "stream",
     "text": [
      "Initial: x=1.00, loss=4.00\n",
      "Gradient dx: tensor([-4.])\n",
      "This tells us: move x in POSITIVE direction to reduce loss\n"
     ]
    }
   ],
   "source": [
    "import torch\n",
    "import torch.nn as nn\n",
    "\n",
    "# Simple example: minimize (x - 3)²\n",
    "x = torch.tensor([1.0], requires_grad=True)\n",
    "target = 3.0\n",
    "\n",
    "# Forward pass\n",
    "prediction = x\n",
    "loss = (prediction - target) ** 2\n",
    "print(f\"Initial: x={x.item():.2f}, loss={loss.item():.2f}\")\n",
    "\n",
    "# Backward pass - compute gradients\n",
    "loss.backward()\n",
    "print(f\"Gradient dx: {x.grad}\")\n",
    "print(f\"This tells us: move x in POSITIVE direction to reduce loss\")"
   ]
  },
  {
   "cell_type": "code",
   "execution_count": 95,
   "id": "ff0ab449",
   "metadata": {},
   "outputs": [
    {
     "name": "stdout",
     "output_type": "stream",
     "text": [
      "=== MANUAL GRADIENT DESCENT ===\n",
      "Epoch 0: Loss = 1.3596\n",
      "Epoch 1: Loss = 1.3266\n",
      "Epoch 2: Loss = 1.2962\n"
     ]
    }
   ],
   "source": [
    "# Manual optimization - what happens inside optimizers\n",
    "net = MyNet()\n",
    "x_train = torch.randn(10, 10)\n",
    "y_train = torch.randn(10, 1)\n",
    "\n",
    "learning_rate = 0.01\n",
    "criterion = nn.MSELoss()\n",
    "\n",
    "print(\"=== MANUAL GRADIENT DESCENT ===\")\n",
    "for epoch in range(3):\n",
    "    # Forward pass\n",
    "    output = net(x_train)\n",
    "    loss = criterion(output, y_train)\n",
    "    \n",
    "    # Backward pass\n",
    "    loss.backward()\n",
    "    \n",
    "    # Manual parameter update\n",
    "    with torch.no_grad(): # why we doing this? becuase we don't want to track these operations\n",
    "        for param in net.parameters():\n",
    "            param -= learning_rate * param.grad  # Update rule\n",
    "            param.grad.zero_()  # Clear gradients manually\n",
    "    \n",
    "    print(f\"Epoch {epoch}: Loss = {loss.item():.4f}\")"
   ]
  },
  {
   "cell_type": "code",
   "execution_count": 104,
   "id": "19f0f78c",
   "metadata": {},
   "outputs": [
    {
     "name": "stdout",
     "output_type": "stream",
     "text": [
      "=== TRAINING LOOP TRACE ===\n",
      "\n",
      "--- EPOCH 0 ---\n",
      "1. Forward pass...\n",
      "   Loss: 1.0797\n",
      "2. Zeroing gradients...\n",
      "   Before zero_grad - fc1.weight.grad: None\n",
      "   After zero_grad - fc1.weight.grad: None\n",
      "3. Backward pass...\n",
      "   After backward - fc1.weight.grad shape: torch.Size([5, 10])\n",
      "   Gradient sample: tensor([ 0.0081, -0.1068, -0.0788])\n",
      "4. Parameter update...\n",
      "   Weight changed: -0.2484 → -0.2584\n",
      "   Change: -0.010000\n",
      "\n",
      "--- EPOCH 1 ---\n",
      "1. Forward pass...\n",
      "   Loss: 1.0397\n",
      "2. Zeroing gradients...\n",
      "   Before zero_grad - fc1.weight.grad: tensor([[ 0.0081, -0.1068, -0.0788,  0.0512, -0.0172,  0.0076, -0.0561, -0.0782,\n",
      "         -0.1522,  0.0731],\n",
      "        [ 0.0093, -0.1223, -0.0902,  0.0586, -0.0197,  0.0087, -0.0642, -0.0895,\n",
      "         -0.1742,  0.0837],\n",
      "        [-0.0086,  0.1127,  0.0831, -0.0540,  0.0181, -0.0081,  0.0591,  0.0825,\n",
      "          0.1605, -0.0771],\n",
      "        [-0.0078,  0.1025,  0.0756, -0.0491,  0.0165, -0.0073,  0.0538,  0.0750,\n",
      "          0.1460, -0.0701],\n",
      "        [ 0.0040, -0.0530, -0.0391,  0.0254, -0.0085,  0.0038, -0.0278, -0.0388,\n",
      "         -0.0755,  0.0363]])\n",
      "   After zero_grad - fc1.weight.grad: None\n",
      "3. Backward pass...\n",
      "   After backward - fc1.weight.grad shape: torch.Size([5, 10])\n",
      "   Gradient sample: tensor([ 0.0055, -0.0934, -0.0648])\n",
      "4. Parameter update...\n",
      "   Weight changed: -0.2584 → -0.2682\n",
      "   Change: -0.009729\n",
      "\n",
      "--- EPOCH 2 ---\n",
      "1. Forward pass...\n",
      "   Loss: 1.0076\n",
      "2. Zeroing gradients...\n",
      "   Before zero_grad - fc1.weight.grad: tensor([[ 0.0055, -0.0934, -0.0648,  0.0374, -0.0085,  0.0040, -0.0472, -0.0677,\n",
      "         -0.1375,  0.0593],\n",
      "        [ 0.0064, -0.1075, -0.0746,  0.0431, -0.0097,  0.0046, -0.0543, -0.0779,\n",
      "         -0.1582,  0.0682],\n",
      "        [-0.0058,  0.0987,  0.0685, -0.0395,  0.0090, -0.0042,  0.0498,  0.0715,\n",
      "          0.1453, -0.0626],\n",
      "        [-0.0053,  0.0895,  0.0621, -0.0358,  0.0081, -0.0038,  0.0452,  0.0648,\n",
      "          0.1317, -0.0567],\n",
      "        [ 0.0026, -0.0446, -0.0309,  0.0179, -0.0040,  0.0019, -0.0225, -0.0323,\n",
      "         -0.0656,  0.0283]])\n",
      "   After zero_grad - fc1.weight.grad: None\n",
      "3. Backward pass...\n",
      "   After backward - fc1.weight.grad shape: torch.Size([5, 10])\n",
      "   Gradient sample: tensor([ 0.0036, -0.0815, -0.0525])\n",
      "4. Parameter update...\n",
      "   Weight changed: -0.2682 → -0.2774\n",
      "   Change: -0.009257\n"
     ]
    }
   ],
   "source": [
    "# Complete training example with detailed tracing\n",
    "net = MyNet()\n",
    "x_train = torch.randn(100, 10)\n",
    "y_train = torch.randn(100, 1)\n",
    "\n",
    "# Setup optimizer and loss\n",
    "optimizer = torch.optim.Adam(net.parameters(), lr=0.01)\n",
    "criterion = nn.MSELoss()\n",
    "\n",
    "print(\"=== TRAINING LOOP TRACE ===\")\n",
    "for epoch in range(3):\n",
    "    print(f\"\\n--- EPOCH {epoch} ---\")\n",
    "    \n",
    "    # 1. Forward pass\n",
    "    print(\"1. Forward pass...\")\n",
    "    output = net(x_train)\n",
    "    loss = criterion(output, y_train)\n",
    "    print(f\"   Loss: {loss.item():.4f}\")\n",
    "    \n",
    "    # 2. Zero gradients (CRUCIAL!)\n",
    "    print(\"2. Zeroing gradients...\")\n",
    "    print(f\"   Before zero_grad - fc1.weight.grad: {net.fc1.weight.grad}\")\n",
    "    optimizer.zero_grad()\n",
    "    print(f\"   After zero_grad - fc1.weight.grad: {net.fc1.weight.grad}\")\n",
    "    \n",
    "    # 3. Backward pass\n",
    "    print(\"3. Backward pass...\")\n",
    "    loss.backward()\n",
    "    print(f\"   After backward - fc1.weight.grad shape: {net.fc1.weight.grad.shape}\")\n",
    "    print(f\"   Gradient sample: {net.fc1.weight.grad[0, :3]}\")\n",
    "    \n",
    "    # 4. Parameter update\n",
    "    print(\"4. Parameter update...\")\n",
    "    old_weight = net.fc1.weight.data[0, 0].clone()\n",
    "    optimizer.step()\n",
    "    new_weight = net.fc1.weight.data[0, 0]\n",
    "    print(f\"   Weight changed: {old_weight:.4f} → {new_weight:.4f}\")\n",
    "    print(f\"   Change: {new_weight - old_weight:.6f}\")"
   ]
  },
  {
   "cell_type": "code",
   "execution_count": 105,
   "id": "5be3acee",
   "metadata": {},
   "outputs": [
    {
     "name": "stdout",
     "output_type": "stream",
     "text": [
      "=== WITHOUT zero_grad() - WRONG! ===\n",
      "Step 0: gradient magnitude = 0.0412\n",
      "Step 1: gradient magnitude = 0.0823\n",
      "Step 2: gradient magnitude = 0.1235\n",
      "\n",
      "=== WITH zero_grad() - CORRECT! ===\n",
      "Step 0: gradient magnitude = 0.0412\n",
      "Step 1: gradient magnitude = 0.0412\n",
      "Step 2: gradient magnitude = 0.0412\n"
     ]
    }
   ],
   "source": [
    "# Demonstration of gradient accumulation problem\n",
    "net = MyNet()\n",
    "x = torch.randn(5, 10)\n",
    "y = torch.randn(5, 1)\n",
    "criterion = nn.MSELoss()\n",
    "\n",
    "print(\"=== WITHOUT zero_grad() - WRONG! ===\")\n",
    "for i in range(3):\n",
    "    output = net(x)\n",
    "    loss = criterion(output, y)\n",
    "    loss.backward()  # No zero_grad()!\n",
    "    \n",
    "    # Gradients keep accumulating\n",
    "    print(f\"Step {i}: gradient magnitude = {net.fc1.weight.grad.abs().mean():.4f}\")\n",
    "\n",
    "print(\"\\n=== WITH zero_grad() - CORRECT! ===\")\n",
    "for i in range(3):\n",
    "    net.zero_grad()  # Clear gradients\n",
    "    output = net(x)\n",
    "    loss = criterion(output, y)\n",
    "    loss.backward()\n",
    "    \n",
    "    print(f\"Step {i}: gradient magnitude = {net.fc1.weight.grad.abs().mean():.4f}\")"
   ]
  },
  {
   "cell_type": "code",
   "execution_count": 106,
   "id": "21b4b954",
   "metadata": {},
   "outputs": [
    {
     "name": "stdout",
     "output_type": "stream",
     "text": [
      "=== COMPARING OPTIMIZERS ===\n",
      "Epoch 0: SGD loss=0.7923, Adam loss=0.7923\n",
      "Epoch 1: SGD loss=0.7365, Adam loss=0.6850\n",
      "Epoch 2: SGD loss=0.6865, Adam loss=0.5892\n"
     ]
    }
   ],
   "source": [
    "# Let's see what different optimizers do\n",
    "net1 = MyNet()\n",
    "net2 = MyNet()\n",
    "\n",
    "# Copy same initial weights\n",
    "net2.load_state_dict(net1.state_dict())\n",
    "\n",
    "# Different optimizers\n",
    "sgd_optimizer = torch.optim.SGD(net1.parameters(), lr=0.01)\n",
    "adam_optimizer = torch.optim.Adam(net2.parameters(), lr=0.01)\n",
    "\n",
    "x = torch.randn(10, 10)\n",
    "y = torch.randn(10, 1)\n",
    "criterion = nn.MSELoss()\n",
    "\n",
    "print(\"=== COMPARING OPTIMIZERS ===\")\n",
    "for epoch in range(3):\n",
    "    # SGD update\n",
    "    sgd_optimizer.zero_grad()\n",
    "    loss1 = criterion(net1(x), y)\n",
    "    loss1.backward()\n",
    "    sgd_optimizer.step()\n",
    "    \n",
    "    # Adam update  \n",
    "    adam_optimizer.zero_grad()\n",
    "    loss2 = criterion(net2(x), y)\n",
    "    loss2.backward()\n",
    "    adam_optimizer.step()\n",
    "    \n",
    "    print(f\"Epoch {epoch}: SGD loss={loss1.item():.4f}, Adam loss={loss2.item():.4f}\")"
   ]
  },
  {
   "cell_type": "code",
   "execution_count": 115,
   "id": "647a2426",
   "metadata": {},
   "outputs": [
    {
     "name": "stdout",
     "output_type": "stream",
     "text": [
      "=== REAL TRAINING EXAMPLE ===\n",
      "Epoch 0: Train Loss=15.3780, Test Loss=14.2444\n",
      "Epoch 20: Train Loss=10.9764, Test Loss=9.8511\n",
      "Epoch 40: Train Loss=4.3871, Test Loss=3.7784\n",
      "Epoch 60: Train Loss=0.6931, Test Loss=0.7205\n",
      "Epoch 80: Train Loss=0.0595, Test Loss=0.0564\n"
     ]
    },
    {
     "data": {
      "image/png": "[encoded data removed]",
      "text/plain": [
       "<Figure size 640x480 with 1 Axes>"
      ]
     },
     "metadata": {},
     "output_type": "display_data"
    },
    {
     "name": "stdout",
     "output_type": "stream",
     "text": [
      "Final train loss: 0.0142\n"
     ]
    }
   ],
   "source": [
    "# Real training example with synthetic data\n",
    "import matplotlib.pyplot as plt\n",
    "\n",
    "# Create synthetic dataset\n",
    "torch.manual_seed(42)\n",
    "n_samples = 1000\n",
    "X = torch.randn(n_samples, 10)\n",
    "# True relationship: y = sum of first 3 features + noise\n",
    "true_weights = torch.zeros(10)\n",
    "true_weights[:3] = torch.tensor([2.0, -1.5, 3.0])\n",
    "y = X @ true_weights + 0.1 * torch.randn(n_samples)\n",
    "y = y.unsqueeze(1)\n",
    "\n",
    "# Split data\n",
    "train_size = 800\n",
    "X_train, X_test = X[:train_size], X[train_size:]\n",
    "y_train, y_test = y[:train_size], y[train_size:]\n",
    "\n",
    "# Model and training setup\n",
    "net = MyNet()\n",
    "optimizer = torch.optim.Adam(net.parameters(), lr=0.01)\n",
    "criterion = nn.MSELoss()\n",
    "\n",
    "# Training loop with tracking\n",
    "losses = []\n",
    "print(\"=== REAL TRAINING EXAMPLE ===\")\n",
    "\n",
    "for epoch in range(100):\n",
    "    # Training\n",
    "    net.train()\n",
    "    optimizer.zero_grad()\n",
    "    \n",
    "    # Forward pass\n",
    "    predictions = net(X_train)\n",
    "    loss = criterion(predictions, y_train)\n",
    "    \n",
    "    # Backward pass\n",
    "    loss.backward()\n",
    "    \n",
    "    # Update parameters\n",
    "    optimizer.step()\n",
    "    \n",
    "    losses.append(loss.item())\n",
    "    \n",
    "    if epoch % 20 == 0:\n",
    "        # Test evaluation\n",
    "        net.eval()\n",
    "        with torch.no_grad():\n",
    "            test_pred = net(X_test)\n",
    "            test_loss = criterion(test_pred, y_test)\n",
    "        \n",
    "        print(f\"Epoch {epoch}: Train Loss={loss.item():.4f}, Test Loss={test_loss.item():.4f}\")\n",
    "\n",
    "# Plot training curve\n",
    "plt.plot(losses)\n",
    "plt.title(\"Training Loss Over Time\")\n",
    "plt.xlabel(\"Epoch\")\n",
    "plt.ylabel(\"Loss\")\n",
    "plt.yscale('log')\n",
    "plt.show()\n",
    "\n",
    "print(f\"Final train loss: {losses[-1]:.4f}\")"
   ]
  },
  {
   "cell_type": "code",
   "execution_count": 118,
   "id": "fc9fdc6f",
   "metadata": {},
   "outputs": [
    {
     "name": "stdout",
     "output_type": "stream",
     "text": [
      "Normal: y1.requires_grad = True\n",
      "No grad: y2.requires_grad = False\n"
     ]
    }
   ],
   "source": [
    "# Prevents PyTorch from tracking operations for gradients\n",
    "x = torch.randn(5, requires_grad=True)\n",
    "\n",
    "# Normal operation - gradients tracked\n",
    "y1 = x * 2\n",
    "print(f\"Normal: y1.requires_grad = {y1.requires_grad}\")  # True\n",
    "\n",
    "# With no_grad - gradients NOT tracked\n",
    "with torch.no_grad():\n",
    "    y2 = x * 2\n",
    "    print(f\"No grad: y2.requires_grad = {y2.requires_grad}\")  # False"
   ]
  },
  {
   "cell_type": "code",
   "execution_count": 119,
   "id": "b9ed83c0",
   "metadata": {},
   "outputs": [
    {
     "name": "stdout",
     "output_type": "stream",
     "text": [
      "After 1st backward: grad = -0.0600\n",
      "After 2nd backward: grad = -0.1201\n",
      "After zero_grad: grad = None\n"
     ]
    }
   ],
   "source": [
    "# Resets accumulated gradients to zero\n",
    "net = MyNet()\n",
    "x = torch.randn(10, 10)\n",
    "y = torch.randn(10, 1)\n",
    "criterion = nn.MSELoss()\n",
    "\n",
    "# First forward/backward pass\n",
    "loss = criterion(net(x), y)\n",
    "loss.backward()\n",
    "print(f\"After 1st backward: grad = {net.fc1.weight.grad[0, 0]:.4f}\")\n",
    "\n",
    "# Second backward without zero_grad - ACCUMULATES!\n",
    "loss = criterion(net(x), y)\n",
    "loss.backward()\n",
    "print(f\"After 2nd backward: grad = {net.fc1.weight.grad[0, 0]:.4f}\")  # Doubled!\n",
    "\n",
    "# Now clear gradients\n",
    "optimizer = torch.optim.Adam(net.parameters())\n",
    "optimizer.zero_grad()\n",
    "print(f\"After zero_grad: grad = {net.fc1.weight.grad}\")  # None or zeros"
   ]
  },
  {
   "cell_type": "code",
   "execution_count": 120,
   "id": "bbb3c485",
   "metadata": {},
   "outputs": [
    {
     "name": "stdout",
     "output_type": "stream",
     "text": [
      "=== TRAINING vs EVALUATION ===\n",
      "Training loss: 1.4259\n",
      "Test loss: 1.2981\n"
     ]
    }
   ],
   "source": [
    "net = MyNet()\n",
    "optimizer = torch.optim.Adam(net.parameters(), lr=0.01)\n",
    "criterion = nn.MSELoss()\n",
    "x_train = torch.randn(100, 10)\n",
    "y_train = torch.randn(100, 1)\n",
    "x_test = torch.randn(50, 10)\n",
    "y_test = torch.randn(50, 1)\n",
    "\n",
    "print(\"=== TRAINING vs EVALUATION ===\")\n",
    "\n",
    "# TRAINING PHASE - Need gradients\n",
    "net.train()\n",
    "optimizer.zero_grad()  # Clear old gradients\n",
    "predictions = net(x_train)\n",
    "loss = criterion(predictions, y_train)\n",
    "loss.backward()  # Compute gradients\n",
    "optimizer.step()  # Update weights\n",
    "print(f\"Training loss: {loss.item():.4f}\")\n",
    "\n",
    "# EVALUATION PHASE - Don't need gradients  \n",
    "net.eval()\n",
    "with torch.no_grad():  # Disable gradient computation\n",
    "    test_predictions = net(x_test)\n",
    "    test_loss = criterion(test_predictions, y_test)\n",
    "print(f\"Test loss: {test_loss.item():.4f}\")"
   ]
  },
  {
   "cell_type": "code",
   "execution_count": null,
   "id": "49f44f55",
   "metadata": {},
   "outputs": [],
   "source": []
  }
 ],
 "metadata": {
  "kernelspec": {
   "display_name": "venv",
   "language": "python",
   "name": "python3"
  },
  "language_info": {
   "codemirror_mode": {
    "name": "ipython",
    "version": 3
   },
   "file_extension": ".py",
   "mimetype": "text/x-python",
   "name": "python",
   "nbconvert_exporter": "python",
   "pygments_lexer": "ipython3",
   "version": "3.10.11"
  }
 },
 "nbformat": 4,
 "nbformat_minor": 5
}
