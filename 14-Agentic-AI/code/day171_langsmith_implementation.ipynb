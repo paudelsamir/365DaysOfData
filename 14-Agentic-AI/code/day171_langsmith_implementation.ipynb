{
 "cells": [
  {
   "cell_type": "code",
   "execution_count": null,
   "id": "51e45446",
   "metadata": {},
   "outputs": [],
   "source": [
    "import os\n",
    "print(os.environ.get(\"LANGSMITH_API_KEY\"))\n",
    "print(os.environ.get(\"LANGSMITH_WORKSPACE_ID\"))\n"
   ]
  },
  {
   "cell_type": "code",
   "execution_count": null,
   "id": "66d2270d",
   "metadata": {},
   "outputs": [],
   "source": [
    "from dotenv import load_dotenv\n",
    "from langchain_ollama import OllamaLLM\n",
    "from langchain_core.prompts import PromptTemplate\n",
    "from langchain_core.output_parsers import StrOutputParser\n",
    "from langchain.callbacks import tracing_v2_enabled\n",
    "import langsmith\n",
    "\n",
    "load_dotenv()\n",
    "\n",
    "\n",
    "# enable tracing with explicit client and project\n",
    "with tracing_v2_enabled(client=langsmith_client, project_name=\"default\"):\n",
    "    prompt = PromptTemplate.from_template(\"{question}\")\n",
    "    model = OllamaLLM(model=\"llama3.2\", temperature=0.7)\n",
    "    parser = StrOutputParser()\n",
    "\n",
    "    # chain: prompt -> model -> parser\n",
    "    chain = prompt | model | parser\n",
    "\n",
    "    # invoke chain\n",
    "    result = chain.invoke({\"question\": \"What is the capital of Peru?\"})\n",
    "    print(result)\n"
   ]
  },
  {
   "cell_type": "code",
   "execution_count": null,
   "id": "38bc5fb9",
   "metadata": {},
   "outputs": [],
   "source": []
  }
 ],
 "metadata": {
  "kernelspec": {
   "display_name": "venv",
   "language": "python",
   "name": "python3"
  },
  "language_info": {
   "codemirror_mode": {
    "name": "ipython",
    "version": 3
   },
   "file_extension": ".py",
   "mimetype": "text/x-python",
   "name": "python",
   "nbconvert_exporter": "python",
   "pygments_lexer": "ipython3",
   "version": "3.13.5"
  }
 },
 "nbformat": 4,
 "nbformat_minor": 5
}
