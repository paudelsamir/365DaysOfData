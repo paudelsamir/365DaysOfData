{
 "cells": [
  {
   "cell_type": "code",
   "execution_count": 3,
   "id": "51e45446",
   "metadata": {},
   "outputs": [
    {
     "name": "stdout",
     "output_type": "stream",
     "text": [
      "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\n",
      "learning-langsmith\n"
     ]
    }
   ],
   "source": [
    "import os\n",
    "print(os.environ.get(\"LANGSMITH_API_KEY\"))\n",
    "print(os.environ.get(\"LANGSMITH_WORKSPACE_ID\"))\n"
   ]
  },
  {
   "cell_type": "code",
   "execution_count": 5,
   "id": "66d2270d",
   "metadata": {},
   "outputs": [
    {
     "name": "stdout",
     "output_type": "stream",
     "text": [
      "The capital of Peru is Lima.\n"
     ]
    },
    {
     "name": "stderr",
     "output_type": "stream",
     "text": [
      "Failed to multipart ingest runs: langsmith.utils.LangSmithError: Failed to POST https://api.smith.langchain.com/runs/multipart in LangSmith API. HTTPError('403 Client Error: Forbidden for url: https://api.smith.langchain.com/runs/multipart', '{\"error\":\"Forbidden\"}\\n')\n"
     ]
    }
   ],
   "source": [
    "from dotenv import load_dotenv\n",
    "from langchain_ollama import OllamaLLM\n",
    "from langchain_core.prompts import PromptTemplate\n",
    "from langchain_core.output_parsers import StrOutputParser\n",
    "from langchain.callbacks import tracing_v2_enabled\n",
    "import langsmith\n",
    "\n",
    "load_dotenv()\n",
    "\n",
    "# create langsmith client explicitly\n",
    "langsmith_client = langsmith.Client(\n",
    "    api_key=\"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\",\n",
    "    api_url=\"https://api.smith.langchain.com\"\n",
    ")\n",
    "\n",
    "# enable tracing with explicit client and project\n",
    "with tracing_v2_enabled(client=langsmith_client, project_name=\"default\"):\n",
    "    prompt = PromptTemplate.from_template(\"{question}\")\n",
    "    model = OllamaLLM(model=\"llama3.2\", temperature=0.7)\n",
    "    parser = StrOutputParser()\n",
    "\n",
    "    # chain: prompt -> model -> parser\n",
    "    chain = prompt | model | parser\n",
    "\n",
    "    # invoke chain\n",
    "    result = chain.invoke({\"question\": \"What is the capital of Peru?\"})\n",
    "    print(result)\n"
   ]
  },
  {
   "cell_type": "code",
   "execution_count": null,
   "id": "38bc5fb9",
   "metadata": {},
   "outputs": [],
   "source": []
  }
 ],
 "metadata": {
  "kernelspec": {
   "display_name": "venv",
   "language": "python",
   "name": "python3"
  },
  "language_info": {
   "codemirror_mode": {
    "name": "ipython",
    "version": 3
   },
   "file_extension": ".py",
   "mimetype": "text/x-python",
   "name": "python",
   "nbconvert_exporter": "python",
   "pygments_lexer": "ipython3",
   "version": "3.13.7"
  }
 },
 "nbformat": 4,
 "nbformat_minor": 5
}
