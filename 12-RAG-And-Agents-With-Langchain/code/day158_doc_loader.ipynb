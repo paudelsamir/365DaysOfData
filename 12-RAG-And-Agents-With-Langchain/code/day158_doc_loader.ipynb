{
 "cells": [
  {
   "cell_type": "markdown",
   "id": "2a9868f6",
   "metadata": {},
   "source": [
    "## Text Loader"
   ]
  },
  {
   "cell_type": "code",
   "execution_count": null,
   "id": "b6312aec",
   "metadata": {},
   "outputs": [],
   "source": [
    "from langchain_community.document_loaders import TextLoader\n",
    "from langchain_openai import ChatOpenAI\n",
    "from langchain_core.output_parsers import StrOutputParser\n",
    "from langchain_core.prompts import PromptTemplate\n",
    "from dotenv import load_dotenv\n",
    "\n",
    "load_dotenv()\n",
    "\n",
    "model = ChatOpenAI()\n",
    "\n",
    "prompt = PromptTemplate(\n",
    "    template='Write a summary for the following poem - \\n {poem}',\n",
    "    input_variables=['poem']\n",
    ")\n",
    "\n",
    "parser = StrOutputParser()\n",
    "\n",
    "loader = TextLoader('cricket.txt', encoding='utf-8')\n",
    "\n",
    "docs = loader.load()\n",
    "\n",
    "print(type(docs))\n",
    "\n",
    "print(len(docs))\n",
    "\n",
    "print(docs[0].page_content)\n",
    "\n",
    "print(docs[0].metadata)\n",
    "\n",
    "chain = prompt | model | parser\n",
    "\n",
    "print(chain.invoke({'poem':docs[0].page_content}))\n"
   ]
  },
  {
   "cell_type": "markdown",
   "id": "f32bc2fd",
   "metadata": {},
   "source": [
    "## Pypdfloader"
   ]
  },
  {
   "cell_type": "code",
   "execution_count": null,
   "id": "98b42ac1",
   "metadata": {},
   "outputs": [],
   "source": [
    "from langchain_community.document_loaders import PyPDFLoader\n",
    "\n",
    "loader = PyPDFLoader('dl-curriculum.pdf')\n",
    "\n",
    "docs = loader.load()\n",
    "\n",
    "print(len(docs))\n",
    "\n",
    "print(docs[0].page_content)\n",
    "print(docs[1].metadata)"
   ]
  },
  {
   "cell_type": "markdown",
   "id": "5aede342",
   "metadata": {},
   "source": [
    "## WebLoader"
   ]
  },
  {
   "cell_type": "code",
   "execution_count": null,
   "id": "e59adf31",
   "metadata": {},
   "outputs": [],
   "source": [
    "from langchain_community.document_loaders import WebBaseLoader\n",
    "from langchain_openai import ChatOpenAI\n",
    "from langchain_core.output_parsers import StrOutputParser\n",
    "from langchain_core.prompts import PromptTemplate\n",
    "from dotenv import load_dotenv\n",
    "\n",
    "load_dotenv()\n",
    "\n",
    "model = ChatOpenAI()\n",
    "\n",
    "prompt = PromptTemplate(\n",
    "    template='Answer the following question \\n {question} from the following text - \\n {text}',\n",
    "    input_variables=['question','text']\n",
    ")\n",
    "\n",
    "parser = StrOutputParser()\n",
    "\n",
    "url = 'https://www.flipkart.com/apple-macbook-air-m2-16-gb-256-gb-ssd-macos-sequoia-mc7x4hn-a/p/itmdc5308fa78421'\n",
    "loader = WebBaseLoader(url)\n",
    "\n",
    "docs = loader.load()\n",
    "\n",
    "\n",
    "chain = prompt | model | parser\n",
    "\n",
    "print(chain.invoke({'question':'What is the prodcut that we are talking about?', 'text':docs[0].page_content}))"
   ]
  },
  {
   "cell_type": "markdown",
   "id": "09d2b3b6",
   "metadata": {},
   "source": [
    "## CSV Loader"
   ]
  },
  {
   "cell_type": "code",
   "execution_count": null,
   "id": "14252611",
   "metadata": {},
   "outputs": [],
   "source": [
    "from langchain_community.document_loaders import CSVLoader\n",
    "\n",
    "loader = CSVLoader(file_path='Social_Network_Ads.csv')\n",
    "\n",
    "docs = loader.load()\n",
    "\n",
    "print(len(docs))\n",
    "print(docs[1])"
   ]
  }
 ],
 "metadata": {
  "language_info": {
   "name": "python"
  }
 },
 "nbformat": 4,
 "nbformat_minor": 5
}
