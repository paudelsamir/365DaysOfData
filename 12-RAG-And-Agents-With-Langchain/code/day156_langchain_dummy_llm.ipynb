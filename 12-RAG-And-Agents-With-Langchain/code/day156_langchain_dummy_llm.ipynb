{
  "cells": [
    {
      "cell_type": "code",
      "execution_count": null,
      "metadata": {
        "id": "X17XNOaKGr45"
      },
      "outputs": [],
      "source": [
        "from abc import ABC, abstractmethod"
      ]
    },
    {
      "cell_type": "code",
      "execution_count": null,
      "metadata": {
        "id": "IFz_UygPG14c"
      },
      "outputs": [],
      "source": [
        "class Runnable(ABC):\n",
        "\n",
        "  @abstractmethod\n",
        "  def invoke(input_data):\n",
        "    pass"
      ]
    },
    {
      "cell_type": "code",
      "execution_count": null,
      "metadata": {
        "id": "WPyqRUB0G2Fl"
      },
      "outputs": [],
      "source": [
        "import random\n",
        "\n",
        "class FakeLLM(Runnable):\n",
        "\n",
        "  def __init__(self):\n",
        "    print('LLM created')\n",
        "\n",
        "  def invoke(self, prompt):\n",
        "    response_list = [\n",
        "        'Delhi is the capital of India',\n",
        "        'IPL is a cricket league',\n",
        "        'AI stands for Artificial Intelligence'\n",
        "    ]\n",
        "\n",
        "    return {'response': random.choice(response_list)}\n",
        "\n",
        "\n",
        "  def predict(self, prompt):\n",
        "\n",
        "    response_list = [\n",
        "        'Delhi is the capital of India',\n",
        "        'IPL is a cricket league',\n",
        "        'AI stands for Artificial Intelligence'\n",
        "    ]\n",
        "\n",
        "    return {'response': random.choice(response_list)}"
      ]
    },
    {
      "cell_type": "code",
      "execution_count": null,
      "metadata": {
        "id": "KDiHeGomG5ek"
      },
      "outputs": [],
      "source": [
        "class FakePromptTemplate(Runnable):\n",
        "\n",
        "  def __init__(self, template, input_variables):\n",
        "    self.template = template\n",
        "    self.input_variables = input_variables\n",
        "\n",
        "  def invoke(self, input_dict):\n",
        "    return self.template.format(**input_dict)\n",
        "\n",
        "  def format(self, input_dict):\n",
        "    return self.template.format(**input_dict)"
      ]
    },
    {
      "cell_type": "code",
      "execution_count": null,
      "metadata": {
        "id": "aN4aoIOXMn4z"
      },
      "outputs": [],
      "source": [
        "class FakeStrOutputParser(Runnable):\n",
        "\n",
        "  def __init__(self):\n",
        "    pass\n",
        "\n",
        "  def invoke(self, input_data):\n",
        "    return input_data['response']"
      ]
    },
    {
      "cell_type": "code",
      "execution_count": null,
      "metadata": {
        "id": "IMiDtySDIIzj"
      },
      "outputs": [],
      "source": [
        "class RunnableConnector(Runnable):\n",
        "\n",
        "  def __init__(self, runnable_list):\n",
        "    self.runnable_list = runnable_list\n",
        "\n",
        "  def invoke(self, input_data):\n",
        "\n",
        "    for runnable in self.runnable_list:\n",
        "      input_data = runnable.invoke(input_data)\n",
        "\n",
        "    return input_data"
      ]
    },
    {
      "cell_type": "code",
      "execution_count": null,
      "metadata": {
        "id": "Y_c_Lk6fMJ8s"
      },
      "outputs": [],
      "source": [
        "template = FakePromptTemplate(\n",
        "    template='Write a {length} poem about {topic}',\n",
        "    input_variables=['length', 'topic']\n",
        ")"
      ]
    },
    {
      "cell_type": "code",
      "execution_count": null,
      "metadata": {
        "colab": {
          "base_uri": "https://localhost:8080/"
        },
        "id": "--x-JA5_MPgg",
        "outputId": "a4acdfc2-67c4-4bd1-b349-8f1e10ee503b"
      },
      "outputs": [],
      "source": [
        "llm = FakeLLM()"
      ]
    },
    {
      "cell_type": "markdown",
      "metadata": {},
      "source": []
    },
    {
      "cell_type": "code",
      "execution_count": null,
      "metadata": {
        "id": "3YC3jTYtM3Pr"
      },
      "outputs": [],
      "source": [
        "parser = FakeStrOutputParser()"
      ]
    },
    {
      "cell_type": "code",
      "execution_count": null,
      "metadata": {
        "id": "vgp10rvlLrOt"
      },
      "outputs": [],
      "source": [
        "chain = RunnableConnector([template, llm, parser])"
      ]
    },
    {
      "cell_type": "code",
      "execution_count": null,
      "metadata": {
        "colab": {
          "base_uri": "https://localhost:8080/",
          "height": 35
        },
        "id": "Vpbx5zxfMYtn",
        "outputId": "758d7517-fcaf-4b88-8b38-29ea96774f06"
      },
      "outputs": [],
      "source": [
        "chain.invoke({'length':'long', 'topic':'india'})"
      ]
    },
    {
      "cell_type": "code",
      "execution_count": null,
      "metadata": {
        "id": "MZ9QqMQhOGIH"
      },
      "outputs": [],
      "source": [
        "template1 = FakePromptTemplate(\n",
        "    template='Write a joke about {topic}',\n",
        "    input_variables=['topic']\n",
        ")"
      ]
    },
    {
      "cell_type": "code",
      "execution_count": null,
      "metadata": {
        "id": "-GPhO_fxPiSp"
      },
      "outputs": [],
      "source": [
        "template2 = FakePromptTemplate(\n",
        "    template='Explain the following joke {response}',\n",
        "    input_variables=['response']\n",
        ")"
      ]
    },
    {
      "cell_type": "code",
      "execution_count": null,
      "metadata": {
        "colab": {
          "base_uri": "https://localhost:8080/"
        },
        "id": "-tl05IwNPsmc",
        "outputId": "db24047e-0bd9-442b-bb49-9f6c428f69a0"
      },
      "outputs": [],
      "source": [
        "llm = FakeLLM()"
      ]
    },
    {
      "cell_type": "code",
      "execution_count": null,
      "metadata": {
        "id": "VQEM8GzBPvTT"
      },
      "outputs": [],
      "source": [
        "parser = FakeStrOutputParser()"
      ]
    },
    {
      "cell_type": "code",
      "execution_count": null,
      "metadata": {
        "id": "l4XLvuL0PxPz"
      },
      "outputs": [],
      "source": [
        "chain1 = RunnableConnector([template1, llm])"
      ]
    },
    {
      "cell_type": "code",
      "execution_count": null,
      "metadata": {
        "id": "mnGtEGWMP6GQ"
      },
      "outputs": [],
      "source": [
        "chain2 = RunnableConnector([template2, llm, parser])"
      ]
    },
    {
      "cell_type": "code",
      "execution_count": null,
      "metadata": {
        "id": "j4-MXTQZQIXF"
      },
      "outputs": [],
      "source": [
        "final_chain = RunnableConnector([chain1, chain2])"
      ]
    },
    {
      "cell_type": "code",
      "execution_count": null,
      "metadata": {
        "colab": {
          "base_uri": "https://localhost:8080/",
          "height": 35
        },
        "id": "lAS8bw7cQP2h",
        "outputId": "60fa1d9f-9bd8-494b-cf4c-713a07bc3121"
      },
      "outputs": [],
      "source": [
        "final_chain.invoke({'topic':'football'})"
      ]
    },
    {
      "cell_type": "code",
      "execution_count": null,
      "metadata": {
        "id": "36djpb9IQT2e"
      },
      "outputs": [],
      "source": []
    }
  ],
  "metadata": {
    "colab": {
      "provenance": []
    },
    "kernelspec": {
      "display_name": "Python 3",
      "name": "python3"
    },
    "language_info": {
      "name": "python"
    }
  },
  "nbformat": 4,
  "nbformat_minor": 0
}
