{
 "cells": [
  {
   "cell_type": "markdown",
   "id": "4451ef8c",
   "metadata": {},
   "source": [
    "## Length based"
   ]
  },
  {
   "cell_type": "code",
   "execution_count": null,
   "id": "8e366807",
   "metadata": {},
   "outputs": [],
   "source": [
    "from langchain.text_splitter import CharacterTextSplitter\n",
    "from langchain_community.document_loaders import PyPDFLoader\n",
    "\n",
    "loader = PyPDFLoader('dl-curriculum.pdf')\n",
    "\n",
    "docs = loader.load()\n",
    "\n",
    "splitter = CharacterTextSplitter(\n",
    "    chunk_size=200,\n",
    "    chunk_overlap=0,\n",
    "    separator=''\n",
    ")\n",
    "\n",
    "result = splitter.split_documents(docs)\n",
    "\n",
    "print(result[1].page_content)"
   ]
  },
  {
   "cell_type": "markdown",
   "id": "79d2d43a",
   "metadata": {},
   "source": [
    "## Text Structure Based"
   ]
  },
  {
   "cell_type": "code",
   "execution_count": null,
   "id": "84acb6de",
   "metadata": {},
   "outputs": [],
   "source": [
    "from langchain.text_splitter import RecursiveCharacterTextSplitter\n",
    "\n",
    "text = \"\"\"\n",
    "Space exploration has led to incredible scientific discoveries. From landing on the Moon to exploring Mars, humanity continues to push the boundaries of what’s possible beyond our planet.\n",
    "\n",
    "These missions have not only expanded our knowledge of the universe but have also contributed to advancements in technology here on Earth. Satellite communications, GPS, and even certain medical imaging techniques trace their roots back to innovations driven by space programs.\n",
    "\"\"\"\n",
    "\n",
    "# Initialize the splitter\n",
    "splitter = RecursiveCharacterTextSplitter(\n",
    "    chunk_size=500,\n",
    "    chunk_overlap=0,\n",
    ")\n",
    "\n",
    "# Perform the split\n",
    "chunks = splitter.split_text(text)\n",
    "\n",
    "print(len(chunks))\n",
    "print(chunks)"
   ]
  },
  {
   "cell_type": "markdown",
   "id": "3db7c221",
   "metadata": {},
   "source": [
    "## Python code splitting"
   ]
  },
  {
   "cell_type": "code",
   "execution_count": null,
   "id": "2efd20c2",
   "metadata": {},
   "outputs": [],
   "source": [
    "from langchain.text_splitter import RecursiveCharacterTextSplitter,Language\n",
    "\n",
    "text = \"\"\"\n",
    "class Student:\n",
    "    def __init__(self, name, age, grade):\n",
    "        self.name = name\n",
    "        self.age = age\n",
    "        self.grade = grade  # Grade is a float (like 8.5 or 9.2)\n",
    "\n",
    "    def get_details(self):\n",
    "        return self.name\"\n",
    "\n",
    "    def is_passing(self):\n",
    "        return self.grade >= 6.0\n",
    "\n",
    "\n",
    "# Example usage\n",
    "student1 = Student(\"Aarav\", 20, 8.2)\n",
    "print(student1.get_details())\n",
    "\n",
    "if student1.is_passing():\n",
    "    print(\"The student is passing.\")\n",
    "else:\n",
    "    print(\"The student is not passing.\")\n",
    "\n",
    "\"\"\"\n",
    "\n",
    "# Initialize the splitter\n",
    "splitter = RecursiveCharacterTextSplitter.from_language(\n",
    "    language=Language.PYTHON,\n",
    "    chunk_size=300,\n",
    "    chunk_overlap=0,\n",
    ")\n",
    "\n",
    "# Perform the split\n",
    "chunks = splitter.split_text(text)\n",
    "\n",
    "print(len(chunks))\n",
    "print(chunks[1])"
   ]
  },
  {
   "cell_type": "markdown",
   "id": "f2006046",
   "metadata": {},
   "source": [
    "## Markdown Splitting"
   ]
  },
  {
   "cell_type": "code",
   "execution_count": null,
   "id": "38e0893f",
   "metadata": {},
   "outputs": [],
   "source": [
    "from langchain.text_splitter import RecursiveCharacterTextSplitter,Language\n",
    "\n",
    "text = \"\"\"\n",
    "# Project Name: Smart Student Tracker\n",
    "\n",
    "A simple Python-based project to manage and track student data, including their grades, age, and academic status.\n",
    "\n",
    "\n",
    "## Features\n",
    "\n",
    "- Add new students with relevant info\n",
    "- View student details\n",
    "- Check if a student is passing\n",
    "- Easily extendable class-based design\n",
    "\n",
    "\n",
    "## 🛠 Tech Stack\n",
    "\n",
    "- Python 3.10+\n",
    "- No external dependencies\n",
    "\n",
    "\n",
    "## Getting Started\n",
    "\n",
    "1. Clone the repo  \n",
    "   ```bash\n",
    "   git clone https://github.com/your-username/student-tracker.git\n",
    "\n",
    "\"\"\"\n",
    "\n",
    "# Initialize the splitter\n",
    "splitter = RecursiveCharacterTextSplitter.from_language(\n",
    "    language=Language.MARKDOWN,\n",
    "    chunk_size=200,\n",
    "    chunk_overlap=0,\n",
    ")\n",
    "\n",
    "# Perform the split\n",
    "chunks = splitter.split_text(text)\n",
    "\n",
    "print(len(chunks))\n",
    "print(chunks[0])"
   ]
  },
  {
   "cell_type": "markdown",
   "id": "f25ebafa",
   "metadata": {},
   "source": [
    "## Semantic Meaning based"
   ]
  },
  {
   "cell_type": "code",
   "execution_count": null,
   "id": "333a17f8",
   "metadata": {},
   "outputs": [],
   "source": [
    "from langchain_experimental.text_splitter import SemanticChunker\n",
    "from langchain_openai.embeddings import OpenAIEmbeddings\n",
    "from dotenv import load_dotenv\n",
    "\n",
    "load_dotenv()\n",
    "\n",
    "text_splitter = SemanticChunker(\n",
    "    OpenAIEmbeddings(), breakpoint_threshold_type=\"standard_deviation\",\n",
    "    breakpoint_threshold_amount=3\n",
    ")\n",
    "\n",
    "sample = \"\"\"\n",
    "Farmers were working hard in the fields, preparing the soil and planting seeds for the next season. The sun was bright, and the air smelled of earth and fresh grass. The Indian Premier League (IPL) is the biggest cricket league in the world. People all over the world watch the matches and cheer for their favourite teams.\n",
    "\n",
    "\n",
    "Terrorism is a big danger to peace and safety. It causes harm to people and creates fear in cities and villages. When such attacks happen, they leave behind pain and sadness. To fight terrorism, we need strong laws, alert security forces, and support from people who care about peace and safety.\n",
    "\"\"\"\n",
    "\n",
    "docs = text_splitter.create_documents([sample])\n",
    "print(len(docs))\n",
    "print(docs)\n"
   ]
  }
 ],
 "metadata": {
  "language_info": {
   "name": "python"
  }
 },
 "nbformat": 4,
 "nbformat_minor": 5
}
