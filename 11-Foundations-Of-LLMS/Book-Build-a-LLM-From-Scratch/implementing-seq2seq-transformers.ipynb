{
 "cells": [
  {
   "cell_type": "code",
   "execution_count": 5,
   "id": "3e867e3b",
   "metadata": {},
   "outputs": [
    {
     "name": "stderr",
     "output_type": "stream",
     "text": [
      "d:\\Github\\365DaysOfData\\venv\\lib\\site-packages\\tqdm\\auto.py:21: TqdmWarning: IProgress not found. Please update jupyter and ipywidgets. See https://ipywidgets.readthedocs.io/en/stable/user_install.html\n",
      "  from .autonotebook import tqdm as notebook_tqdm\n"
     ]
    }
   ],
   "source": [
    "import pandas as pd\n",
    "\n",
    "df = pd.read_csv(\"hf://datasets/nirajandhakal/Devnagari-Romanized-Pair/English-Nepali Text.csv\")"
   ]
  },
  {
   "cell_type": "code",
   "execution_count": 6,
   "id": "fe02330e",
   "metadata": {},
   "outputs": [
    {
     "data": {
      "text/html": [
       "<div>\n",
       "<style scoped>\n",
       "    .dataframe tbody tr th:only-of-type {\n",
       "        vertical-align: middle;\n",
       "    }\n",
       "\n",
       "    .dataframe tbody tr th {\n",
       "        vertical-align: top;\n",
       "    }\n",
       "\n",
       "    .dataframe thead th {\n",
       "        text-align: right;\n",
       "    }\n",
       "</style>\n",
       "<table border=\"1\" class=\"dataframe\">\n",
       "  <thead>\n",
       "    <tr style=\"text-align: right;\">\n",
       "      <th></th>\n",
       "      <th>English</th>\n",
       "      <th>Nepali Translation</th>\n",
       "      <th>Nepali Romanized</th>\n",
       "    </tr>\n",
       "  </thead>\n",
       "  <tbody>\n",
       "    <tr>\n",
       "      <th>0</th>\n",
       "      <td>I am going to the market to buy some vegetable...</td>\n",
       "      <td>म बजारमा केही तरकारी र फलफूल किन्न जाँदैछु।</td>\n",
       "      <td>Ma bajaarma kehi tarkari ra phalaphul kinna ja...</td>\n",
       "    </tr>\n",
       "    <tr>\n",
       "      <th>1</th>\n",
       "      <td>If you need any help, please don't hesitate to...</td>\n",
       "      <td>यदि तपाईंलाई कुनै मद्दत चाहिएमा, कृपया मलाई सो...</td>\n",
       "      <td>Yadi tapaailaai kunai maddat chaahieema, kripa...</td>\n",
       "    </tr>\n",
       "    <tr>\n",
       "      <th>2</th>\n",
       "      <td>I would like to book a room in a hotel near th...</td>\n",
       "      <td>म एयरपोर्ट नजिकैको होटलमा कोठा बुक गर्न चाहन्छु।</td>\n",
       "      <td>Ma airport najikkai ko hotelma kotha book garn...</td>\n",
       "    </tr>\n",
       "    <tr>\n",
       "      <th>3</th>\n",
       "      <td>Could you please tell me how to get to the nea...</td>\n",
       "      <td>कृपया मलाई नजिकको बस स्टेशन कसरी पुग्ने बताउन ...</td>\n",
       "      <td>Kripaya malai najikko bus station kasari pugne...</td>\n",
       "    </tr>\n",
       "    <tr>\n",
       "      <th>4</th>\n",
       "      <td>I am interested in learning more about Nepali ...</td>\n",
       "      <td>मलाई नेपाली संस्कृति र परम्पराको बारेमा थप जान...</td>\n",
       "      <td>Malai Nepali sanskriti ra parampara ko baarema...</td>\n",
       "    </tr>\n",
       "  </tbody>\n",
       "</table>\n",
       "</div>"
      ],
      "text/plain": [
       "                                             English  \\\n",
       "0  I am going to the market to buy some vegetable...   \n",
       "1  If you need any help, please don't hesitate to...   \n",
       "2  I would like to book a room in a hotel near th...   \n",
       "3  Could you please tell me how to get to the nea...   \n",
       "4  I am interested in learning more about Nepali ...   \n",
       "\n",
       "                                  Nepali Translation  \\\n",
       "0        म बजारमा केही तरकारी र फलफूल किन्न जाँदैछु।   \n",
       "1  यदि तपाईंलाई कुनै मद्दत चाहिएमा, कृपया मलाई सो...   \n",
       "2   म एयरपोर्ट नजिकैको होटलमा कोठा बुक गर्न चाहन्छु।   \n",
       "3  कृपया मलाई नजिकको बस स्टेशन कसरी पुग्ने बताउन ...   \n",
       "4  मलाई नेपाली संस्कृति र परम्पराको बारेमा थप जान...   \n",
       "\n",
       "                                    Nepali Romanized  \n",
       "0  Ma bajaarma kehi tarkari ra phalaphul kinna ja...  \n",
       "1  Yadi tapaailaai kunai maddat chaahieema, kripa...  \n",
       "2  Ma airport najikkai ko hotelma kotha book garn...  \n",
       "3  Kripaya malai najikko bus station kasari pugne...  \n",
       "4  Malai Nepali sanskriti ra parampara ko baarema...  "
      ]
     },
     "execution_count": 6,
     "metadata": {},
     "output_type": "execute_result"
    }
   ],
   "source": [
    "df.head()"
   ]
  },
  {
   "cell_type": "markdown",
   "id": "435d0b0c",
   "metadata": {},
   "source": [
    "#### OKAY, let's build seq2seq architecture "
   ]
  },
  {
   "cell_type": "code",
   "execution_count": 7,
   "id": "37af699e",
   "metadata": {},
   "outputs": [
    {
     "data": {
      "text/plain": [
       "[['I am going to the market to buy some vegetables and fruits.',\n",
       "  'म बजारमा केही तरकारी र फलफूल किन्न जाँदैछु।'],\n",
       " [\"If you need any help, please don't hesitate to ask me.\",\n",
       "  'यदि तपाईंलाई कुनै मद्दत चाहिएमा, कृपया मलाई सोध्न नहिचकिचाउनुहोस्।'],\n",
       " ['I would like to book a room in a hotel near the airport.',\n",
       "  'म एयरपोर्ट नजिकैको होटलमा कोठा बुक गर्न चाहन्छु।'],\n",
       " ['Could you please tell me how to get to the nearest bus station?',\n",
       "  'कृपया मलाई नजिकको बस स्टेशन कसरी पुग्ने बताउन सक्नुहुन्छ?'],\n",
       " ['I am interested in learning more about Nepali culture and traditions.',\n",
       "  'मलाई नेपाली संस्कृति र परम्पराको बारेमा थप जान्न मन छ।']]"
      ]
     },
     "execution_count": 7,
     "metadata": {},
     "output_type": "execute_result"
    }
   ],
   "source": [
    "pairs = df[[\"English\", \"Nepali Translation\"]].values.tolist()\n",
    "\n",
    "pairs[0:5]"
   ]
  },
  {
   "cell_type": "code",
   "execution_count": 8,
   "id": "57f6ec06",
   "metadata": {},
   "outputs": [],
   "source": [
    "import random\n",
    "random.seed(42)\n",
    "\n",
    "random.shuffle(pairs)\n",
    "\n",
    "train_pairs = pairs[:int(len(pairs) * 0.8)]\n",
    "val_pairs = pairs[int(len(pairs) * 0.8):int(len(pairs) * 0.9)]"
   ]
  },
  {
   "cell_type": "code",
   "execution_count": 9,
   "id": "d8fa327c",
   "metadata": {},
   "outputs": [
    {
     "data": {
      "text/plain": [
       "[['This period could redefine our economic, cultural, technological aspects.',\n",
       "  'यो अवधिले हाम्रो आर्थिक, सांस्कृतिक, प्राविधिक पक्षहरूलाई पुन: परिभाषित गर्न सक्छ।'],\n",
       " ['This perspective, though now known to be flawed, provided a new direction in the treatment of cancer, and moved beyond the humoral theories.',\n",
       "  'यो परिप्रेक्ष्य, अहिले त्रुटिपूर्ण भएको थाहा भए पनि, क्यान्सरको उपचारमा नयाँ दिशा प्रदान गर्\\u200dयो, र हास्य सिद्धान्तहरूभन्दा पर गयो।'],\n",
       " ['The MS-ring functions as a rotating anchor.',\n",
       "  'MS-रिङले घुम्ने एंकरको रूपमा कार्य गर्दछ।'],\n",
       " ['Expanded Analysis: Unveiling the Krebs Cycle: A Central Hub of Cellular Respiration',\n",
       "  'विस्तारित विश्लेषण: क्रेब्स चक्रको अनावरण: सेलुलर श्वासप्रश्वासको एक केन्द्रीय केन्द्र'],\n",
       " ['Ridley’s quote, \"The two chromosomes no longer have each other’s interests at heart, let alone those of the species as a whole,\" underscores this crucial point. He demonstrates the way that selection at the level of the gene can lead to outcomes that appear contrary to the interests of the organism.',\n",
       "  'रिडलेको उद्धरण, \"दुई क्रोमोजोमहरू अब एकअर्काको हितलाई मनमा राख्दैनन्, प्रजातिहरूको समग्र रूपमा त कुरै छोडौं,\" यस महत्त्वपूर्ण कुरालाई जोड दिन्छ। उहाँले देखाउनुहुन्छ कि जीनको स्तरमा चयनले त्यस्ता परिणामहरू निम्त्याउन सक्छ जुन जीवको हितको विपरीत देखिन्छ।']]"
      ]
     },
     "execution_count": 9,
     "metadata": {},
     "output_type": "execute_result"
    }
   ],
   "source": [
    "train_pairs[0:5]"
   ]
  },
  {
   "cell_type": "code",
   "execution_count": 10,
   "id": "5f038202",
   "metadata": {},
   "outputs": [
    {
     "name": "stdout",
     "output_type": "stream",
     "text": [
      "Requirement already satisfied: spacy in d:\\github\\365daysofdata\\venv\\lib\\site-packages (3.8.7)Note: you may need to restart the kernel to use updated packages.\n",
      "\n",
      "Requirement already satisfied: spacy-legacy<3.1.0,>=3.0.11 in d:\\github\\365daysofdata\\venv\\lib\\site-packages (from spacy) (3.0.12)\n",
      "Requirement already satisfied: spacy-loggers<2.0.0,>=1.0.0 in d:\\github\\365daysofdata\\venv\\lib\\site-packages (from spacy) (1.0.5)\n",
      "Requirement already satisfied: murmurhash<1.1.0,>=0.28.0 in d:\\github\\365daysofdata\\venv\\lib\\site-packages (from spacy) (1.0.13)\n",
      "Requirement already satisfied: cymem<2.1.0,>=2.0.2 in d:\\github\\365daysofdata\\venv\\lib\\site-packages (from spacy) (2.0.11)\n",
      "Requirement already satisfied: preshed<3.1.0,>=3.0.2 in d:\\github\\365daysofdata\\venv\\lib\\site-packages (from spacy) (3.0.10)\n",
      "Requirement already satisfied: thinc<8.4.0,>=8.3.4 in d:\\github\\365daysofdata\\venv\\lib\\site-packages (from spacy) (8.3.6)\n",
      "Requirement already satisfied: wasabi<1.2.0,>=0.9.1 in d:\\github\\365daysofdata\\venv\\lib\\site-packages (from spacy) (1.1.3)\n",
      "Requirement already satisfied: srsly<3.0.0,>=2.4.3 in d:\\github\\365daysofdata\\venv\\lib\\site-packages (from spacy) (2.5.1)\n",
      "Requirement already satisfied: catalogue<2.1.0,>=2.0.6 in d:\\github\\365daysofdata\\venv\\lib\\site-packages (from spacy) (2.0.10)\n",
      "Requirement already satisfied: weasel<0.5.0,>=0.1.0 in d:\\github\\365daysofdata\\venv\\lib\\site-packages (from spacy) (0.4.1)\n",
      "Requirement already satisfied: typer<1.0.0,>=0.3.0 in d:\\github\\365daysofdata\\venv\\lib\\site-packages (from spacy) (0.16.0)\n",
      "Requirement already satisfied: tqdm<5.0.0,>=4.38.0 in d:\\github\\365daysofdata\\venv\\lib\\site-packages (from spacy) (4.67.1)\n",
      "Requirement already satisfied: numpy>=1.19.0 in d:\\github\\365daysofdata\\venv\\lib\\site-packages (from spacy) (2.2.6)\n",
      "Requirement already satisfied: requests<3.0.0,>=2.13.0 in d:\\github\\365daysofdata\\venv\\lib\\site-packages (from spacy) (2.32.4)\n",
      "Requirement already satisfied: pydantic!=1.8,!=1.8.1,<3.0.0,>=1.7.4 in d:\\github\\365daysofdata\\venv\\lib\\site-packages (from spacy) (2.11.7)\n",
      "Requirement already satisfied: jinja2 in d:\\github\\365daysofdata\\venv\\lib\\site-packages (from spacy) (3.1.6)\n",
      "Requirement already satisfied: setuptools in d:\\github\\365daysofdata\\venv\\lib\\site-packages (from spacy) (80.9.0)\n",
      "Requirement already satisfied: packaging>=20.0 in d:\\github\\365daysofdata\\venv\\lib\\site-packages (from spacy) (25.0)\n",
      "Requirement already satisfied: langcodes<4.0.0,>=3.2.0 in d:\\github\\365daysofdata\\venv\\lib\\site-packages (from spacy) (3.5.0)\n",
      "Requirement already satisfied: language-data>=1.2 in d:\\github\\365daysofdata\\venv\\lib\\site-packages (from langcodes<4.0.0,>=3.2.0->spacy) (1.3.0)\n",
      "Requirement already satisfied: annotated-types>=0.6.0 in d:\\github\\365daysofdata\\venv\\lib\\site-packages (from pydantic!=1.8,!=1.8.1,<3.0.0,>=1.7.4->spacy) (0.7.0)\n",
      "Requirement already satisfied: pydantic-core==2.33.2 in d:\\github\\365daysofdata\\venv\\lib\\site-packages (from pydantic!=1.8,!=1.8.1,<3.0.0,>=1.7.4->spacy) (2.33.2)\n",
      "Requirement already satisfied: typing-extensions>=4.12.2 in d:\\github\\365daysofdata\\venv\\lib\\site-packages (from pydantic!=1.8,!=1.8.1,<3.0.0,>=1.7.4->spacy) (4.14.1)\n",
      "Requirement already satisfied: typing-inspection>=0.4.0 in d:\\github\\365daysofdata\\venv\\lib\\site-packages (from pydantic!=1.8,!=1.8.1,<3.0.0,>=1.7.4->spacy) (0.4.1)\n",
      "Requirement already satisfied: charset_normalizer<4,>=2 in d:\\github\\365daysofdata\\venv\\lib\\site-packages (from requests<3.0.0,>=2.13.0->spacy) (3.4.2)\n",
      "Requirement already satisfied: idna<4,>=2.5 in d:\\github\\365daysofdata\\venv\\lib\\site-packages (from requests<3.0.0,>=2.13.0->spacy) (3.10)\n",
      "Requirement already satisfied: urllib3<3,>=1.21.1 in d:\\github\\365daysofdata\\venv\\lib\\site-packages (from requests<3.0.0,>=2.13.0->spacy) (2.5.0)\n",
      "Requirement already satisfied: certifi>=2017.4.17 in d:\\github\\365daysofdata\\venv\\lib\\site-packages (from requests<3.0.0,>=2.13.0->spacy) (2025.7.14)\n",
      "Requirement already satisfied: blis<1.4.0,>=1.3.0 in d:\\github\\365daysofdata\\venv\\lib\\site-packages (from thinc<8.4.0,>=8.3.4->spacy) (1.3.0)\n",
      "Requirement already satisfied: confection<1.0.0,>=0.0.1 in d:\\github\\365daysofdata\\venv\\lib\\site-packages (from thinc<8.4.0,>=8.3.4->spacy) (0.1.5)\n",
      "Requirement already satisfied: colorama in d:\\github\\365daysofdata\\venv\\lib\\site-packages (from tqdm<5.0.0,>=4.38.0->spacy) (0.4.6)\n",
      "Requirement already satisfied: click>=8.0.0 in d:\\github\\365daysofdata\\venv\\lib\\site-packages (from typer<1.0.0,>=0.3.0->spacy) (8.2.1)\n",
      "Requirement already satisfied: shellingham>=1.3.0 in d:\\github\\365daysofdata\\venv\\lib\\site-packages (from typer<1.0.0,>=0.3.0->spacy) (1.5.4)\n",
      "Requirement already satisfied: rich>=10.11.0 in d:\\github\\365daysofdata\\venv\\lib\\site-packages (from typer<1.0.0,>=0.3.0->spacy) (14.1.0)\n",
      "Requirement already satisfied: cloudpathlib<1.0.0,>=0.7.0 in d:\\github\\365daysofdata\\venv\\lib\\site-packages (from weasel<0.5.0,>=0.1.0->spacy) (0.21.1)\n",
      "Requirement already satisfied: smart-open<8.0.0,>=5.2.1 in d:\\github\\365daysofdata\\venv\\lib\\site-packages (from weasel<0.5.0,>=0.1.0->spacy) (7.3.0.post1)\n",
      "Requirement already satisfied: wrapt in d:\\github\\365daysofdata\\venv\\lib\\site-packages (from smart-open<8.0.0,>=5.2.1->weasel<0.5.0,>=0.1.0->spacy) (1.17.2)\n",
      "Requirement already satisfied: marisa-trie>=1.1.0 in d:\\github\\365daysofdata\\venv\\lib\\site-packages (from language-data>=1.2->langcodes<4.0.0,>=3.2.0->spacy) (1.2.1)\n",
      "Requirement already satisfied: markdown-it-py>=2.2.0 in d:\\github\\365daysofdata\\venv\\lib\\site-packages (from rich>=10.11.0->typer<1.0.0,>=0.3.0->spacy) (3.0.0)\n",
      "Requirement already satisfied: pygments<3.0.0,>=2.13.0 in d:\\github\\365daysofdata\\venv\\lib\\site-packages (from rich>=10.11.0->typer<1.0.0,>=0.3.0->spacy) (2.19.2)\n",
      "Requirement already satisfied: mdurl~=0.1 in d:\\github\\365daysofdata\\venv\\lib\\site-packages (from markdown-it-py>=2.2.0->rich>=10.11.0->typer<1.0.0,>=0.3.0->spacy) (0.1.2)\n",
      "Requirement already satisfied: MarkupSafe>=2.0 in d:\\github\\365daysofdata\\venv\\lib\\site-packages (from jinja2->spacy) (3.0.2)\n",
      "Requirement already satisfied: nltk in d:\\github\\365daysofdata\\venv\\lib\\site-packages (3.9.1)\n",
      "Requirement already satisfied: click in d:\\github\\365daysofdata\\venv\\lib\\site-packages (from nltk) (8.2.1)\n",
      "Requirement already satisfied: joblib in d:\\github\\365daysofdata\\venv\\lib\\site-packages (from nltk) (1.5.1)\n",
      "Requirement already satisfied: regex>=2021.8.3 in d:\\github\\365daysofdata\\venv\\lib\\site-packages (from nltk) (2024.11.6)\n",
      "Requirement already satisfied: tqdm in d:\\github\\365daysofdata\\venv\\lib\\site-packages (from nltk) (4.67.1)\n",
      "Requirement already satisfied: colorama in d:\\github\\365daysofdata\\venv\\lib\\site-packages (from click->nltk) (0.4.6)\n",
      "Note: you may need to restart the kernel to use updated packages.\n",
      "Requirement already satisfied: transformers in d:\\github\\365daysofdata\\venv\\lib\\site-packages (4.54.1)\n",
      "Requirement already satisfied: filelock in d:\\github\\365daysofdata\\venv\\lib\\site-packages (from transformers) (3.18.0)\n",
      "Requirement already satisfied: huggingface-hub<1.0,>=0.34.0 in d:\\github\\365daysofdata\\venv\\lib\\site-packages (from transformers) (0.34.3)\n",
      "Requirement already satisfied: numpy>=1.17 in d:\\github\\365daysofdata\\venv\\lib\\site-packages (from transformers) (2.2.6)\n",
      "Requirement already satisfied: packaging>=20.0 in d:\\github\\365daysofdata\\venv\\lib\\site-packages (from transformers) (25.0)\n",
      "Requirement already satisfied: pyyaml>=5.1 in d:\\github\\365daysofdata\\venv\\lib\\site-packages (from transformers) (6.0.2)\n",
      "Requirement already satisfied: regex!=2019.12.17 in d:\\github\\365daysofdata\\venv\\lib\\site-packages (from transformers) (2024.11.6)\n",
      "Requirement already satisfied: requests in d:\\github\\365daysofdata\\venv\\lib\\site-packages (from transformers) (2.32.4)\n",
      "Requirement already satisfied: tokenizers<0.22,>=0.21 in d:\\github\\365daysofdata\\venv\\lib\\site-packages (from transformers) (0.21.4)\n",
      "Requirement already satisfied: safetensors>=0.4.3 in d:\\github\\365daysofdata\\venv\\lib\\site-packages (from transformers) (0.5.3)\n",
      "Requirement already satisfied: tqdm>=4.27 in d:\\github\\365daysofdata\\venv\\lib\\site-packages (from transformers) (4.67.1)\n",
      "Requirement already satisfied: fsspec>=2023.5.0 in d:\\github\\365daysofdata\\venv\\lib\\site-packages (from huggingface-hub<1.0,>=0.34.0->transformers) (2025.7.0)\n",
      "Requirement already satisfied: typing-extensions>=3.7.4.3 in d:\\github\\365daysofdata\\venv\\lib\\site-packages (from huggingface-hub<1.0,>=0.34.0->transformers) (4.14.1)\n",
      "Requirement already satisfied: colorama in d:\\github\\365daysofdata\\venv\\lib\\site-packages (from tqdm>=4.27->transformers) (0.4.6)\n",
      "Requirement already satisfied: charset_normalizer<4,>=2 in d:\\github\\365daysofdata\\venv\\lib\\site-packages (from requests->transformers) (3.4.2)\n",
      "Requirement already satisfied: idna<4,>=2.5 in d:\\github\\365daysofdata\\venv\\lib\\site-packages (from requests->transformers) (3.10)\n",
      "Requirement already satisfied: urllib3<3,>=1.21.1 in d:\\github\\365daysofdata\\venv\\lib\\site-packages (from requests->transformers) (2.5.0)\n",
      "Requirement already satisfied: certifi>=2017.4.17 in d:\\github\\365daysofdata\\venv\\lib\\site-packages (from requests->transformers) (2025.7.14)\n",
      "Note: you may need to restart the kernel to use updated packages.\n"
     ]
    }
   ],
   "source": [
    "%pip install spacy\n",
    "%pip install nltk\n",
    "%pip install transformers\n"
   ]
  },
  {
   "cell_type": "code",
   "execution_count": 11,
   "id": "be30d587",
   "metadata": {},
   "outputs": [
    {
     "name": "stderr",
     "output_type": "stream",
     "text": [
      "[nltk_data] Downloading package punkt_tab to\n",
      "[nltk_data]     C:\\Users\\samir\\AppData\\Roaming\\nltk_data...\n",
      "[nltk_data]   Package punkt_tab is already up-to-date!\n"
     ]
    },
    {
     "name": "stdout",
     "output_type": "stream",
     "text": [
      "Whitespace: ['I', 'am', 'learning', 'NLP.']\n",
      "Regex: ['I', 'am', 'learning', 'NLP']\n",
      "NLTK: ['I', 'am', 'learning', 'NLP', '.']\n",
      "spaCy: ['I', 'am', 'learning', 'NLP', '.']\n",
      "Subword: ['i', 'am', 'learning', 'nl', '##p', '.']\n"
     ]
    }
   ],
   "source": [
    "\n",
    "import re\n",
    "import nltk\n",
    "from nltk.tokenize import word_tokenize\n",
    "import spacy\n",
    "from transformers import AutoTokenizer\n",
    "\n",
    "# 1. Whitespace Tokenization\n",
    "text = \"I am learning NLP.\"\n",
    "tokens_whitespace = text.split()\n",
    "\n",
    "# 2. Regex Tokenization\n",
    "tokens_regex = re.findall(r'\\b\\w+\\b', text)\n",
    "\n",
    "# 3. NLTK Word Tokenizer\n",
    "nltk.download('punkt_tab')\n",
    "tokens_nltk = word_tokenize(text)\n",
    "\n",
    "# 4. spaCy Tokenizer\n",
    "nlp = spacy.blank(\"en\")\n",
    "tokens_spacy = [token.text for token in nlp(text)]\n",
    "\n",
    "# 5. Subword Tokenization (e.g., Byte Pair Encoding)\n",
    "# Example using HuggingFace's tokenizer\n",
    "tokenizer = AutoTokenizer.from_pretrained(\"bert-base-uncased\")\n",
    "tokens_subword = tokenizer.tokenize(text)\n",
    "\n",
    "print(\"Whitespace:\", tokens_whitespace) \n",
    "print(\"Regex:\", tokens_regex)\n",
    "print(\"NLTK:\", tokens_nltk)\n",
    "print(\"spaCy:\", tokens_spacy)\n",
    "print(\"Subword:\", tokens_subword)"
   ]
  },
  {
   "cell_type": "code",
   "execution_count": 12,
   "id": "98a77e0e",
   "metadata": {},
   "outputs": [],
   "source": [
    "def tokenize_english(sentence):\n",
    "    return word_tokenize(sentence)  # NLTK tokenizer for English\n",
    "\n",
    "def tokenize_nepali(sentence):\n",
    "    # Assuming a simple whitespace tokenizer for Nepali\n",
    "    return sentence.split()  # Basic whitespace tokenizer for Nepali"
   ]
  },
  {
   "cell_type": "code",
   "execution_count": 13,
   "id": "cd457605",
   "metadata": {},
   "outputs": [],
   "source": [
    "from collections import Counter\n",
    "\n",
    "def build_vocab(sentences, language_tokenizer):\n",
    "    counter = Counter()\n",
    "\n",
    "    for sent in sentences:\n",
    "        tokens = language_tokenizer(sent)\n",
    "        counter.update(tokens)\n",
    "\n",
    "        vocab = {\n",
    "            \"<pad>\": 0,\n",
    "            \"<sos>\": 1,\n",
    "            \"<eos>\": 2,\n",
    "            \"<unk>\": 3\n",
    "        }\n",
    "\n",
    "        \n",
    "        idx = 4 # we need this to start from 4 because we already have 4 special tokens\n",
    "        for word, count in counter.items():\n",
    "            if count >= 2:\n",
    "                vocab[word] = idx\n",
    "                idx += 1\n",
    "\n",
    "\n",
    "    return vocab\n",
    "\n"
   ]
  },
  {
   "cell_type": "code",
   "execution_count": 14,
   "id": "90bd7f47",
   "metadata": {},
   "outputs": [],
   "source": [
    "src_sentences = [src for src, tgt in train_pairs]\n",
    "tgt_sentences = [tgt for src, tgt in train_pairs]\n",
    "\n",
    "src_vocab = build_vocab(src_sentences, tokenize_english)\n",
    "tgt_vocab = build_vocab(tgt_sentences, tokenize_nepali)\n"
   ]
  },
  {
   "cell_type": "code",
   "execution_count": 15,
   "id": "392f49cd",
   "metadata": {},
   "outputs": [
    {
     "data": {
      "text/plain": [
       "(['The reduction of oxygen by electrons and protons is a very important step as it forms water (H2O), completing the sequence.',\n",
       "  'Hawking presents two main approaches to resolve these paradoxes.',\n",
       "  'Hawking\\'s exploration of extraterrestrial life transcends the usual science fiction tropes; it\\'s rooted in a careful analysis of what constitutes \"life\" itself.',\n",
       "  'Chapter 3, titled \"The Goodness of Show Business,\" marks a pivotal transition point, shifting the narrative away from the focus on the physical act of surgery and towards the transformative potential of chemotherapy.',\n",
       "  'This transfer of electrons is coupled with the pumping of two protons (H<sup>+</sup>) from the matrix to the intermembrane space, thereby adding to the overall proton gradient.'],\n",
       " ['इलेक्ट्रोन र प्रोटोनहरूद्वारा अक्सिजनको कमी एक धेरै महत्त्वपूर्ण चरण हो किनकि यसले पानी (H2O) बनाउँछ, क्रम पूरा गर्दछ।',\n",
       "  'हकिङले यी विरोधाभासहरू समाधान गर्न दुई मुख्य दृष्टिकोण प्रस्तुत गर्नुहुन्छ।',\n",
       "  'हकिङको बाह्य जीवनको खोज सामान्य विज्ञान काल्पनिक कुराहरू भन्दा पर जान्छ; यो \"जीवन\" भनेको के हो भन्ने कुराको सावधानीपूर्वक विश्लेषणमा आधारित छ।',\n",
       "  '\"शो बिजनेसको भलाइ\" शीर्षकको अध्याय ३ ले शल्यक्रियाको भौतिक कार्यमा केन्द्रित हुनुबाट कथालाई रसायन चिकित्साको परिवर्तनकारी सम्भावनातर्फ परिवर्तन गर्दै एउटा महत्वपूर्ण मोडलाई चिन्हित गर्दछ।',\n",
       "  'इलेक्ट्रोनहरूको यो स्थानान्तरण दुई प्रोटोनहरू (H<sup>+</sup>) लाई मैट्रिक्सबाट अन्तरझिल्ली स्पेसमा पम्पिंगसँग जोडिएको छ, जसले गर्दा समग्र प्रोटोन ग्रेडियन्टमा थपिन्छ।'])"
      ]
     },
     "execution_count": 15,
     "metadata": {},
     "output_type": "execute_result"
    }
   ],
   "source": [
    "src_sentences[10:15], tgt_sentences[10:15]"
   ]
  },
  {
   "cell_type": "code",
   "execution_count": 16,
   "id": "82e81e1d",
   "metadata": {},
   "outputs": [
    {
     "data": {
      "text/plain": [
       "(2197, 2350)"
      ]
     },
     "execution_count": 16,
     "metadata": {},
     "output_type": "execute_result"
    }
   ],
   "source": [
    "len(src_vocab), len(tgt_vocab)"
   ]
  },
  {
   "cell_type": "code",
   "execution_count": 17,
   "id": "f5b518d6",
   "metadata": {},
   "outputs": [],
   "source": [
    "def numericalize(sentence, vocab, tokenizer, add_sos_eos=False):\n",
    "    tokens = tokenizer(sentence)\n",
    "\n",
    "    ids = [vocab.get(token, vocab[\"<unk>\"]) for token in tokens]\n",
    "\n",
    "    if add_sos_eos:\n",
    "        ids = [vocab[\"<sos>\"]] + ids + [vocab[\"<eos>\"]]\n",
    "\n",
    "    return ids\n"
   ]
  },
  {
   "cell_type": "code",
   "execution_count": 18,
   "id": "bc4d48f0",
   "metadata": {},
   "outputs": [],
   "source": [
    "import os\n",
    "import torch"
   ]
  },
  {
   "cell_type": "code",
   "execution_count": 19,
   "id": "0b8fde57",
   "metadata": {},
   "outputs": [],
   "source": [
    "class TranslationDataset(torch.utils.data.Dataset):\n",
    "    def __init__(self, pairs, src_vocab, tgt_vocab, src_tokenizer, tgt_tokenizer):\n",
    "        self.pairs = pairs\n",
    "        self.src_vocab = src_vocab\n",
    "        self.tgt_vocab = tgt_vocab\n",
    "        self.src_tokenizer = src_tokenizer\n",
    "        self.tgt_tokenizer = tgt_tokenizer\n",
    "\n",
    "    def __len__(self):\n",
    "        return len(self.pairs)\n",
    "\n",
    "    def __getitem__(self, idx):\n",
    "        src, tgt = self.pairs[idx]\n",
    "\n",
    "        src_tensor = torch.tensor(numericalize(src, self.src_vocab, self.src_tokenizer), dtype=torch.long)\n",
    "        tgt_tensor = torch.tensor(numericalize(tgt, self.tgt_vocab, self.tgt_tokenizer, add_sos_eos=True), dtype=torch.long)\n",
    "\n",
    "        return src_tensor, tgt_tensor\n"
   ]
  },
  {
   "cell_type": "code",
   "execution_count": 20,
   "id": "e4a1837b",
   "metadata": {},
   "outputs": [],
   "source": [
    "from torch.nn.utils.rnn import pad_sequence\n",
    "from torch.utils.data import DataLoader\n",
    "\n",
    "def collate_fn(batch):\n",
    "\tsrc_batch, tgt_batch = zip(*batch)\n",
    "\tsrc_batch = pad_sequence(src_batch, padding_value=src_vocab['<pad>'], batch_first=True)\n",
    "\ttgt_batch = pad_sequence(tgt_batch, padding_value=tgt_vocab['<pad>'], batch_first=True)\n",
    "\treturn src_batch, tgt_batch\n",
    "\n",
    "train_dataset = TranslationDataset(train_pairs, src_vocab, tgt_vocab, tokenize_english, tokenize_nepali)\n",
    "train_loader = torch.utils.data.DataLoader(train_dataset, batch_size=32, shuffle=True, collate_fn=collate_fn)"
   ]
  },
  {
   "cell_type": "code",
   "execution_count": 21,
   "id": "48d73367",
   "metadata": {},
   "outputs": [
    {
     "data": {
      "image/png": "[encoded data removed]",
      "text/plain": [
       "<Figure size 640x480 with 1 Axes>"
      ]
     },
     "metadata": {},
     "output_type": "display_data"
    }
   ],
   "source": [
    "import matplotlib.pyplot as plt\n",
    "\n",
    "src_lengths = [len(tokenize_english(s)) for s, _ in train_pairs]\n",
    "tgt_lengths = [len(tokenize_nepali(t)) for _, t in train_pairs]\n",
    "\n",
    "plt.scatter(src_lengths, tgt_lengths, alpha=0.3)\n",
    "plt.xlabel(\"English sentence length\")\n",
    "plt.ylabel(\"Nepali sentence length\")\n",
    "plt.title(\"Length correlation\")\n",
    "plt.grid(True)\n",
    "plt.show()\n",
    "\n"
   ]
  },
  {
   "cell_type": "code",
   "execution_count": 22,
   "id": "07f6d04a",
   "metadata": {},
   "outputs": [
    {
     "name": "stdout",
     "output_type": "stream",
     "text": [
      "English vocab size: 2197\n",
      "Nepali vocab size : 2350\n"
     ]
    }
   ],
   "source": [
    "print(f\"English vocab size: {len(src_vocab)}\")\n",
    "print(f\"Nepali vocab size : {len(tgt_vocab)}\")\n"
   ]
  },
  {
   "cell_type": "code",
   "execution_count": 23,
   "id": "974e0898",
   "metadata": {},
   "outputs": [
    {
     "name": "stdout",
     "output_type": "stream",
     "text": [
      "Top 20 ENGLISH words:\n",
      "[('the', 1533), (',', 1528), ('of', 1093), ('.', 1034), ('and', 673), ('a', 640), ('to', 520), ('that', 354), ('in', 320), ('is', 319), ('as', 212), ('This', 209), ('The', 207), ('for', 171), ('’', 148), (':', 140), ('on', 138), ('it', 134), ('with', 120), ('by', 112)]\n",
      "\n",
      "Top 20 NEPALI words:\n",
      "[('र', 670), ('यो', 325), ('एक', 270), ('रूपमा', 265), ('लागि', 176), ('गर्न', 154), ('जसले', 139), ('कि', 133), ('गर्दछ।', 117), ('जुन', 113), ('पनि', 108), ('यसले', 98), ('यी', 90), ('को', 84), ('महत्त्वपूर्ण', 79), ('ऊर्जा', 75), ('छ।', 71), ('गर्दछ,', 68), ('गर्ने', 66), ('धेरै', 63)]\n"
     ]
    }
   ],
   "source": [
    "from collections import Counter\n",
    "\n",
    "src_words = Counter()\n",
    "tgt_words = Counter()\n",
    "\n",
    "for s, t in train_pairs:\n",
    "    src_words.update(tokenize_english(s))\n",
    "    tgt_words.update(tokenize_nepali(t))\n",
    "\n",
    "print(\"Top 20 ENGLISH words:\")\n",
    "print(src_words.most_common(20))\n",
    "\n",
    "print(\"\\nTop 20 NEPALI words:\")\n",
    "print(tgt_words.most_common(20))\n"
   ]
  },
  {
   "cell_type": "code",
   "execution_count": 24,
   "id": "b6b84d53",
   "metadata": {},
   "outputs": [],
   "source": [
    "from torch.nn.utils.rnn import pad_sequence\n",
    "from torch.utils.data import DataLoader\n",
    "\n",
    "def collate_fn(batch):\n",
    "    src_batch, tgt_batch = zip(*batch)\n",
    "    src_batch = pad_sequence(src_batch, padding_value=src_vocab['<pad>'], batch_first=True)\n",
    "    tgt_batch = pad_sequence(tgt_batch, padding_value=tgt_vocab['<pad>'], batch_first=True)\n",
    "    return src_batch, tgt_batch\n"
   ]
  },
  {
   "cell_type": "code",
   "execution_count": 21,
   "id": "6d7fa226",
   "metadata": {},
   "outputs": [],
   "source": [
    "import torch\n",
    "import torch.nn as nn"
   ]
  },
  {
   "cell_type": "code",
   "execution_count": 22,
   "id": "aaa2c95b",
   "metadata": {},
   "outputs": [
    {
     "name": "stdout",
     "output_type": "stream",
     "text": [
      "EncoderLSTM(\n",
      "  (dropout): Dropout(p=0.5, inplace=False)\n",
      "  (embedding): Embedding(2197, 300)\n",
      "  (LSTM): LSTM(300, 1024, num_layers=2, dropout=0.5)\n",
      ")\n"
     ]
    }
   ],
   "source": [
    "class EncoderLSTM(nn.Module):\n",
    "  def __init__(self, input_size, embedding_size, hidden_size, num_layers, p):\n",
    "    super(EncoderLSTM, self).__init__()\n",
    "\n",
    "    # Size of the one hot vectors that will be the input to the encoder\n",
    "    #self.input_size = input_size\n",
    "\n",
    "    # Output size of the word embedding NN\n",
    "    #self.embedding_size = embedding_size\n",
    "\n",
    "    # Dimension of the NN's inside the lstm cell/ (hs,cs)'s dimension.\n",
    "    self.hidden_size = hidden_size\n",
    "\n",
    "    # Number of layers in the lstm\n",
    "    self.num_layers = num_layers\n",
    "\n",
    "    # Regularization parameter\n",
    "    self.dropout = nn.Dropout(p)\n",
    "    self.tag = True\n",
    "\n",
    "    # Shape --------------------> (5376, 300) [input size, embedding dims]\n",
    "    self.embedding = nn.Embedding(input_size, embedding_size)\n",
    "    \n",
    "    # Shape -----------> (300, 2, 1024) [embedding dims, hidden size, num layers]\n",
    "    self.LSTM = nn.LSTM(embedding_size, hidden_size, num_layers, dropout = p)\n",
    "\n",
    "  # Shape of x (26, 32) [Sequence_length, batch_size]\n",
    "  def forward(self, x):\n",
    "\n",
    "    # Shape -----------> (26, 32, 300) [Sequence_length , batch_size , embedding dims]\n",
    "    embedding = self.dropout(self.embedding(x))\n",
    "    \n",
    "    # Shape --> outputs (26, 32, 1024) [Sequence_length , batch_size , hidden_size]\n",
    "    # Shape --> (hs, cs) (2, 32, 1024) , (2, 32, 1024) [num_layers, batch_size size, hidden_size]\n",
    "    outputs, (hidden_state, cell_state) = self.LSTM(embedding)\n",
    "\n",
    "    return hidden_state, cell_state\n",
    "\n",
    "# Set device to GPU if available, else CPU\n",
    "device = torch.device(\"cuda\" if torch.cuda.is_available() else \"cpu\")\n",
    "\n",
    "input_size_encoder = len(src_vocab)  # Size of the vocabulary for the source language (English)\n",
    "encoder_embedding_size = 300\n",
    "hidden_size = 1024\n",
    "num_layers = 2\n",
    "encoder_dropout = 0.5\n",
    "\n",
    "encoder_lstm = EncoderLSTM(input_size_encoder, encoder_embedding_size,\n",
    "                           hidden_size, num_layers, encoder_dropout).to(device)\n",
    "print(encoder_lstm)"
   ]
  },
  {
   "cell_type": "code",
   "execution_count": 1,
   "id": "f820ab54",
   "metadata": {},
   "outputs": [
    {
     "ename": "NameError",
     "evalue": "name 'nn' is not defined",
     "output_type": "error",
     "traceback": [
      "\u001b[1;31m---------------------------------------------------------------------------\u001b[0m",
      "\u001b[1;31mNameError\u001b[0m                                 Traceback (most recent call last)",
      "Cell \u001b[1;32mIn[1], line 1\u001b[0m\n\u001b[1;32m----> 1\u001b[0m \u001b[38;5;28;01mclass\u001b[39;00m\u001b[38;5;250m \u001b[39m\u001b[38;5;21;01mDecoderLSTM\u001b[39;00m(\u001b[43mnn\u001b[49m\u001b[38;5;241m.\u001b[39mModule):\n\u001b[0;32m      2\u001b[0m   \u001b[38;5;28;01mdef\u001b[39;00m\u001b[38;5;250m \u001b[39m\u001b[38;5;21m__init__\u001b[39m(\u001b[38;5;28mself\u001b[39m, input_size, embedding_size, hidden_size, num_layers, p, output_size):\n\u001b[0;32m      3\u001b[0m     \u001b[38;5;28msuper\u001b[39m(DecoderLSTM, \u001b[38;5;28mself\u001b[39m)\u001b[38;5;241m.\u001b[39m\u001b[38;5;21m__init__\u001b[39m()\n",
      "\u001b[1;31mNameError\u001b[0m: name 'nn' is not defined"
     ]
    }
   ],
   "source": [
    "class DecoderLSTM(nn.Module):\n",
    "  def __init__(self, input_size, embedding_size, hidden_size, num_layers, p, output_size):\n",
    "    super(DecoderLSTM, self).__init__()\n",
    "\n",
    "    # Size of the one hot vectors that will be the input to the encoder\n",
    "    #self.input_size = input_size\n",
    "\n",
    "    # Output size of the word embedding NN\n",
    "    #self.embedding_size = embedding_size\n",
    "\n",
    "    # Dimension of the NN's inside the lstm cell/ (hs,cs)'s dimension.\n",
    "    self.hidden_size = hidden_size\n",
    "\n",
    "    # Number of layers in the lstm\n",
    "    self.num_layers = num_layers\n",
    "\n",
    "    # Size of the one hot vectors that will be the output to the encoder (English Vocab Size)\n",
    "    self.output_size = output_size\n",
    "\n",
    "    # Regularization parameter\n",
    "    self.dropout = nn.Dropout(p)\n",
    "\n",
    "    # Shape --------------------> (5376, 300) [input size, embedding dims]\n",
    "    self.embedding = nn.Embedding(input_size, embedding_size)\n",
    "\n",
    "    # Shape -----------> (300, 2, 1024) [embedding dims, hidden size, num layers]\n",
    "    self.LSTM = nn.LSTM(embedding_size, hidden_size, num_layers, dropout = p)\n",
    "\n",
    "    # Shape -----------> (1024, 4556) [embedding dims, hidden size, num layers]\n",
    "    self.fc = nn.Linear(hidden_size, output_size)\n",
    "\n",
    "  # Shape of x (32) [batch_size]\n",
    "  def forward(self, x, hidden_state, cell_state):\n",
    "\n",
    "    # Shape of x (1, 32) [1, batch_size]\n",
    "    x = x.unsqueeze(0)\n",
    "\n",
    "    # Shape -----------> (1, 32, 300) [1, batch_size, embedding dims]\n",
    "    embedding = self.dropout(self.embedding(x))\n",
    "\n",
    "    # Shape --> outputs (1, 32, 1024) [1, batch_size , hidden_size]\n",
    "    # Shape --> (hs, cs) (2, 32, 1024) , (2, 32, 1024) [num_layers, batch_size size, hidden_size] (passing encoder's hs, cs - context vectors)\n",
    "    outputs, (hidden_state, cell_state) = self.LSTM(embedding, (hidden_state, cell_state))\n",
    "\n",
    "    # Shape --> predictions (1, 32, 4556) [ 1, batch_size , output_size]\n",
    "    predictions = self.fc(outputs)\n",
    "\n",
    "    # Shape --> predictions (32, 4556) [batch_size , output_size]\n",
    "    predictions = predictions.squeeze(0)\n",
    "\n",
    "    return predictions, hidden_state, cell_state\n",
    "\n",
    "input_size_decoder = len(src_vocab)\n",
    "decoder_embedding_size = 300\n",
    "hidden_size = 1024\n",
    "num_layers = 2\n",
    "decoder_dropout = 0.5\n",
    "output_size = len(tgt_vocab)\n",
    "\n",
    "decoder_lstm = DecoderLSTM(input_size_decoder, decoder_embedding_size,\n",
    "                           hidden_size, num_layers, decoder_dropout, output_size).to(device)\n",
    "print(decoder_lstm)"
   ]
  },
  {
   "cell_type": "code",
   "execution_count": null,
   "id": "7441396e",
   "metadata": {},
   "outputs": [
    {
     "name": "stdout",
     "output_type": "stream",
     "text": [
      "torch.Size([32, 102])\n",
      "torch.Size([32, 75])\n",
      "tensor([   1,  148,    3, 2329,  997,   61,  456, 1211,    2,    0,    0,    0,\n",
      "           0,    0,    0,    0,    0,    0,    0,    0,    0,    0,    0,    0,\n",
      "           0,    0,    0,    0,    0,    0,    0,    0,    0,    0,    0,    0,\n",
      "           0,    0,    0,    0,    0,    0,    0,    0,    0,    0,    0,    0,\n",
      "           0,    0,    0,    0,    0,    0,    0,    0,    0,    0,    0,    0,\n",
      "           0,    0,    0,    0,    0,    0,    0,    0,    0,    0,    0,    0,\n",
      "           0,    0,    0])\n"
     ]
    }
   ],
   "source": [
    "for batch in train_loader:\n",
    "    print(batch[0].shape)  # src shape\n",
    "    print(batch[1].shape)  # tgt shape\n",
    "    break\n",
    "\n",
    "x = batch[1][1]\n",
    "print(x)"
   ]
  },
  {
   "cell_type": "code",
   "execution_count": null,
   "id": "ffceda3b",
   "metadata": {},
   "outputs": [],
   "source": [
    "class Seq2Seq(nn.Module):\n",
    "  def __init__(self, Encoder_LSTM, Decoder_LSTM):\n",
    "    super(Seq2Seq, self).__init__()\n",
    "    self.Encoder_LSTM = Encoder_LSTM\n",
    "    self.Decoder_LSTM = Decoder_LSTM\n",
    "\n",
    "  def forward(self, source, target, tfr=0.5):\n",
    "    # Shape - Source : (10, 32) [(Sentence length German + some padding), Number of Sentences]\n",
    "    batch_size = source.shape[1]\n",
    "\n",
    "    # Shape - Source : (14, 32) [(Sentence length English + some padding), Number of Sentences]\n",
    "    target_len = target.shape[0]\n",
    "    target_vocab_size = len(src_vocab.vocab)\n",
    "    \n",
    "    # Shape --> outputs (14, 32, 5766) \n",
    "    outputs = torch.zeros(target_len, batch_size, target_vocab_size).to(device)\n",
    "\n",
    "    # Shape --> (hs, cs) (2, 32, 1024) ,(2, 32, 1024) [num_layers, batch_size size, hidden_size] (contains encoder's hs, cs - context vectors)\n",
    "    hidden_state, cell_state = self.Encoder_LSTM(source)\n",
    "\n",
    "    # Shape of x (32 elements)\n",
    "    x = target[0] # Trigger token <SOS>\n",
    "\n",
    "    for i in range(1, target_len):\n",
    "      # Shape --> output (32, 5766) \n",
    "      output, hidden_state, cell_state = self.Decoder_LSTM(x, hidden_state, cell_state)\n",
    "      outputs[i] = output\n",
    "      best_guess = output.argmax(1) # 0th dimension is batch size, 1st dimension is word embedding\n",
    "      x = target[i] if random.random() < tfr else best_guess # Either pass the next word correctly from the dataset or use the earlier predicted word\n",
    "\n",
    "    # Shape --> outputs (14, 32, 5766) \n",
    "    return outputs"
   ]
  },
  {
   "cell_type": "code",
   "execution_count": 29,
   "id": "01f9f2a9",
   "metadata": {},
   "outputs": [],
   "source": [
    "import torch\n",
    "import torch.nn as nn"
   ]
  },
  {
   "cell_type": "code",
   "execution_count": null,
   "id": "08b1d769",
   "metadata": {},
   "outputs": [],
   "source": [
    "import torch\n",
    "\n",
    "# import torch and nn modules for building neural networks\n",
    "import torch.nn as nn\n",
    "\n",
    "# define the transformer encoder class\n",
    "class TransformerEncoder(nn.Module):\n",
    "    # initialize the encoder with all required parameters\n",
    "    def __init__(self, input_size, embedding_size, num_heads, hidden_size, num_layers, max_len, p):\n",
    "        # call the parent class constructor\n",
    "        super(TransformerEncoder, self).__init__()\n",
    "\n",
    "        # create token embedding layer for input tokens\n",
    "        self.token_embedding = nn.Embedding(input_size, embedding_size)\n",
    "        # create position embedding layer for positional information\n",
    "        self.position_embedding = nn.Embedding(max_len, embedding_size)\n",
    "        # create dropout layer for regularization\n",
    "        self.dropout = nn.Dropout(p)\n",
    "\n",
    "        # create a transformer encoder layer with specified parameters\n",
    "        encoder_layer = nn.TransformerEncoderLayer(\n",
    "            d_model=embedding_size,      # set the embedding dimension\n",
    "            nhead=num_heads,             # set the number of attention heads\n",
    "            dim_feedforward=hidden_size, # set the hidden size for feedforward network\n",
    "            dropout=p,                   # set dropout probability\n",
    "            batch_first=True             # use (batch, seq, embed) format\n",
    "        )\n",
    "        # stack multiple encoder layers to form the full encoder\n",
    "        self.encoder = nn.TransformerEncoder(encoder_layer, num_layers=num_layers)\n",
    "\n",
    "    # define the forward pass\n",
    "    def forward(self, x):\n",
    "        # x is expected to be of shape (batch_size, seq_len)\n",
    "        batch_size, seq_len = x.size()  # get batch size and sequence length\n",
    "        # create position indices for each token in the sequence\n",
    "        positions = torch.arange(0, seq_len, device=x.device).unsqueeze(0).expand(batch_size, seq_len)\n",
    "        # add token embeddings and position embeddings\n",
    "        x = self.token_embedding(x) + self.position_embedding(positions)\n",
    "        # apply dropout to the embeddings\n",
    "        x = self.dropout(x)\n",
    "        # pass the embeddings through the transformer encoder\n",
    "        encoded = self.encoder(x)\n",
    "        # return the encoded output\n",
    "        return encoded\n"
   ]
  },
  {
   "cell_type": "code",
   "execution_count": 31,
   "id": "a7cc080c",
   "metadata": {},
   "outputs": [],
   "source": [
    "import torch\n",
    "import torch.nn as nn"
   ]
  },
  {
   "cell_type": "code",
   "execution_count": null,
   "id": "b4dccb3f",
   "metadata": {},
   "outputs": [],
   "source": [
    "class TransformerDecoder(nn.Module):\n",
    "    def __init__(self, output_size, embedding_size, num_heads, hidden_size, num_layers, max_len, p):\n",
    "        # call the parent class constructor\n",
    "        super(TransformerDecoder, self).__init__()\n",
    "\n",
    "        # create token embedding layer for output tokens\n",
    "        self.token_embedding = nn.Embedding(output_size, embedding_size)\n",
    "        # create position embedding layer for positional information\n",
    "        self.position_embedding = nn.Embedding(max_len, embedding_size)\n",
    "        # create dropout layer for regularization\n",
    "        self.dropout = nn.Dropout(p)\n",
    "\n",
    "        # create a transformer decoder layer with specified parameters\n",
    "        decoder_layer = nn.TransformerDecoderLayer(\n",
    "            d_model=embedding_size,      # set the embedding dimension\n",
    "            nhead=num_heads,             # set the number of attention heads\n",
    "            dim_feedforward=hidden_size, # set the hidden size for feedforward network\n",
    "            dropout=p,                   # set dropout probability\n",
    "            batch_first=True             # use (batch, seq, embed) format\n",
    "        )\n",
    "        # stack multiple decoder layers to form the full decoder\n",
    "        self.decoder = nn.TransformerDecoder(decoder_layer, num_layers=num_layers)\n",
    "        # create a linear layer to project decoder output to vocab size\n",
    "        self.fc_out = nn.Linear(embedding_size, output_size)\n",
    "\n",
    "    def forward(self, x, memory):\n",
    "        # x: (batch_size, tgt_seq_len) - input tokens for the decoder\n",
    "        # memory: (batch_size, src_seq_len, embedding_size) - encoder outputs\n",
    "\n",
    "        # get batch size and target sequence length\n",
    "        batch_size, tgt_seq_len = x.size()\n",
    "        # create position indices for each token in the sequence\n",
    "        positions = torch.arange(0, tgt_seq_len, device=x.device).unsqueeze(0).expand(batch_size, tgt_seq_len)\n",
    "        # add token embeddings and position embeddings\n",
    "        x = self.token_embedding(x) + self.position_embedding(positions)\n",
    "        # apply dropout to the embeddings\n",
    "        x = self.dropout(x)\n",
    "\n",
    "        # generate a causal mask for the decoder to prevent attending to future tokens\n",
    "        tgt_mask = nn.Transformer.generate_square_subsequent_mask(tgt_seq_len).to(x.device)\n",
    "\n",
    "        # pass the embeddings and encoder memory through the transformer decoder\n",
    "        decoded = self.decoder(x, memory, tgt_mask=tgt_mask)\n",
    "        # project the decoder output to the vocabulary size\n",
    "        output = self.fc_out(decoded)\n",
    "        # return the output logits\n",
    "        return output"
   ]
  },
  {
   "cell_type": "code",
   "execution_count": 34,
   "id": "6361d11d",
   "metadata": {},
   "outputs": [],
   "source": [
    "device = torch.device(\"cuda\" if torch.cuda.is_available() else \"cpu\")"
   ]
  },
  {
   "cell_type": "code",
   "execution_count": null,
   "id": "5379b8e6",
   "metadata": {},
   "outputs": [
    {
     "name": "stdout",
     "output_type": "stream",
     "text": [
      "TransformerSeq2Seq(\n",
      "  (encoder): TransformerEncoder(\n",
      "    (token_embedding): Embedding(2197, 256)\n",
      "    (position_embedding): Embedding(100, 256)\n",
      "    (dropout): Dropout(p=0.1, inplace=False)\n",
      "    (encoder): TransformerEncoder(\n",
      "      (layers): ModuleList(\n",
      "        (0-2): 3 x TransformerEncoderLayer(\n",
      "          (self_attn): MultiheadAttention(\n",
      "            (out_proj): NonDynamicallyQuantizableLinear(in_features=256, out_features=256, bias=True)\n",
      "          )\n",
      "          (linear1): Linear(in_features=256, out_features=512, bias=True)\n",
      "          (dropout): Dropout(p=0.1, inplace=False)\n",
      "          (linear2): Linear(in_features=512, out_features=256, bias=True)\n",
      "          (norm1): LayerNorm((256,), eps=1e-05, elementwise_affine=True)\n",
      "          (norm2): LayerNorm((256,), eps=1e-05, elementwise_affine=True)\n",
      "          (dropout1): Dropout(p=0.1, inplace=False)\n",
      "          (dropout2): Dropout(p=0.1, inplace=False)\n",
      "        )\n",
      "      )\n",
      "    )\n",
      "  )\n",
      "  (decoder): TransformerDecoder(\n",
      "    (token_embedding): Embedding(2350, 256)\n",
      "    (position_embedding): Embedding(100, 256)\n",
      "    (dropout): Dropout(p=0.1, inplace=False)\n",
      "    (decoder): TransformerDecoder(\n",
      "      (layers): ModuleList(\n",
      "        (0-2): 3 x TransformerDecoderLayer(\n",
      "          (self_attn): MultiheadAttention(\n",
      "            (out_proj): NonDynamicallyQuantizableLinear(in_features=256, out_features=256, bias=True)\n",
      "          )\n",
      "          (multihead_attn): MultiheadAttention(\n",
      "            (out_proj): NonDynamicallyQuantizableLinear(in_features=256, out_features=256, bias=True)\n",
      "          )\n",
      "          (linear1): Linear(in_features=256, out_features=512, bias=True)\n",
      "          (dropout): Dropout(p=0.1, inplace=False)\n",
      "          (linear2): Linear(in_features=512, out_features=256, bias=True)\n",
      "          (norm1): LayerNorm((256,), eps=1e-05, elementwise_affine=True)\n",
      "          (norm2): LayerNorm((256,), eps=1e-05, elementwise_affine=True)\n",
      "          (norm3): LayerNorm((256,), eps=1e-05, elementwise_affine=True)\n",
      "          (dropout1): Dropout(p=0.1, inplace=False)\n",
      "          (dropout2): Dropout(p=0.1, inplace=False)\n",
      "          (dropout3): Dropout(p=0.1, inplace=False)\n",
      "        )\n",
      "      )\n",
      "    )\n",
      "    (fc_out): Linear(in_features=256, out_features=2350, bias=True)\n",
      "  )\n",
      ")\n"
     ]
    }
   ],
   "source": [
    "# define the transformer-based sequence-to-sequence model class\n",
    "class TransformerEncoderDecoder(nn.Module):\n",
    "    # initialize the model with encoder and decoder\n",
    "    def __init__(self, encoder, decoder):\n",
    "        # call the parent class constructor\n",
    "        super(TransformerEncoderDecoder, self).__init__()\n",
    "        # store the encoder\n",
    "        self.encoder = encoder\n",
    "        # store the decoder\n",
    "        self.decoder = decoder\n",
    "\n",
    "    # define the forward pass\n",
    "    def forward(self, src, tgt):\n",
    "        # src: (batch_size, src_seq_len)\n",
    "        # tgt: (batch_size, tgt_seq_len)\n",
    "        # pass the source sequence through the encoder\n",
    "        memory = self.encoder(src)  # (batch_size, src_seq_len, embedding_size)\n",
    "        # pass the target sequence and encoder output through the decoder\n",
    "        output = self.decoder(tgt, memory)  # (batch_size, tgt_seq_len, vocab_size)\n",
    "        # return the decoder output\n",
    "        return output\n",
    "\n",
    "# set the input size as the length of the source vocabulary\n",
    "input_size = len(src_vocab)\n",
    "# set the output size as the length of the target vocabulary\n",
    "output_size = len(tgt_vocab)\n",
    "# set the embedding size for both encoder and decoder\n",
    "embedding_size = 256\n",
    "# set the number of attention heads\n",
    "num_heads = 8\n",
    "# set the hidden size for the feedforward network\n",
    "hidden_size = 512\n",
    "# set the number of transformer layers\n",
    "num_layers = 3\n",
    "# set the maximum sequence length\n",
    "max_len = 100\n",
    "# set the dropout probability\n",
    "dropout = 0.1\n",
    "\n",
    "# create the transformer encoder with the specified parameters\n",
    "encoder = TransformerEncoder(\n",
    "    input_size, embedding_size, num_heads, hidden_size, num_layers, max_len, dropout\n",
    ").to(device)\n",
    "# create the transformer decoder with the specified parameters\n",
    "decoder = TransformerDecoder(\n",
    "    output_size, embedding_size, num_heads, hidden_size, num_layers, max_len, dropout\n",
    ").to(device)\n",
    "# create the transformer sequence-to-sequence model using the encoder and decoder\n",
    "model = TransformerSeq2Seq(encoder, decoder).to(device)\n",
    "# print the model architecture\n",
    "print(model)"
   ]
  },
  {
   "cell_type": "code",
   "execution_count": 28,
   "id": "944ccb8f",
   "metadata": {},
   "outputs": [],
   "source": [
    "def translate_sentence(model, sentence_tokens, src_vocab, tgt_vocab, device, max_length=50):\n",
    "    tokens = ['<sos>'] + sentence_tokens + ['<eos>']\n",
    "    indices = [src_vocab.get(token, src_vocab['<unk>']) for token in tokens]\n",
    "\n",
    "    sentence_tensor = torch.LongTensor(indices).unsqueeze(1).to(device)  # [seq_len, 1]\n",
    "\n",
    "    with torch.no_grad():\n",
    "        hidden, cell = model.Encoder_LSTM(sentence_tensor)\n",
    "\n",
    "    outputs = [tgt_vocab['<sos>']]\n",
    "\n",
    "    for _ in range(max_length):\n",
    "        prev_token = torch.LongTensor([outputs[-1]]).to(device)\n",
    "\n",
    "        with torch.no_grad():\n",
    "            output, hidden, cell = model.Decoder_LSTM(prev_token, hidden, cell)\n",
    "            next_token = output.argmax(1).item()\n",
    "\n",
    "        outputs.append(next_token)\n",
    "\n",
    "        if next_token == tgt_vocab['<eos>']:\n",
    "            break\n",
    "\n",
    "    translated_tokens = [list(tgt_vocab.keys())[list(tgt_vocab.values()).index(idx)] for idx in outputs]\n",
    "    return translated_tokens[1:]\n"
   ]
  },
  {
   "cell_type": "code",
   "execution_count": null,
   "id": "2e59d948",
   "metadata": {},
   "outputs": [],
   "source": []
  }
 ],
 "metadata": {
  "kernelspec": {
   "display_name": "venv",
   "language": "python",
   "name": "python3"
  },
  "language_info": {
   "codemirror_mode": {
    "name": "ipython",
    "version": 3
   },
   "file_extension": ".py",
   "mimetype": "text/x-python",
   "name": "python",
   "nbconvert_exporter": "python",
   "pygments_lexer": "ipython3",
   "version": "3.10.11"
  }
 },
 "nbformat": 4,
 "nbformat_minor": 5
}
