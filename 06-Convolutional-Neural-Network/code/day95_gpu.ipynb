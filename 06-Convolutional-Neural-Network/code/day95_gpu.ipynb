{
 "cells": [
  {
   "cell_type": "code",
   "execution_count": null,
   "id": "6b9d57de-dedb-420d-a95b-5c7632bf7026",
   "metadata": {},
   "outputs": [
    {
     "name": "stdout",
     "output_type": "stream",
     "text": [
      "Training on GPU...\n",
      "Epoch 1/5\n"
     ]
    }
   ],
   "source": [
    "import tensorflow as tf\n",
    "import time\n",
    "from tensorflow.keras import layers, models\n",
    "from tensorflow.keras.datasets import mnist\n",
    "\n",
    "# Load MNIST dataset\n",
    "(x_train, y_train), (x_test, y_test) = mnist.load_data()\n",
    "\n",
    "# Preprocess the data\n",
    "x_train = x_train.reshape((x_train.shape[0], 28, 28, 1)).astype('float32') / 255\n",
    "x_test = x_test.reshape((x_test.shape[0], 28, 28, 1)).astype('float32') / 255\n",
    "\n",
    "# Create a simple CNN model\n",
    "def create_model():\n",
    "    model = models.Sequential([\n",
    "        layers.Conv2D(32, (3, 3), activation='relu', input_shape=(28, 28, 1)),\n",
    "        layers.MaxPooling2D((2, 2)),\n",
    "        layers.Conv2D(64, (3, 3), activation='relu'),\n",
    "        layers.MaxPooling2D((2, 2)),\n",
    "        layers.Conv2D(64, (3, 3), activation='relu'),\n",
    "        layers.Flatten(),\n",
    "        layers.Dense(64, activation='relu'),\n",
    "        layers.Dense(10, activation='softmax')\n",
    "    ])\n",
    "    model.compile(optimizer='adam', loss='sparse_categorical_crossentropy', metrics=['accuracy'])\n",
    "    return model\n",
    "\n",
    "# Timer function to measure training time\n",
    "def train_model_on_device(device_name):\n",
    "    with tf.device(device_name):\n",
    "        model = create_model()\n",
    "\n",
    "        start_time = time.time()  # Start time for training\n",
    "        model.fit(x_train, y_train, epochs=5, batch_size=64, validation_data=(x_test, y_test))\n",
    "        end_time = time.time()  # End time for training\n",
    "        \n",
    "        training_time = end_time - start_time\n",
    "        print(f\"Training time on {device_name}: {training_time:.2f} seconds\")\n",
    "        return training_time\n",
    "\n",
    "# Check available devices\n",
    "if tf.config.list_physical_devices('GPU'):\n",
    "    print(\"Training on GPU...\")\n",
    "    gpu_time = train_model_on_device('/GPU:0')\n",
    "else:\n",
    "    print(\"No GPU detected. Training on CPU...\")\n",
    "    cpu_time = train_model_on_device('/CPU:0')\n"
   ]
  },
  {
   "cell_type": "code",
   "execution_count": null,
   "id": "2b5f405f-a319-4fa9-8a76-2d2b4af9c9ba",
   "metadata": {},
   "outputs": [],
   "source": []
  }
 ],
 "metadata": {
  "kernelspec": {
   "display_name": "Python 3 (ipykernel)",
   "language": "python",
   "name": "python3"
  },
  "language_info": {
   "codemirror_mode": {
    "name": "ipython",
    "version": 3
   },
   "file_extension": ".py",
   "mimetype": "text/x-python",
   "name": "python",
   "nbconvert_exporter": "python",
   "pygments_lexer": "ipython3",
   "version": "3.10.16"
  }
 },
 "nbformat": 4,
 "nbformat_minor": 5
}
