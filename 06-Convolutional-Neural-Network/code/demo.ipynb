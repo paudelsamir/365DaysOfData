{
 "cells": [
  {
   "cell_type": "code",
   "execution_count": 2,
   "metadata": {},
   "outputs": [
    {
     "name": "stdout",
     "output_type": "stream",
     "text": [
      "Collecting tensorflow\n",
      "  Downloading tensorflow-2.19.0-cp312-cp312-win_amd64.whl.metadata (4.1 kB)\n",
      "Collecting absl-py>=1.0.0 (from tensorflow)\n",
      "  Using cached absl_py-2.2.0-py3-none-any.whl.metadata (2.4 kB)\n",
      "Collecting astunparse>=1.6.0 (from tensorflow)\n",
      "  Using cached astunparse-1.6.3-py2.py3-none-any.whl.metadata (4.4 kB)\n",
      "Collecting flatbuffers>=24.3.25 (from tensorflow)\n",
      "  Using cached flatbuffers-25.2.10-py2.py3-none-any.whl.metadata (875 bytes)\n",
      "Collecting gast!=0.5.0,!=0.5.1,!=0.5.2,>=0.2.1 (from tensorflow)\n",
      "  Downloading gast-0.6.0-py3-none-any.whl.metadata (1.3 kB)\n",
      "Collecting google-pasta>=0.1.1 (from tensorflow)\n",
      "  Using cached google_pasta-0.2.0-py3-none-any.whl.metadata (814 bytes)\n",
      "Collecting libclang>=13.0.0 (from tensorflow)\n",
      "  Using cached libclang-18.1.1-py2.py3-none-win_amd64.whl.metadata (5.3 kB)\n",
      "Collecting opt-einsum>=2.3.2 (from tensorflow)\n",
      "  Using cached opt_einsum-3.4.0-py3-none-any.whl.metadata (6.3 kB)\n",
      "Requirement already satisfied: packaging in c:\\users\\samir\\anaconda3\\lib\\site-packages (from tensorflow) (24.1)\n",
      "Requirement already satisfied: protobuf!=4.21.0,!=4.21.1,!=4.21.2,!=4.21.3,!=4.21.4,!=4.21.5,<6.0.0dev,>=3.20.3 in c:\\users\\samir\\anaconda3\\lib\\site-packages (from tensorflow) (4.25.3)\n",
      "Requirement already satisfied: requests<3,>=2.21.0 in c:\\users\\samir\\anaconda3\\lib\\site-packages (from tensorflow) (2.32.3)\n",
      "Requirement already satisfied: setuptools in c:\\users\\samir\\anaconda3\\lib\\site-packages (from tensorflow) (75.1.0)\n",
      "Requirement already satisfied: six>=1.12.0 in c:\\users\\samir\\anaconda3\\lib\\site-packages (from tensorflow) (1.16.0)\n",
      "Collecting termcolor>=1.1.0 (from tensorflow)\n",
      "  Using cached termcolor-2.5.0-py3-none-any.whl.metadata (6.1 kB)\n",
      "Requirement already satisfied: typing-extensions>=3.6.6 in c:\\users\\samir\\anaconda3\\lib\\site-packages (from tensorflow) (4.11.0)\n",
      "Requirement already satisfied: wrapt>=1.11.0 in c:\\users\\samir\\anaconda3\\lib\\site-packages (from tensorflow) (1.14.1)\n",
      "Collecting grpcio<2.0,>=1.24.3 (from tensorflow)\n",
      "  Downloading grpcio-1.71.0-cp312-cp312-win_amd64.whl.metadata (4.0 kB)\n",
      "Collecting tensorboard~=2.19.0 (from tensorflow)\n",
      "  Downloading tensorboard-2.19.0-py3-none-any.whl.metadata (1.8 kB)\n",
      "Collecting keras>=3.5.0 (from tensorflow)\n",
      "  Downloading keras-3.9.0-py3-none-any.whl.metadata (6.1 kB)\n",
      "Requirement already satisfied: numpy<2.2.0,>=1.26.0 in c:\\users\\samir\\anaconda3\\lib\\site-packages (from tensorflow) (1.26.4)\n",
      "Requirement already satisfied: h5py>=3.11.0 in c:\\users\\samir\\anaconda3\\lib\\site-packages (from tensorflow) (3.11.0)\n",
      "Collecting ml-dtypes<1.0.0,>=0.5.1 (from tensorflow)\n",
      "  Downloading ml_dtypes-0.5.1-cp312-cp312-win_amd64.whl.metadata (22 kB)\n",
      "Requirement already satisfied: wheel<1.0,>=0.23.0 in c:\\users\\samir\\anaconda3\\lib\\site-packages (from astunparse>=1.6.0->tensorflow) (0.44.0)\n",
      "Requirement already satisfied: rich in c:\\users\\samir\\anaconda3\\lib\\site-packages (from keras>=3.5.0->tensorflow) (13.7.1)\n",
      "Collecting namex (from keras>=3.5.0->tensorflow)\n",
      "  Downloading namex-0.0.8-py3-none-any.whl.metadata (246 bytes)\n",
      "Collecting optree (from keras>=3.5.0->tensorflow)\n",
      "  Downloading optree-0.14.1-cp312-cp312-win_amd64.whl.metadata (50 kB)\n",
      "Requirement already satisfied: charset-normalizer<4,>=2 in c:\\users\\samir\\anaconda3\\lib\\site-packages (from requests<3,>=2.21.0->tensorflow) (3.3.2)\n",
      "Requirement already satisfied: idna<4,>=2.5 in c:\\users\\samir\\anaconda3\\lib\\site-packages (from requests<3,>=2.21.0->tensorflow) (3.7)\n",
      "Requirement already satisfied: urllib3<3,>=1.21.1 in c:\\users\\samir\\anaconda3\\lib\\site-packages (from requests<3,>=2.21.0->tensorflow) (2.2.3)\n",
      "Requirement already satisfied: certifi>=2017.4.17 in c:\\users\\samir\\anaconda3\\lib\\site-packages (from requests<3,>=2.21.0->tensorflow) (2024.8.30)\n",
      "Requirement already satisfied: markdown>=2.6.8 in c:\\users\\samir\\anaconda3\\lib\\site-packages (from tensorboard~=2.19.0->tensorflow) (3.4.1)\n",
      "Collecting tensorboard-data-server<0.8.0,>=0.7.0 (from tensorboard~=2.19.0->tensorflow)\n",
      "  Downloading tensorboard_data_server-0.7.2-py3-none-any.whl.metadata (1.1 kB)\n",
      "Requirement already satisfied: werkzeug>=1.0.1 in c:\\users\\samir\\anaconda3\\lib\\site-packages (from tensorboard~=2.19.0->tensorflow) (3.0.3)\n",
      "Requirement already satisfied: MarkupSafe>=2.1.1 in c:\\users\\samir\\anaconda3\\lib\\site-packages (from werkzeug>=1.0.1->tensorboard~=2.19.0->tensorflow) (2.1.3)\n",
      "Requirement already satisfied: markdown-it-py>=2.2.0 in c:\\users\\samir\\anaconda3\\lib\\site-packages (from rich->keras>=3.5.0->tensorflow) (2.2.0)\n",
      "Requirement already satisfied: pygments<3.0.0,>=2.13.0 in c:\\users\\samir\\anaconda3\\lib\\site-packages (from rich->keras>=3.5.0->tensorflow) (2.15.1)\n",
      "Requirement already satisfied: mdurl~=0.1 in c:\\users\\samir\\anaconda3\\lib\\site-packages (from markdown-it-py>=2.2.0->rich->keras>=3.5.0->tensorflow) (0.1.0)\n",
      "Downloading tensorflow-2.19.0-cp312-cp312-win_amd64.whl (376.0 MB)\n",
      "   ---------------------------------------- 0.0/376.0 MB ? eta -:--:--\n",
      "   ---------------------------------------- 1.8/376.0 MB 14.4 MB/s eta 0:00:26\n",
      "    --------------------------------------- 5.8/376.0 MB 16.8 MB/s eta 0:00:23\n",
      "   - -------------------------------------- 10.0/376.0 MB 19.4 MB/s eta 0:00:19\n",
      "   - -------------------------------------- 16.0/376.0 MB 21.0 MB/s eta 0:00:18\n",
      "   -- ------------------------------------- 19.9/376.0 MB 20.6 MB/s eta 0:00:18\n",
      "   -- ------------------------------------- 24.9/376.0 MB 21.3 MB/s eta 0:00:17\n",
      "   --- ------------------------------------ 28.8/376.0 MB 21.0 MB/s eta 0:00:17\n",
      "   --- ------------------------------------ 33.0/376.0 MB 21.0 MB/s eta 0:00:17\n",
      "   --- ------------------------------------ 37.2/376.0 MB 20.8 MB/s eta 0:00:17\n",
      "   ---- ----------------------------------- 41.4/376.0 MB 20.9 MB/s eta 0:00:17\n",
      "   ---- ----------------------------------- 46.4/376.0 MB 21.1 MB/s eta 0:00:16\n",
      "   ----- ---------------------------------- 50.9/376.0 MB 21.3 MB/s eta 0:00:16\n",
      "   ----- ---------------------------------- 55.3/376.0 MB 21.2 MB/s eta 0:00:16\n",
      "   ------ --------------------------------- 59.5/376.0 MB 21.1 MB/s eta 0:00:16\n",
      "   ------ --------------------------------- 64.5/376.0 MB 21.3 MB/s eta 0:00:15\n",
      "   ------- -------------------------------- 69.2/376.0 MB 21.4 MB/s eta 0:00:15\n",
      "   ------- -------------------------------- 73.7/376.0 MB 21.4 MB/s eta 0:00:15\n",
      "   -------- ------------------------------- 76.5/376.0 MB 21.4 MB/s eta 0:00:14\n",
      "   -------- ------------------------------- 81.5/376.0 MB 21.1 MB/s eta 0:00:14\n",
      "   --------- ------------------------------ 86.2/376.0 MB 21.2 MB/s eta 0:00:14\n",
      "   --------- ------------------------------ 90.4/376.0 MB 21.1 MB/s eta 0:00:14\n",
      "   ---------- ----------------------------- 95.2/376.0 MB 21.2 MB/s eta 0:00:14\n",
      "   ---------- ----------------------------- 99.9/376.0 MB 21.3 MB/s eta 0:00:13\n",
      "   ---------- ---------------------------- 104.9/376.0 MB 21.3 MB/s eta 0:00:13\n",
      "   ----------- --------------------------- 109.1/376.0 MB 21.2 MB/s eta 0:00:13\n",
      "   ----------- --------------------------- 113.8/376.0 MB 21.3 MB/s eta 0:00:13\n",
      "   ------------ -------------------------- 118.5/376.0 MB 21.3 MB/s eta 0:00:13\n",
      "   ------------ -------------------------- 123.2/376.0 MB 21.4 MB/s eta 0:00:12\n",
      "   ------------- ------------------------- 127.4/376.0 MB 21.4 MB/s eta 0:00:12\n",
      "   ------------- ------------------------- 131.1/376.0 MB 21.2 MB/s eta 0:00:12\n",
      "   -------------- ------------------------ 135.3/376.0 MB 21.2 MB/s eta 0:00:12\n",
      "   -------------- ------------------------ 140.2/376.0 MB 21.2 MB/s eta 0:00:12\n",
      "   -------------- ------------------------ 144.2/376.0 MB 21.2 MB/s eta 0:00:11\n",
      "   --------------- ----------------------- 148.4/376.0 MB 21.2 MB/s eta 0:00:11\n",
      "   --------------- ----------------------- 153.1/376.0 MB 21.2 MB/s eta 0:00:11\n",
      "   ---------------- ---------------------- 158.3/376.0 MB 21.3 MB/s eta 0:00:11\n",
      "   ---------------- ---------------------- 163.6/376.0 MB 21.4 MB/s eta 0:00:10\n",
      "   ----------------- --------------------- 168.8/376.0 MB 21.5 MB/s eta 0:00:10\n",
      "   ------------------ -------------------- 173.8/376.0 MB 21.5 MB/s eta 0:00:10\n",
      "   ------------------ -------------------- 179.0/376.0 MB 21.6 MB/s eta 0:00:10\n",
      "   ------------------- ------------------- 184.3/376.0 MB 21.7 MB/s eta 0:00:09\n",
      "   ------------------- ------------------- 189.0/376.0 MB 21.7 MB/s eta 0:00:09\n",
      "   -------------------- ------------------ 193.5/376.0 MB 21.7 MB/s eta 0:00:09\n",
      "   -------------------- ------------------ 198.7/376.0 MB 21.7 MB/s eta 0:00:09\n",
      "   --------------------- ----------------- 203.9/376.0 MB 21.8 MB/s eta 0:00:08\n",
      "   --------------------- ----------------- 209.2/376.0 MB 21.8 MB/s eta 0:00:08\n",
      "   ---------------------- ---------------- 214.2/376.0 MB 21.9 MB/s eta 0:00:08\n",
      "   ---------------------- ---------------- 219.4/376.0 MB 21.9 MB/s eta 0:00:08\n",
      "   ----------------------- --------------- 224.4/376.0 MB 22.0 MB/s eta 0:00:07\n",
      "   ----------------------- --------------- 229.4/376.0 MB 22.0 MB/s eta 0:00:07\n",
      "   ------------------------ -------------- 234.1/376.0 MB 22.0 MB/s eta 0:00:07\n",
      "   ------------------------ -------------- 239.3/376.0 MB 22.0 MB/s eta 0:00:07\n",
      "   ------------------------- ------------- 242.7/376.0 MB 21.9 MB/s eta 0:00:07\n",
      "   ------------------------- ------------- 247.5/376.0 MB 21.9 MB/s eta 0:00:06\n",
      "   -------------------------- ------------ 252.2/376.0 MB 21.9 MB/s eta 0:00:06\n",
      "   -------------------------- ------------ 256.4/376.0 MB 21.9 MB/s eta 0:00:06\n",
      "   -------------------------- ------------ 260.0/376.0 MB 21.8 MB/s eta 0:00:06\n",
      "   --------------------------- ----------- 263.2/376.0 MB 21.8 MB/s eta 0:00:06\n",
      "   --------------------------- ----------- 267.1/376.0 MB 21.8 MB/s eta 0:00:06\n",
      "   ---------------------------- ---------- 272.9/376.0 MB 21.9 MB/s eta 0:00:05\n",
      "   ---------------------------- ---------- 277.6/376.0 MB 21.7 MB/s eta 0:00:05\n",
      "   ----------------------------- --------- 282.3/376.0 MB 21.9 MB/s eta 0:00:05\n",
      "   ----------------------------- --------- 286.5/376.0 MB 21.8 MB/s eta 0:00:05\n",
      "   ------------------------------ -------- 291.8/376.0 MB 21.9 MB/s eta 0:00:04\n",
      "   ------------------------------ -------- 296.0/376.0 MB 21.9 MB/s eta 0:00:04\n",
      "   ------------------------------- ------- 300.9/376.0 MB 21.9 MB/s eta 0:00:04\n",
      "   ------------------------------- ------- 305.4/376.0 MB 21.9 MB/s eta 0:00:04\n",
      "   -------------------------------- ------ 309.3/376.0 MB 21.8 MB/s eta 0:00:04\n",
      "   -------------------------------- ------ 312.5/376.0 MB 21.6 MB/s eta 0:00:03\n",
      "   -------------------------------- ------ 317.2/376.0 MB 21.7 MB/s eta 0:00:03\n",
      "   --------------------------------- ----- 321.9/376.0 MB 21.8 MB/s eta 0:00:03\n",
      "   --------------------------------- ----- 327.2/376.0 MB 21.7 MB/s eta 0:00:03\n",
      "   ---------------------------------- ---- 332.4/376.0 MB 21.8 MB/s eta 0:00:03\n",
      "   ---------------------------------- ---- 337.4/376.0 MB 21.9 MB/s eta 0:00:02\n",
      "   ----------------------------------- --- 341.3/376.0 MB 21.9 MB/s eta 0:00:02\n",
      "   ----------------------------------- --- 345.2/376.0 MB 21.9 MB/s eta 0:00:02\n",
      "   ------------------------------------ -- 350.2/376.0 MB 21.9 MB/s eta 0:00:02\n",
      "   ------------------------------------ -- 354.7/376.0 MB 21.9 MB/s eta 0:00:01\n",
      "   ------------------------------------- - 359.7/376.0 MB 21.9 MB/s eta 0:00:01\n",
      "   ------------------------------------- - 364.6/376.0 MB 21.9 MB/s eta 0:00:01\n",
      "   --------------------------------------  369.6/376.0 MB 22.1 MB/s eta 0:00:01\n",
      "   --------------------------------------  374.3/376.0 MB 22.1 MB/s eta 0:00:01\n",
      "   --------------------------------------  375.9/376.0 MB 22.1 MB/s eta 0:00:01\n",
      "   --------------------------------------  375.9/376.0 MB 22.1 MB/s eta 0:00:01\n",
      "   --------------------------------------- 376.0/376.0 MB 21.1 MB/s eta 0:00:00\n",
      "Using cached absl_py-2.2.0-py3-none-any.whl (276 kB)\n",
      "Using cached astunparse-1.6.3-py2.py3-none-any.whl (12 kB)\n",
      "Using cached flatbuffers-25.2.10-py2.py3-none-any.whl (30 kB)\n",
      "Downloading gast-0.6.0-py3-none-any.whl (21 kB)\n",
      "Using cached google_pasta-0.2.0-py3-none-any.whl (57 kB)\n",
      "Downloading grpcio-1.71.0-cp312-cp312-win_amd64.whl (4.3 MB)\n",
      "   ---------------------------------------- 0.0/4.3 MB ? eta -:--:--\n",
      "   ----------------------------- ---------- 3.1/4.3 MB 23.1 MB/s eta 0:00:01\n",
      "   ---------------------------------------- 4.3/4.3 MB 12.2 MB/s eta 0:00:00\n",
      "Downloading keras-3.9.0-py3-none-any.whl (1.3 MB)\n",
      "   ---------------------------------------- 0.0/1.3 MB ? eta -:--:--\n",
      "   ---------------------------------------- 1.3/1.3 MB 23.5 MB/s eta 0:00:00\n",
      "Using cached libclang-18.1.1-py2.py3-none-win_amd64.whl (26.4 MB)\n",
      "Downloading ml_dtypes-0.5.1-cp312-cp312-win_amd64.whl (210 kB)\n",
      "Using cached opt_einsum-3.4.0-py3-none-any.whl (71 kB)\n",
      "Downloading tensorboard-2.19.0-py3-none-any.whl (5.5 MB)\n",
      "   ---------------------------------------- 0.0/5.5 MB ? eta -:--:--\n",
      "   ------------------------------------ --- 5.0/5.5 MB 23.2 MB/s eta 0:00:01\n",
      "   ---------------------------------------- 5.5/5.5 MB 21.0 MB/s eta 0:00:00\n",
      "Using cached termcolor-2.5.0-py3-none-any.whl (7.8 kB)\n",
      "Downloading tensorboard_data_server-0.7.2-py3-none-any.whl (2.4 kB)\n",
      "Downloading namex-0.0.8-py3-none-any.whl (5.8 kB)\n",
      "Downloading optree-0.14.1-cp312-cp312-win_amd64.whl (306 kB)\n",
      "Installing collected packages: namex, libclang, flatbuffers, termcolor, tensorboard-data-server, optree, opt-einsum, ml-dtypes, grpcio, google-pasta, gast, astunparse, absl-py, tensorboard, keras, tensorflow\n",
      "Successfully installed absl-py-2.2.0 astunparse-1.6.3 flatbuffers-25.2.10 gast-0.6.0 google-pasta-0.2.0 grpcio-1.71.0 keras-3.9.0 libclang-18.1.1 ml-dtypes-0.5.1 namex-0.0.8 opt-einsum-3.4.0 optree-0.14.1 tensorboard-2.19.0 tensorboard-data-server-0.7.2 tensorflow-2.19.0 termcolor-2.5.0\n",
      "Note: you may need to restart the kernel to use updated packages.\n",
      "[]\n"
     ]
    }
   ],
   "source": [
    "%pip install tensorflow\n",
    "\n",
    "import tensorflow as tf\n",
    "print(tf.config.list_physical_devices('GPU'))"
   ]
  },
  {
   "cell_type": "code",
   "execution_count": 3,
   "metadata": {},
   "outputs": [
    {
     "name": "stdout",
     "output_type": "stream",
     "text": [
      "The result of the computation is: 25555555\n"
     ]
    }
   ],
   "source": [
    "# Test TensorFlow by creating a simple computation\n",
    "a = tf.constant(22222222)\n",
    "b = tf.constant(3333333)\n",
    "c = a + b\n",
    "print(f\"The result of the computation is: {c.numpy()}\")"
   ]
  },
  {
   "cell_type": "code",
   "execution_count": 12,
   "metadata": {},
   "outputs": [
    {
     "name": "stdout",
     "output_type": "stream",
     "text": [
      "GPU is available!\n",
      "Epoch 1/10\n",
      "938/938 [==============================] - 5s 4ms/step - loss: 0.1727 - accuracy: 0.9475 - val_loss: 0.0504 - val_accuracy: 0.9826\n",
      "Epoch 2/10\n",
      "938/938 [==============================] - 4s 4ms/step - loss: 0.0483 - accuracy: 0.9852 - val_loss: 0.0449 - val_accuracy: 0.9855\n",
      "Epoch 3/10\n",
      "938/938 [==============================] - 3s 3ms/step - loss: 0.0347 - accuracy: 0.9893 - val_loss: 0.0268 - val_accuracy: 0.9913\n",
      "Epoch 4/10\n",
      "938/938 [==============================] - 3s 3ms/step - loss: 0.0269 - accuracy: 0.9915 - val_loss: 0.0350 - val_accuracy: 0.9888\n",
      "Epoch 5/10\n",
      "938/938 [==============================] - 3s 3ms/step - loss: 0.0225 - accuracy: 0.9927 - val_loss: 0.0253 - val_accuracy: 0.9909\n",
      "Epoch 6/10\n",
      "938/938 [==============================] - 3s 3ms/step - loss: 0.0177 - accuracy: 0.9947 - val_loss: 0.0307 - val_accuracy: 0.9898\n",
      "Epoch 7/10\n",
      "938/938 [==============================] - 3s 3ms/step - loss: 0.0149 - accuracy: 0.9953 - val_loss: 0.0289 - val_accuracy: 0.9923\n",
      "Epoch 8/10\n",
      "938/938 [==============================] - 3s 3ms/step - loss: 0.0127 - accuracy: 0.9961 - val_loss: 0.0284 - val_accuracy: 0.9919\n",
      "Epoch 9/10\n",
      "938/938 [==============================] - 3s 3ms/step - loss: 0.0119 - accuracy: 0.9961 - val_loss: 0.0386 - val_accuracy: 0.9893\n",
      "Epoch 10/10\n",
      "938/938 [==============================] - 3s 3ms/step - loss: 0.0099 - accuracy: 0.9964 - val_loss: 0.0405 - val_accuracy: 0.9884\n",
      "Training Time: 33.1925048828125 seconds\n",
      "Device: /physical_device:CPU:0, Type: CPU\n",
      "Device: /physical_device:GPU:0, Type: GPU\n"
     ]
    }
   ],
   "source": [
    "import tensorflow as tf\n",
    "from tensorflow.keras.datasets import mnist\n",
    "import time\n",
    "\n",
    "# Check if GPU is available\n",
    "physical_devices = tf.config.list_physical_devices('GPU')\n",
    "if physical_devices:\n",
    "    print(\"GPU is available!\")\n",
    "else:\n",
    "    print(\"GPU is not available. Using CPU.\")\n",
    "\n",
    "# Load MNIST dataset\n",
    "(x_train, y_train), (x_test, y_test) = mnist.load_data()\n",
    "x_train, x_test = x_train / 255.0, x_test / 255.0  # Normalize the images\n",
    "\n",
    "# Reshape data to fit the model\n",
    "x_train = x_train.reshape(-1, 28, 28, 1)\n",
    "x_test = x_test.reshape(-1, 28, 28, 1)\n",
    "\n",
    "# Create a deep CNN model\n",
    "model = tf.keras.Sequential([\n",
    "    tf.keras.layers.Conv2D(32, (3, 3), activation='relu', input_shape=(28, 28, 1)),\n",
    "    tf.keras.layers.MaxPooling2D((2, 2)),\n",
    "    tf.keras.layers.Conv2D(64, (3, 3), activation='relu'),\n",
    "    tf.keras.layers.MaxPooling2D((2, 2)),\n",
    "    tf.keras.layers.Conv2D(64, (3, 3), activation='relu'),\n",
    "    tf.keras.layers.Flatten(),\n",
    "    tf.keras.layers.Dense(64, activation='relu'),\n",
    "    tf.keras.layers.Dense(10, activation='softmax')\n",
    "])\n",
    "\n",
    "# Compile the model\n",
    "model.compile(optimizer='adam', loss='sparse_categorical_crossentropy', metrics=['accuracy'])\n",
    "\n",
    "# Start a timer to track execution time\n",
    "start_time = time.time()\n",
    "\n",
    "# Train the model on the MNIST dataset\n",
    "model.fit(x_train, y_train, epochs=10, batch_size=64, validation_data=(x_test, y_test))\n",
    "\n",
    "end_time = time.time()\n",
    "print(f\"Training Time: {end_time - start_time} seconds\")\n",
    "\n",
    "# Check which device is being used\n",
    "for device in tf.config.list_physical_devices():\n",
    "    print(f\"Device: {device.name}, Type: {device.device_type}\")\n"
   ]
  },
  {
   "cell_type": "code",
   "execution_count": 11,
   "metadata": {},
   "outputs": [
    {
     "name": "stdout",
     "output_type": "stream",
     "text": [
      "Time taken on /CPU:0: 0.5573 seconds\n",
      "Time taken on /GPU:0: 0.0690 seconds\n"
     ]
    }
   ],
   "source": [
    "import tensorflow as tf\n",
    "import time\n",
    "\n",
    "# create large matrices\n",
    "size = 5000  # try increasing this if your gpu can handle it\n",
    "a = tf.random.normal((size, size))\n",
    "b = tf.random.normal((size, size))\n",
    "\n",
    "# function to measure execution time\n",
    "def measure_time(device):\n",
    "    with tf.device(device):\n",
    "        start = time.time()\n",
    "        result = tf.matmul(a, b)\n",
    "        tf.keras.backend.eval(result)  # force computation\n",
    "        end = time.time()\n",
    "        print(f\"Time taken on {device}: {end - start:.4f} seconds\")\n",
    "\n",
    "# test on cpu and gpu\n",
    "measure_time('/CPU:0')\n",
    "if tf.config.list_physical_devices('GPU'):\n",
    "    measure_time('/GPU:0')\n"
   ]
  },
  {
   "cell_type": "code",
   "execution_count": 3,
   "metadata": {},
   "outputs": [],
   "source": [
    "tf.debugging.set_log_device_placement(True)"
   ]
  },
  {
   "cell_type": "code",
   "execution_count": 4,
   "metadata": {},
   "outputs": [
    {
     "name": "stdout",
     "output_type": "stream",
     "text": [
      "OrderedDict([('cpu_compiler', 'C:/Program Files (x86)/Microsoft Visual Studio/2019/Community/VC/Tools/MSVC/14.29.30133/bin/HostX64/x64/cl.exe'), ('cuda_compute_capabilities', ['sm_35', 'sm_50', 'sm_60', 'sm_70', 'sm_75', 'compute_80']), ('cuda_version', '64_112'), ('cudart_dll_name', 'cudart64_112.dll'), ('cudnn_dll_name', 'cudnn64_8.dll'), ('cudnn_version', '64_8'), ('is_cuda_build', True), ('is_rocm_build', False), ('is_tensorrt_build', False), ('msvcp_dll_names', 'msvcp140.dll,msvcp140_1.dll'), ('nvcuda_dll_name', 'nvcuda.dll')])\n"
     ]
    }
   ],
   "source": [
    "import tensorflow as tf\n",
    "print(tf.sysconfig.get_build_info())"
   ]
  },
  {
   "cell_type": "code",
   "execution_count": 9,
   "metadata": {},
   "outputs": [
    {
     "name": "stdout",
     "output_type": "stream",
     "text": [
      "None\n"
     ]
    }
   ],
   "source": [
    "print(tf.config.experimental.get_memory_growth(tf.config.list_physical_devices('GPU')[0]))"
   ]
  },
  {
   "cell_type": "code",
   "execution_count": 6,
   "metadata": {},
   "outputs": [],
   "source": [
    "tf.config.optimizer.set_jit(True)"
   ]
  },
  {
   "cell_type": "code",
   "execution_count": null,
   "metadata": {},
   "outputs": [],
   "source": []
  }
 ],
 "metadata": {
  "kernelspec": {
   "display_name": "gpu_env",
   "language": "python",
   "name": "python3"
  },
  "language_info": {
   "codemirror_mode": {
    "name": "ipython",
    "version": 3
   },
   "file_extension": ".py",
   "mimetype": "text/x-python",
   "name": "python",
   "nbconvert_exporter": "python",
   "pygments_lexer": "ipython3",
   "version": "3.9.21"
  }
 },
 "nbformat": 4,
 "nbformat_minor": 2
}
